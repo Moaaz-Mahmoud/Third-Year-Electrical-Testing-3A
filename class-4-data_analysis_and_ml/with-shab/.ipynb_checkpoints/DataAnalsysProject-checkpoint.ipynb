{
 "cells": [
  {
   "cell_type": "code",
   "execution_count": 1,
   "metadata": {
    "tags": []
   },
   "outputs": [],
   "source": [
    "import numpy as np\n",
    "import pandas as pd\n",
    "import seaborn as sns\n",
    "%matplotlib inline\n",
    "from matplotlib import pyplot as plt\n",
    "from matplotlib import style\n",
    "from sklearn import linear_model\n",
    "from sklearn.linear_model import LogisticRegression\n",
    "from sklearn.linear_model import LinearRegression\n",
    "from sklearn.ensemble import RandomForestClassifier\n",
    "from sklearn.linear_model import Perceptron\n",
    "from sklearn.linear_model import SGDClassifier\n",
    "from sklearn.tree import DecisionTreeClassifier\n",
    "from sklearn.neighbors import KNeighborsClassifier\n",
    "from sklearn.svm import SVC, LinearSVC\n",
    "from sklearn.naive_bayes import GaussianNB\n",
    "from sklearn.model_selection import train_test_split\n",
    "from sklearn.tree import DecisionTreeRegressor\n",
    "from sklearn.metrics import mean_absolute_error\n",
    "from sklearn.metrics import r2_score\n",
    "df = pd.read_csv(\"E:\\Moaaz\\class-4-ml\\Energy_and_Water_Data_Disclosure_for_Local_Law_84_2017__Data_for_Calendar_Year_2016_.csv\")\n"
   ]
  },
  {
   "cell_type": "markdown",
   "metadata": {},
   "source": [
    "# convert null to mean"
   ]
  },
  {
   "cell_type": "code",
   "execution_count": 2,
   "metadata": {},
   "outputs": [
    {
     "data": {
      "text/html": [
       "<div>\n",
       "<style scoped>\n",
       "    .dataframe tbody tr th:only-of-type {\n",
       "        vertical-align: middle;\n",
       "    }\n",
       "\n",
       "    .dataframe tbody tr th {\n",
       "        vertical-align: top;\n",
       "    }\n",
       "\n",
       "    .dataframe thead th {\n",
       "        text-align: right;\n",
       "    }\n",
       "</style>\n",
       "<table border=\"1\" class=\"dataframe\">\n",
       "  <thead>\n",
       "    <tr style=\"text-align: right;\">\n",
       "      <th></th>\n",
       "      <th>Total</th>\n",
       "      <th>%</th>\n",
       "    </tr>\n",
       "  </thead>\n",
       "  <tbody>\n",
       "    <tr>\n",
       "      <th>NTA</th>\n",
       "      <td>2129</td>\n",
       "      <td>18.6</td>\n",
       "    </tr>\n",
       "    <tr>\n",
       "      <th>Census Tract</th>\n",
       "      <td>2129</td>\n",
       "      <td>18.6</td>\n",
       "    </tr>\n",
       "    <tr>\n",
       "      <th>Council District</th>\n",
       "      <td>2129</td>\n",
       "      <td>18.6</td>\n",
       "    </tr>\n",
       "    <tr>\n",
       "      <th>Community Board</th>\n",
       "      <td>2129</td>\n",
       "      <td>18.6</td>\n",
       "    </tr>\n",
       "    <tr>\n",
       "      <th>Longitude</th>\n",
       "      <td>2129</td>\n",
       "      <td>18.6</td>\n",
       "    </tr>\n",
       "    <tr>\n",
       "      <th>Latitude</th>\n",
       "      <td>2129</td>\n",
       "      <td>18.6</td>\n",
       "    </tr>\n",
       "    <tr>\n",
       "      <th>Street Number</th>\n",
       "      <td>121</td>\n",
       "      <td>1.1</td>\n",
       "    </tr>\n",
       "    <tr>\n",
       "      <th>Street Name</th>\n",
       "      <td>119</td>\n",
       "      <td>1.0</td>\n",
       "    </tr>\n",
       "    <tr>\n",
       "      <th>Borough</th>\n",
       "      <td>115</td>\n",
       "      <td>1.0</td>\n",
       "    </tr>\n",
       "    <tr>\n",
       "      <th>DOF Gross Floor Area</th>\n",
       "      <td>115</td>\n",
       "      <td>1.0</td>\n",
       "    </tr>\n",
       "    <tr>\n",
       "      <th>Water Required?</th>\n",
       "      <td>107</td>\n",
       "      <td>0.9</td>\n",
       "    </tr>\n",
       "    <tr>\n",
       "      <th>BBL - 10 digits</th>\n",
       "      <td>12</td>\n",
       "      <td>0.1</td>\n",
       "    </tr>\n",
       "    <tr>\n",
       "      <th>Diesel #2 Use (kBtu)</th>\n",
       "      <td>1</td>\n",
       "      <td>0.0</td>\n",
       "    </tr>\n",
       "    <tr>\n",
       "      <th>Weather Normalized Site Natural Gas Use (therms)</th>\n",
       "      <td>1</td>\n",
       "      <td>0.0</td>\n",
       "    </tr>\n",
       "    <tr>\n",
       "      <th>Natural Gas Use (kBtu)</th>\n",
       "      <td>1</td>\n",
       "      <td>0.0</td>\n",
       "    </tr>\n",
       "    <tr>\n",
       "      <th>District Steam Use (kBtu)</th>\n",
       "      <td>1</td>\n",
       "      <td>0.0</td>\n",
       "    </tr>\n",
       "    <tr>\n",
       "      <th>Fuel Oil #4 Use (kBtu)</th>\n",
       "      <td>1</td>\n",
       "      <td>0.0</td>\n",
       "    </tr>\n",
       "    <tr>\n",
       "      <th>Fuel Oil #5 &amp; 6 Use (kBtu)</th>\n",
       "      <td>1</td>\n",
       "      <td>0.0</td>\n",
       "    </tr>\n",
       "    <tr>\n",
       "      <th>Weather Normalized Site Electricity (kWh)</th>\n",
       "      <td>1</td>\n",
       "      <td>0.0</td>\n",
       "    </tr>\n",
       "    <tr>\n",
       "      <th>Fuel Oil #2 Use (kBtu)</th>\n",
       "      <td>1</td>\n",
       "      <td>0.0</td>\n",
       "    </tr>\n",
       "  </tbody>\n",
       "</table>\n",
       "</div>"
      ],
      "text/plain": [
       "                                                  Total     %\n",
       "NTA                                                2129  18.6\n",
       "Census Tract                                       2129  18.6\n",
       "Council District                                   2129  18.6\n",
       "Community Board                                    2129  18.6\n",
       "Longitude                                          2129  18.6\n",
       "Latitude                                           2129  18.6\n",
       "Street Number                                       121   1.1\n",
       "Street Name                                         119   1.0\n",
       "Borough                                             115   1.0\n",
       "DOF Gross Floor Area                                115   1.0\n",
       "Water Required?                                     107   0.9\n",
       "BBL - 10 digits                                      12   0.1\n",
       "Diesel #2 Use (kBtu)                                  1   0.0\n",
       "Weather Normalized Site Natural Gas Use (therms)      1   0.0\n",
       "Natural Gas Use (kBtu)                                1   0.0\n",
       "District Steam Use (kBtu)                             1   0.0\n",
       "Fuel Oil #4 Use (kBtu)                                1   0.0\n",
       "Fuel Oil #5 & 6 Use (kBtu)                            1   0.0\n",
       "Weather Normalized Site Electricity (kWh)             1   0.0\n",
       "Fuel Oil #2 Use (kBtu)                                1   0.0"
      ]
     },
     "execution_count": 2,
     "metadata": {},
     "output_type": "execute_result"
    }
   ],
   "source": [
    "\n",
    "# new_NTA =np.where(df[\"NTA\"].isnull(),df[\"NTA\"].mean,df[\"NTA\"])\n",
    "# df[\"NTA\"]=new_NTA\n",
    "# new_CensusTract =np.where(df[\"Census Tract\"].isnull(),df[\"Census Tract\"].mean,df[\"Census Tract\"])\n",
    "# df[\"Census Tract\"]=new_CensusTract\n",
    "# new_CouncilDistrict =np.where(df[\"Council District\"].isnull(),df[\"Council District\"].mean,df[\"Council District\"])\n",
    "# df[\"Council District\"]=new_CouncilDistrict\n",
    "# new_CommunityBoard =np.where(df[\"Community Board\"].isnull(),df[\"Community Board\"].mean,df[\"Community Board\"])\n",
    "# df[\"Community Board\"]=new_CommunityBoard\n",
    "# new_Longitude =np.where(df[\"Longitude\"].isnull(),df[\"Longitude\"].mean,df[\"Longitude\"])\n",
    "# df[\"Longitude\"]=new_Longitude\n",
    "# new_Latitude =np.where(df[\"Latitude\"].isnull(),df[\"Latitude\"].mean,df[\"Latitude\"])\n",
    "# df[\"Latitude\"]=new_Latitude\n",
    "# new_StreetNumber =np.where(df[\"Street Number\"].isnull(),df[\"Street Number\"].mean,df[\"Street Number\"])\n",
    "# df[\"Street Number\"]=new_StreetNumber\n",
    "# new_StreetName =np.where(df[\"Street Name\"].isnull(),df[\"Street Name\"].mean,df[\"Street Name\"])\n",
    "# df[\"Street Name\"]=new_StreetName\n",
    "# new_Borough =np.where(df[\"Borough\"].isnull(),df[\"Borough\"].mean,df[\"Borough\"])\n",
    "# df[\"Borough\"]=new_Borough\n",
    "# new_DOFGrossFloorArea =np.where(df[\"DOF Gross Floor Area\"].isnull(),df[\"DOF Gross Floor Area\"].mean,df[\"DOF Gross Floor Area\"])\n",
    "# df[\"DOF Gross Floor Area\"]=new_DOFGrossFloorArea\n",
    "# new_WaterRequired =np.where(df[\"Water Required?\"].isnull(),df[\"Water Required?\"].mean,df[\"Water Required?\"])\n",
    "# df[\"Water Required?\"]=new_WaterRequired\n",
    "# new_BBL_10digits =np.where(df[\"BBL - 10 digits\"].isnull(),df[\"BBL - 10 digits\"].mean,df[\"BBL - 10 digits\"])\n",
    "# df[\"BBL - 10 digits\"]=new_BBL_10digits\n",
    "\n",
    "\n",
    "total = df.isnull().sum().sort_values(ascending=False)\n",
    "percent_1 = df.isnull().sum()/df.isnull().count()*100\n",
    "percent_2 = (round(percent_1, 1)).sort_values(ascending=False)\n",
    "missing_data = pd.concat([total, percent_2], axis=1, keys=['Total', '%'])\n",
    "\n",
    "missing_data.head(20)\n",
    "# df.describe()"
   ]
  },
  {
   "cell_type": "markdown",
   "metadata": {},
   "source": [
    "#  chosing wanted columns and drop na"
   ]
  },
  {
   "cell_type": "code",
   "execution_count": 3,
   "metadata": {},
   "outputs": [],
   "source": [
    "# df = df[df.columns[[1, 24, 34, 35, 36, 37, 38, 40, 41, 42, 43, 47, 48, 50]]]\n",
    "# df.drop_duplicates(inplace=True)\n",
    "# df.dropna(inplace=True)\n"
   ]
  },
  {
   "cell_type": "code",
   "execution_count": 4,
   "metadata": {},
   "outputs": [],
   "source": [
    "# for col in df.columns:\n",
    "#    mean = pd.to_numeric(df[col], errors='coerce').mean()\n",
    "#    df[col].replace('Not Available', mean)\n",
    "# df.head(11)"
   ]
  },
  {
   "cell_type": "code",
   "execution_count": 5,
   "metadata": {},
   "outputs": [
    {
     "data": {
      "text/plain": [
       "Index(['Property Id', 'Number of Buildings - Self-reported',\n",
       "       'Fuel Oil #1 Use (kBtu)', 'Fuel Oil #2 Use (kBtu)',\n",
       "       'Fuel Oil #4 Use (kBtu)', 'Fuel Oil #5 & 6 Use (kBtu)',\n",
       "       'Diesel #2 Use (kBtu)', 'Natural Gas Use (kBtu)',\n",
       "       'Weather Normalized Site Natural Gas Use (therms)',\n",
       "       'Electricity Use - Grid Purchase (kBtu)',\n",
       "       'Weather Normalized Site Electricity (kWh)',\n",
       "       'Property GFA - Self-Reported (ft²)',\n",
       "       'Water Use (All Water Sources) (kgal)', 'Source EUI (kBtu/ft²)'],\n",
       "      dtype='object')"
      ]
     },
     "execution_count": 5,
     "metadata": {},
     "output_type": "execute_result"
    }
   ],
   "source": [
    "df.columns"
   ]
  },
  {
   "cell_type": "markdown",
   "metadata": {},
   "source": [
    "# change Not Available to zero"
   ]
  },
  {
   "cell_type": "code",
   "execution_count": 6,
   "metadata": {},
   "outputs": [
    {
     "data": {
      "text/html": [
       "<div>\n",
       "<style scoped>\n",
       "    .dataframe tbody tr th:only-of-type {\n",
       "        vertical-align: middle;\n",
       "    }\n",
       "\n",
       "    .dataframe tbody tr th {\n",
       "        vertical-align: top;\n",
       "    }\n",
       "\n",
       "    .dataframe thead th {\n",
       "        text-align: right;\n",
       "    }\n",
       "</style>\n",
       "<table border=\"1\" class=\"dataframe\">\n",
       "  <thead>\n",
       "    <tr style=\"text-align: right;\">\n",
       "      <th></th>\n",
       "      <th>Property Id</th>\n",
       "      <th>Number of Buildings - Self-reported</th>\n",
       "      <th>Fuel Oil #1 Use (kBtu)</th>\n",
       "      <th>Fuel Oil #2 Use (kBtu)</th>\n",
       "      <th>Fuel Oil #4 Use (kBtu)</th>\n",
       "      <th>Fuel Oil #5 &amp; 6 Use (kBtu)</th>\n",
       "      <th>Diesel #2 Use (kBtu)</th>\n",
       "      <th>Natural Gas Use (kBtu)</th>\n",
       "      <th>Weather Normalized Site Natural Gas Use (therms)</th>\n",
       "      <th>Electricity Use - Grid Purchase (kBtu)</th>\n",
       "      <th>Weather Normalized Site Electricity (kWh)</th>\n",
       "      <th>Property GFA - Self-Reported (ft²)</th>\n",
       "      <th>Water Use (All Water Sources) (kgal)</th>\n",
       "      <th>Source EUI (kBtu/ft²)</th>\n",
       "    </tr>\n",
       "  </thead>\n",
       "  <tbody>\n",
       "    <tr>\n",
       "      <th>0</th>\n",
       "      <td>13286</td>\n",
       "      <td>2.0</td>\n",
       "      <td>0</td>\n",
       "      <td>0</td>\n",
       "      <td>0</td>\n",
       "      <td>0</td>\n",
       "      <td>0</td>\n",
       "      <td>0</td>\n",
       "      <td>0</td>\n",
       "      <td>38139374.2</td>\n",
       "      <td>1.10827705E7</td>\n",
       "      <td>762051.0</td>\n",
       "      <td>0</td>\n",
       "      <td>619.4</td>\n",
       "    </tr>\n",
       "    <tr>\n",
       "      <th>1</th>\n",
       "      <td>28400</td>\n",
       "      <td>12.0</td>\n",
       "      <td>0</td>\n",
       "      <td>1.96248472E7</td>\n",
       "      <td>0</td>\n",
       "      <td>0</td>\n",
       "      <td>0</td>\n",
       "      <td>933073441</td>\n",
       "      <td>9330734.4</td>\n",
       "      <td>332365924</td>\n",
       "      <td>9.62613121E7</td>\n",
       "      <td>3889181.0</td>\n",
       "      <td>0</td>\n",
       "      <td>404.3</td>\n",
       "    </tr>\n",
       "    <tr>\n",
       "      <th>2</th>\n",
       "      <td>4778226</td>\n",
       "      <td>1.0</td>\n",
       "      <td>0</td>\n",
       "      <td>0</td>\n",
       "      <td>0</td>\n",
       "      <td>0</td>\n",
       "      <td>0</td>\n",
       "      <td>0</td>\n",
       "      <td>0</td>\n",
       "      <td>0</td>\n",
       "      <td>0</td>\n",
       "      <td>231342.0</td>\n",
       "      <td>0</td>\n",
       "      <td>0</td>\n",
       "    </tr>\n",
       "    <tr>\n",
       "      <th>3</th>\n",
       "      <td>4778267</td>\n",
       "      <td>1.0</td>\n",
       "      <td>0</td>\n",
       "      <td>0</td>\n",
       "      <td>0</td>\n",
       "      <td>0</td>\n",
       "      <td>0</td>\n",
       "      <td>0</td>\n",
       "      <td>0</td>\n",
       "      <td>0</td>\n",
       "      <td>0</td>\n",
       "      <td>1305748.0</td>\n",
       "      <td>0</td>\n",
       "      <td>0</td>\n",
       "    </tr>\n",
       "    <tr>\n",
       "      <th>4</th>\n",
       "      <td>4778288</td>\n",
       "      <td>1.0</td>\n",
       "      <td>0</td>\n",
       "      <td>0</td>\n",
       "      <td>0</td>\n",
       "      <td>0</td>\n",
       "      <td>0</td>\n",
       "      <td>0</td>\n",
       "      <td>0</td>\n",
       "      <td>0</td>\n",
       "      <td>0</td>\n",
       "      <td>179694.0</td>\n",
       "      <td>0</td>\n",
       "      <td>0</td>\n",
       "    </tr>\n",
       "    <tr>\n",
       "      <th>5</th>\n",
       "      <td>28402</td>\n",
       "      <td>12.0</td>\n",
       "      <td>0</td>\n",
       "      <td>2.00832154E7</td>\n",
       "      <td>0</td>\n",
       "      <td>0</td>\n",
       "      <td>0</td>\n",
       "      <td>1.4322508769E9</td>\n",
       "      <td>1.43225088E7</td>\n",
       "      <td>86335350.5</td>\n",
       "      <td>2.45508594E7</td>\n",
       "      <td>2971874.0</td>\n",
       "      <td>0</td>\n",
       "      <td>414.2</td>\n",
       "    </tr>\n",
       "    <tr>\n",
       "      <th>6</th>\n",
       "      <td>4778352</td>\n",
       "      <td>1.0</td>\n",
       "      <td>0</td>\n",
       "      <td>0</td>\n",
       "      <td>0</td>\n",
       "      <td>0</td>\n",
       "      <td>0</td>\n",
       "      <td>0</td>\n",
       "      <td>0</td>\n",
       "      <td>0</td>\n",
       "      <td>0</td>\n",
       "      <td>245000.0</td>\n",
       "      <td>0</td>\n",
       "      <td>0</td>\n",
       "    </tr>\n",
       "    <tr>\n",
       "      <th>7</th>\n",
       "      <td>2610789</td>\n",
       "      <td>4.0</td>\n",
       "      <td>0</td>\n",
       "      <td>1.37367028E7</td>\n",
       "      <td>0</td>\n",
       "      <td>0</td>\n",
       "      <td>0</td>\n",
       "      <td>394285242148</td>\n",
       "      <td>3.9428524215E9</td>\n",
       "      <td>0</td>\n",
       "      <td>0</td>\n",
       "      <td>2738875.0</td>\n",
       "      <td>107151.5</td>\n",
       "      <td>151172.9</td>\n",
       "    </tr>\n",
       "    <tr>\n",
       "      <th>8</th>\n",
       "      <td>2611745</td>\n",
       "      <td>1.0</td>\n",
       "      <td>0</td>\n",
       "      <td>0</td>\n",
       "      <td>0</td>\n",
       "      <td>0</td>\n",
       "      <td>0</td>\n",
       "      <td>0</td>\n",
       "      <td>0</td>\n",
       "      <td>227658.1</td>\n",
       "      <td>63979.9</td>\n",
       "      <td>200.0</td>\n",
       "      <td>19261.1</td>\n",
       "      <td>3574.2</td>\n",
       "    </tr>\n",
       "    <tr>\n",
       "      <th>9</th>\n",
       "      <td>3616379</td>\n",
       "      <td>1.0</td>\n",
       "      <td>0</td>\n",
       "      <td>0</td>\n",
       "      <td>0</td>\n",
       "      <td>0</td>\n",
       "      <td>0</td>\n",
       "      <td>0</td>\n",
       "      <td>0</td>\n",
       "      <td>0</td>\n",
       "      <td>0</td>\n",
       "      <td>912892.0</td>\n",
       "      <td>0</td>\n",
       "      <td>0</td>\n",
       "    </tr>\n",
       "    <tr>\n",
       "      <th>10</th>\n",
       "      <td>5870374</td>\n",
       "      <td>1.0</td>\n",
       "      <td>0</td>\n",
       "      <td>0</td>\n",
       "      <td>0</td>\n",
       "      <td>0</td>\n",
       "      <td>0</td>\n",
       "      <td>0</td>\n",
       "      <td>0</td>\n",
       "      <td>0</td>\n",
       "      <td>0</td>\n",
       "      <td>912892.0</td>\n",
       "      <td>0</td>\n",
       "      <td>0</td>\n",
       "    </tr>\n",
       "  </tbody>\n",
       "</table>\n",
       "</div>"
      ],
      "text/plain": [
       "    Property Id  Number of Buildings - Self-reported Fuel Oil #1 Use (kBtu)  \\\n",
       "0         13286                                  2.0                      0   \n",
       "1         28400                                 12.0                      0   \n",
       "2       4778226                                  1.0                      0   \n",
       "3       4778267                                  1.0                      0   \n",
       "4       4778288                                  1.0                      0   \n",
       "5         28402                                 12.0                      0   \n",
       "6       4778352                                  1.0                      0   \n",
       "7       2610789                                  4.0                      0   \n",
       "8       2611745                                  1.0                      0   \n",
       "9       3616379                                  1.0                      0   \n",
       "10      5870374                                  1.0                      0   \n",
       "\n",
       "   Fuel Oil #2 Use (kBtu) Fuel Oil #4 Use (kBtu) Fuel Oil #5 & 6 Use (kBtu)  \\\n",
       "0                       0                      0                          0   \n",
       "1            1.96248472E7                      0                          0   \n",
       "2                       0                      0                          0   \n",
       "3                       0                      0                          0   \n",
       "4                       0                      0                          0   \n",
       "5            2.00832154E7                      0                          0   \n",
       "6                       0                      0                          0   \n",
       "7            1.37367028E7                      0                          0   \n",
       "8                       0                      0                          0   \n",
       "9                       0                      0                          0   \n",
       "10                      0                      0                          0   \n",
       "\n",
       "   Diesel #2 Use (kBtu) Natural Gas Use (kBtu)  \\\n",
       "0                     0                      0   \n",
       "1                     0              933073441   \n",
       "2                     0                      0   \n",
       "3                     0                      0   \n",
       "4                     0                      0   \n",
       "5                     0         1.4322508769E9   \n",
       "6                     0                      0   \n",
       "7                     0           394285242148   \n",
       "8                     0                      0   \n",
       "9                     0                      0   \n",
       "10                    0                      0   \n",
       "\n",
       "   Weather Normalized Site Natural Gas Use (therms)  \\\n",
       "0                                                 0   \n",
       "1                                         9330734.4   \n",
       "2                                                 0   \n",
       "3                                                 0   \n",
       "4                                                 0   \n",
       "5                                      1.43225088E7   \n",
       "6                                                 0   \n",
       "7                                    3.9428524215E9   \n",
       "8                                                 0   \n",
       "9                                                 0   \n",
       "10                                                0   \n",
       "\n",
       "   Electricity Use - Grid Purchase (kBtu)  \\\n",
       "0                              38139374.2   \n",
       "1                               332365924   \n",
       "2                                       0   \n",
       "3                                       0   \n",
       "4                                       0   \n",
       "5                              86335350.5   \n",
       "6                                       0   \n",
       "7                                       0   \n",
       "8                                227658.1   \n",
       "9                                       0   \n",
       "10                                      0   \n",
       "\n",
       "   Weather Normalized Site Electricity (kWh)  \\\n",
       "0                               1.10827705E7   \n",
       "1                               9.62613121E7   \n",
       "2                                          0   \n",
       "3                                          0   \n",
       "4                                          0   \n",
       "5                               2.45508594E7   \n",
       "6                                          0   \n",
       "7                                          0   \n",
       "8                                    63979.9   \n",
       "9                                          0   \n",
       "10                                         0   \n",
       "\n",
       "    Property GFA - Self-Reported (ft²) Water Use (All Water Sources) (kgal)  \\\n",
       "0                             762051.0                                    0   \n",
       "1                            3889181.0                                    0   \n",
       "2                             231342.0                                    0   \n",
       "3                            1305748.0                                    0   \n",
       "4                             179694.0                                    0   \n",
       "5                            2971874.0                                    0   \n",
       "6                             245000.0                                    0   \n",
       "7                            2738875.0                             107151.5   \n",
       "8                                200.0                              19261.1   \n",
       "9                             912892.0                                    0   \n",
       "10                            912892.0                                    0   \n",
       "\n",
       "   Source EUI (kBtu/ft²)  \n",
       "0                  619.4  \n",
       "1                  404.3  \n",
       "2                      0  \n",
       "3                      0  \n",
       "4                      0  \n",
       "5                  414.2  \n",
       "6                      0  \n",
       "7               151172.9  \n",
       "8                 3574.2  \n",
       "9                      0  \n",
       "10                     0  "
      ]
     },
     "execution_count": 6,
     "metadata": {},
     "output_type": "execute_result"
    }
   ],
   "source": [
    "for col in df.columns: \n",
    "    new =np.where(df[col]==\"Not Available\",0,df[col]) \n",
    "    df[col]=new\n",
    "df.head(11)"
   ]
  },
  {
   "cell_type": "markdown",
   "metadata": {},
   "source": [
    "# change type of colums"
   ]
  },
  {
   "cell_type": "markdown",
   "metadata": {},
   "source": [
    "<!-- change type of colums -->"
   ]
  },
  {
   "cell_type": "code",
   "execution_count": 7,
   "metadata": {},
   "outputs": [],
   "source": [
    "for col in df.columns:\n",
    "    df[col]=df[col].astype(float)"
   ]
  },
  {
   "cell_type": "markdown",
   "metadata": {},
   "source": [
    "# compine multi colums"
   ]
  },
  {
   "cell_type": "code",
   "execution_count": 8,
   "metadata": {},
   "outputs": [],
   "source": [
    "columns_to_sum = ['Fuel Oil #1 Use (kBtu)', 'Fuel Oil #2 Use (kBtu)', 'Fuel Oil #4 Use (kBtu)','Fuel Oil #5 & 6 Use (kBtu)', 'Diesel #2 Use (kBtu)', 'Natural Gas Use (kBtu)','Electricity Use - Grid Purchase (kBtu)']\n",
    "df['Total Energy'] = (df['Weather Normalized Site Natural Gas Use (therms)'] * 100) + (df['Weather Normalized Site Electricity (kWh)'] * 3.4121424501) + (df[columns_to_sum].sum(axis=1))"
   ]
  },
  {
   "cell_type": "code",
   "execution_count": 9,
   "metadata": {},
   "outputs": [
    {
     "data": {
      "text/plain": [
       "0        7.595537e+07\n",
       "1        2.546595e+09\n",
       "2        0.000000e+00\n",
       "3        0.000000e+00\n",
       "4        0.000000e+00\n",
       "             ...     \n",
       "11429    1.499151e+07\n",
       "11430    1.367658e+07\n",
       "11431    3.091389e+07\n",
       "11432    9.014762e+06\n",
       "11433    6.455249e+06\n",
       "Name: Total Energy, Length: 11434, dtype: float64"
      ]
     },
     "execution_count": 9,
     "metadata": {},
     "output_type": "execute_result"
    }
   ],
   "source": [
    "df['Total Energy']\n",
    "# df.columns"
   ]
  },
  {
   "cell_type": "markdown",
   "metadata": {},
   "source": [
    "# splitting the data"
   ]
  },
  {
   "cell_type": "code",
   "execution_count": 10,
   "metadata": {},
   "outputs": [],
   "source": [
    "train, test = train_test_split(df, test_size=0.2)\n"
   ]
  },
  {
   "cell_type": "code",
   "execution_count": 11,
   "metadata": {},
   "outputs": [],
   "source": [
    "Y_features=['Water Use (All Water Sources) (kgal)','Total Energy']"
   ]
  },
  {
   "cell_type": "code",
   "execution_count": 12,
   "metadata": {},
   "outputs": [],
   "source": [
    "Y= train[Y_features]"
   ]
  },
  {
   "cell_type": "code",
   "execution_count": 13,
   "metadata": {},
   "outputs": [],
   "source": [
    "X_features=['Number of Buildings - Self-reported','Property GFA - Self-Reported (ft²)','Source EUI (kBtu/ft²)']\n",
    "X= train[X_features]"
   ]
  },
  {
   "cell_type": "code",
   "execution_count": 14,
   "metadata": {},
   "outputs": [
    {
     "data": {
      "text/plain": [
       "DecisionTreeRegressor(random_state=1)"
      ]
     },
     "execution_count": 14,
     "metadata": {},
     "output_type": "execute_result"
    }
   ],
   "source": [
    "model = DecisionTreeRegressor(random_state=1)\n",
    "model.fit(X,Y)"
   ]
  },
  {
   "cell_type": "code",
   "execution_count": 15,
   "metadata": {},
   "outputs": [
    {
     "name": "stdout",
     "output_type": "stream",
     "text": [
      "Making predictions for the following 5 houses:\n",
      "      Number of Buildings - Self-reported  Property GFA - Self-Reported (ft²)  \\\n",
      "7525                                  1.0                            147352.0   \n",
      "8322                                  1.0                             82448.0   \n",
      "3137                                  1.0                            356686.0   \n",
      "7138                                  1.0                             80844.0   \n",
      "7150                                  1.0                             69851.0   \n",
      "\n",
      "      Source EUI (kBtu/ft²)  \n",
      "7525                  105.2  \n",
      "8322                  128.4  \n",
      "3137                  174.7  \n",
      "7138                  145.7  \n",
      "7150                   20.1  \n",
      "The predictions are\n",
      "[[0.00000000e+00 2.29303499e+07]\n",
      " [4.62070000e+03 1.61964664e+07]\n",
      " [5.91930000e+03 3.58512938e+07]\n",
      " [6.04460000e+03 4.01463240e+06]\n",
      " [3.40700000e+02 2.42903222e+06]]\n",
      "      Water Use (All Water Sources) (kgal)  Total Energy\n",
      "7525                                   0.0  2.293035e+07\n",
      "8322                                4620.7  1.619647e+07\n",
      "3137                                5919.3  3.585129e+07\n",
      "7138                                6044.6  4.014632e+06\n",
      "7150                                 340.7  2.429032e+06\n"
     ]
    }
   ],
   "source": [
    "print(\"Making predictions for the following 5 houses:\")\n",
    "print(X.head())\n",
    "print(\"The predictions are\")\n",
    "print(model.predict(X.head()))\n",
    "print(Y.head())"
   ]
  },
  {
   "cell_type": "code",
   "execution_count": 16,
   "metadata": {},
   "outputs": [
    {
     "name": "stdout",
     "output_type": "stream",
     "text": [
      "The predictions are\n"
     ]
    }
   ],
   "source": [
    "X_test_features=['Number of Buildings - Self-reported','Property GFA - Self-Reported (ft²)','Source EUI (kBtu/ft²)']\n",
    "X_test = test [X_test_features]\n",
    "Y_test_features=['Water Use (All Water Sources) (kgal)','Total Energy']\n",
    "Y_test= test[Y_test_features]\n",
    "\n",
    "print(\"The predictions are\")\n",
    "Y_pre=model.predict(X_test)"
   ]
  },
  {
   "cell_type": "code",
   "execution_count": 17,
   "metadata": {
    "scrolled": false
   },
   "outputs": [
    {
     "name": "stdout",
     "output_type": "stream",
     "text": [
      "MAE= 6217874.230197156\n"
     ]
    }
   ],
   "source": [
    "print(\"MAE=\", mean_absolute_error(Y_test,Y_pre))"
   ]
  },
  {
   "cell_type": "code",
   "execution_count": 18,
   "metadata": {},
   "outputs": [
    {
     "name": "stdout",
     "output_type": "stream",
     "text": [
      "MAE= -0.8993953909399489\n"
     ]
    }
   ],
   "source": [
    "print(\"MAE=\", r2_score(Y_test,Y_pre))"
   ]
  },
  {
   "cell_type": "code",
   "execution_count": null,
   "metadata": {},
   "outputs": [],
   "source": []
  }
 ],
 "metadata": {
  "kernelspec": {
   "display_name": "Python 3",
   "language": "python",
   "name": "python3"
  },
  "language_info": {
   "codemirror_mode": {
    "name": "ipython",
    "version": 3
   },
   "file_extension": ".py",
   "mimetype": "text/x-python",
   "name": "python",
   "nbconvert_exporter": "python",
   "pygments_lexer": "ipython3",
   "version": "3.7.6"
  }
 },
 "nbformat": 4,
 "nbformat_minor": 5
}
