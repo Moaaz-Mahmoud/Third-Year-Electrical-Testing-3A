{
 "cells": [
  {
   "cell_type": "markdown",
   "metadata": {},
   "source": [
    "# Data Analysis - Section1"
   ]
  },
  {
   "cell_type": "markdown",
   "metadata": {},
   "source": [
    "## 1. Import Libraries"
   ]
  },
  {
   "cell_type": "code",
   "execution_count": 2,
   "metadata": {},
   "outputs": [],
   "source": [
    "import numpy as np\n",
    "import pandas as pd"
   ]
  },
  {
   "cell_type": "markdown",
   "metadata": {},
   "source": [
    "## 2. Read Data set"
   ]
  },
  {
   "cell_type": "code",
   "execution_count": 3,
   "metadata": {},
   "outputs": [],
   "source": [
    "df = pd.read_csv('movie.csv')"
   ]
  },
  {
   "cell_type": "code",
   "execution_count": 4,
   "metadata": {},
   "outputs": [
    {
     "data": {
      "text/html": [
       "<div>\n",
       "<style scoped>\n",
       "    .dataframe tbody tr th:only-of-type {\n",
       "        vertical-align: middle;\n",
       "    }\n",
       "\n",
       "    .dataframe tbody tr th {\n",
       "        vertical-align: top;\n",
       "    }\n",
       "\n",
       "    .dataframe thead th {\n",
       "        text-align: right;\n",
       "    }\n",
       "</style>\n",
       "<table border=\"1\" class=\"dataframe\">\n",
       "  <thead>\n",
       "    <tr style=\"text-align: right;\">\n",
       "      <th></th>\n",
       "      <th>title</th>\n",
       "      <th>year</th>\n",
       "      <th>color</th>\n",
       "      <th>content_rating</th>\n",
       "      <th>duration</th>\n",
       "      <th>director_name</th>\n",
       "      <th>director_fb</th>\n",
       "      <th>actor1</th>\n",
       "      <th>actor1_fb</th>\n",
       "      <th>actor2</th>\n",
       "      <th>...</th>\n",
       "      <th>actor3_fb</th>\n",
       "      <th>gross</th>\n",
       "      <th>genres</th>\n",
       "      <th>num_reviews</th>\n",
       "      <th>num_voted_users</th>\n",
       "      <th>plot_keywords</th>\n",
       "      <th>language</th>\n",
       "      <th>country</th>\n",
       "      <th>budget</th>\n",
       "      <th>imdb_score</th>\n",
       "    </tr>\n",
       "  </thead>\n",
       "  <tbody>\n",
       "    <tr>\n",
       "      <th>0</th>\n",
       "      <td>Avatar</td>\n",
       "      <td>2009.0</td>\n",
       "      <td>Color</td>\n",
       "      <td>PG-13</td>\n",
       "      <td>178.0</td>\n",
       "      <td>James Cameron</td>\n",
       "      <td>0.0</td>\n",
       "      <td>CCH Pounder</td>\n",
       "      <td>1000.0</td>\n",
       "      <td>Joel David Moore</td>\n",
       "      <td>...</td>\n",
       "      <td>855.0</td>\n",
       "      <td>760505847.0</td>\n",
       "      <td>Action|Adventure|Fantasy|Sci-Fi</td>\n",
       "      <td>723.0</td>\n",
       "      <td>886204</td>\n",
       "      <td>avatar|future|marine|native|paraplegic</td>\n",
       "      <td>English</td>\n",
       "      <td>USA</td>\n",
       "      <td>237000000.0</td>\n",
       "      <td>7.9</td>\n",
       "    </tr>\n",
       "    <tr>\n",
       "      <th>1</th>\n",
       "      <td>Pirates of the Caribbean: At World's End</td>\n",
       "      <td>2007.0</td>\n",
       "      <td>Color</td>\n",
       "      <td>PG-13</td>\n",
       "      <td>169.0</td>\n",
       "      <td>Gore Verbinski</td>\n",
       "      <td>563.0</td>\n",
       "      <td>Johnny Depp</td>\n",
       "      <td>40000.0</td>\n",
       "      <td>Orlando Bloom</td>\n",
       "      <td>...</td>\n",
       "      <td>1000.0</td>\n",
       "      <td>309404152.0</td>\n",
       "      <td>Action|Adventure|Fantasy</td>\n",
       "      <td>302.0</td>\n",
       "      <td>471220</td>\n",
       "      <td>goddess|marriage ceremony|marriage proposal|pi...</td>\n",
       "      <td>English</td>\n",
       "      <td>USA</td>\n",
       "      <td>300000000.0</td>\n",
       "      <td>7.1</td>\n",
       "    </tr>\n",
       "    <tr>\n",
       "      <th>2</th>\n",
       "      <td>Spectre</td>\n",
       "      <td>2015.0</td>\n",
       "      <td>Color</td>\n",
       "      <td>PG-13</td>\n",
       "      <td>148.0</td>\n",
       "      <td>Sam Mendes</td>\n",
       "      <td>0.0</td>\n",
       "      <td>Christoph Waltz</td>\n",
       "      <td>11000.0</td>\n",
       "      <td>Rory Kinnear</td>\n",
       "      <td>...</td>\n",
       "      <td>161.0</td>\n",
       "      <td>200074175.0</td>\n",
       "      <td>Action|Adventure|Thriller</td>\n",
       "      <td>602.0</td>\n",
       "      <td>275868</td>\n",
       "      <td>bomb|espionage|sequel|spy|terrorist</td>\n",
       "      <td>English</td>\n",
       "      <td>UK</td>\n",
       "      <td>245000000.0</td>\n",
       "      <td>6.8</td>\n",
       "    </tr>\n",
       "    <tr>\n",
       "      <th>3</th>\n",
       "      <td>The Dark Knight Rises</td>\n",
       "      <td>2012.0</td>\n",
       "      <td>Color</td>\n",
       "      <td>PG-13</td>\n",
       "      <td>164.0</td>\n",
       "      <td>Christopher Nolan</td>\n",
       "      <td>22000.0</td>\n",
       "      <td>Tom Hardy</td>\n",
       "      <td>27000.0</td>\n",
       "      <td>Christian Bale</td>\n",
       "      <td>...</td>\n",
       "      <td>23000.0</td>\n",
       "      <td>448130642.0</td>\n",
       "      <td>Action|Thriller</td>\n",
       "      <td>813.0</td>\n",
       "      <td>1144337</td>\n",
       "      <td>deception|imprisonment|lawlessness|police offi...</td>\n",
       "      <td>English</td>\n",
       "      <td>USA</td>\n",
       "      <td>250000000.0</td>\n",
       "      <td>8.5</td>\n",
       "    </tr>\n",
       "    <tr>\n",
       "      <th>4</th>\n",
       "      <td>Star Wars: Episode VII - The Force Awakens</td>\n",
       "      <td>NaN</td>\n",
       "      <td>NaN</td>\n",
       "      <td>NaN</td>\n",
       "      <td>NaN</td>\n",
       "      <td>Doug Walker</td>\n",
       "      <td>131.0</td>\n",
       "      <td>Doug Walker</td>\n",
       "      <td>131.0</td>\n",
       "      <td>Rob Walker</td>\n",
       "      <td>...</td>\n",
       "      <td>NaN</td>\n",
       "      <td>NaN</td>\n",
       "      <td>Documentary</td>\n",
       "      <td>NaN</td>\n",
       "      <td>8</td>\n",
       "      <td>NaN</td>\n",
       "      <td>NaN</td>\n",
       "      <td>NaN</td>\n",
       "      <td>NaN</td>\n",
       "      <td>7.1</td>\n",
       "    </tr>\n",
       "  </tbody>\n",
       "</table>\n",
       "<p>5 rows × 22 columns</p>\n",
       "</div>"
      ],
      "text/plain": [
       "                                        title    year  color content_rating  \\\n",
       "0                                      Avatar  2009.0  Color          PG-13   \n",
       "1    Pirates of the Caribbean: At World's End  2007.0  Color          PG-13   \n",
       "2                                     Spectre  2015.0  Color          PG-13   \n",
       "3                       The Dark Knight Rises  2012.0  Color          PG-13   \n",
       "4  Star Wars: Episode VII - The Force Awakens     NaN    NaN            NaN   \n",
       "\n",
       "   duration      director_name  director_fb           actor1  actor1_fb  \\\n",
       "0     178.0      James Cameron          0.0      CCH Pounder     1000.0   \n",
       "1     169.0     Gore Verbinski        563.0      Johnny Depp    40000.0   \n",
       "2     148.0         Sam Mendes          0.0  Christoph Waltz    11000.0   \n",
       "3     164.0  Christopher Nolan      22000.0        Tom Hardy    27000.0   \n",
       "4       NaN        Doug Walker        131.0      Doug Walker      131.0   \n",
       "\n",
       "             actor2  ...  actor3_fb        gross  \\\n",
       "0  Joel David Moore  ...      855.0  760505847.0   \n",
       "1     Orlando Bloom  ...     1000.0  309404152.0   \n",
       "2      Rory Kinnear  ...      161.0  200074175.0   \n",
       "3    Christian Bale  ...    23000.0  448130642.0   \n",
       "4        Rob Walker  ...        NaN          NaN   \n",
       "\n",
       "                            genres  num_reviews num_voted_users  \\\n",
       "0  Action|Adventure|Fantasy|Sci-Fi        723.0          886204   \n",
       "1         Action|Adventure|Fantasy        302.0          471220   \n",
       "2        Action|Adventure|Thriller        602.0          275868   \n",
       "3                  Action|Thriller        813.0         1144337   \n",
       "4                      Documentary          NaN               8   \n",
       "\n",
       "                                       plot_keywords  language country  \\\n",
       "0             avatar|future|marine|native|paraplegic   English     USA   \n",
       "1  goddess|marriage ceremony|marriage proposal|pi...   English     USA   \n",
       "2                bomb|espionage|sequel|spy|terrorist   English      UK   \n",
       "3  deception|imprisonment|lawlessness|police offi...   English     USA   \n",
       "4                                                NaN       NaN     NaN   \n",
       "\n",
       "        budget imdb_score  \n",
       "0  237000000.0        7.9  \n",
       "1  300000000.0        7.1  \n",
       "2  245000000.0        6.8  \n",
       "3  250000000.0        8.5  \n",
       "4          NaN        7.1  \n",
       "\n",
       "[5 rows x 22 columns]"
      ]
     },
     "execution_count": 4,
     "metadata": {},
     "output_type": "execute_result"
    }
   ],
   "source": [
    "df.head()"
   ]
  },
  {
   "cell_type": "code",
   "execution_count": 5,
   "metadata": {},
   "outputs": [
    {
     "data": {
      "text/html": [
       "<div>\n",
       "<style scoped>\n",
       "    .dataframe tbody tr th:only-of-type {\n",
       "        vertical-align: middle;\n",
       "    }\n",
       "\n",
       "    .dataframe tbody tr th {\n",
       "        vertical-align: top;\n",
       "    }\n",
       "\n",
       "    .dataframe thead th {\n",
       "        text-align: right;\n",
       "    }\n",
       "</style>\n",
       "<table border=\"1\" class=\"dataframe\">\n",
       "  <thead>\n",
       "    <tr style=\"text-align: right;\">\n",
       "      <th></th>\n",
       "      <th>title</th>\n",
       "      <th>year</th>\n",
       "      <th>color</th>\n",
       "      <th>content_rating</th>\n",
       "      <th>duration</th>\n",
       "      <th>director_name</th>\n",
       "      <th>director_fb</th>\n",
       "      <th>actor1</th>\n",
       "      <th>actor1_fb</th>\n",
       "      <th>actor2</th>\n",
       "      <th>...</th>\n",
       "      <th>actor3_fb</th>\n",
       "      <th>gross</th>\n",
       "      <th>genres</th>\n",
       "      <th>num_reviews</th>\n",
       "      <th>num_voted_users</th>\n",
       "      <th>plot_keywords</th>\n",
       "      <th>language</th>\n",
       "      <th>country</th>\n",
       "      <th>budget</th>\n",
       "      <th>imdb_score</th>\n",
       "    </tr>\n",
       "  </thead>\n",
       "  <tbody>\n",
       "    <tr>\n",
       "      <th>0</th>\n",
       "      <td>Avatar</td>\n",
       "      <td>2009.0</td>\n",
       "      <td>Color</td>\n",
       "      <td>PG-13</td>\n",
       "      <td>178.0</td>\n",
       "      <td>James Cameron</td>\n",
       "      <td>0.0</td>\n",
       "      <td>CCH Pounder</td>\n",
       "      <td>1000.0</td>\n",
       "      <td>Joel David Moore</td>\n",
       "      <td>...</td>\n",
       "      <td>855.0</td>\n",
       "      <td>760505847.0</td>\n",
       "      <td>Action|Adventure|Fantasy|Sci-Fi</td>\n",
       "      <td>723.0</td>\n",
       "      <td>886204</td>\n",
       "      <td>avatar|future|marine|native|paraplegic</td>\n",
       "      <td>English</td>\n",
       "      <td>USA</td>\n",
       "      <td>237000000.0</td>\n",
       "      <td>7.9</td>\n",
       "    </tr>\n",
       "  </tbody>\n",
       "</table>\n",
       "<p>1 rows × 22 columns</p>\n",
       "</div>"
      ],
      "text/plain": [
       "    title    year  color content_rating  duration  director_name  director_fb  \\\n",
       "0  Avatar  2009.0  Color          PG-13     178.0  James Cameron          0.0   \n",
       "\n",
       "        actor1  actor1_fb            actor2  ...  actor3_fb        gross  \\\n",
       "0  CCH Pounder     1000.0  Joel David Moore  ...      855.0  760505847.0   \n",
       "\n",
       "                            genres  num_reviews num_voted_users  \\\n",
       "0  Action|Adventure|Fantasy|Sci-Fi        723.0          886204   \n",
       "\n",
       "                            plot_keywords  language country       budget  \\\n",
       "0  avatar|future|marine|native|paraplegic   English     USA  237000000.0   \n",
       "\n",
       "  imdb_score  \n",
       "0        7.9  \n",
       "\n",
       "[1 rows x 22 columns]"
      ]
     },
     "execution_count": 5,
     "metadata": {},
     "output_type": "execute_result"
    }
   ],
   "source": [
    "df.head(1)"
   ]
  },
  {
   "cell_type": "code",
   "execution_count": null,
   "metadata": {},
   "outputs": [],
   "source": [
    "df.tail()"
   ]
  },
  {
   "cell_type": "code",
   "execution_count": null,
   "metadata": {},
   "outputs": [],
   "source": [
    "DF= df.set_index('title')\n",
    "DF.head(1)"
   ]
  },
  {
   "cell_type": "markdown",
   "metadata": {},
   "source": [
    "## 3. Explore Data "
   ]
  },
  {
   "cell_type": "code",
   "execution_count": null,
   "metadata": {},
   "outputs": [],
   "source": [
    "df.columns"
   ]
  },
  {
   "cell_type": "code",
   "execution_count": null,
   "metadata": {},
   "outputs": [],
   "source": [
    "df.index"
   ]
  },
  {
   "cell_type": "code",
   "execution_count": null,
   "metadata": {},
   "outputs": [],
   "source": [
    "df.values"
   ]
  },
  {
   "cell_type": "code",
   "execution_count": null,
   "metadata": {},
   "outputs": [],
   "source": [
    "df.info"
   ]
  },
  {
   "cell_type": "code",
   "execution_count": null,
   "metadata": {},
   "outputs": [],
   "source": [
    "df.describe"
   ]
  },
  {
   "cell_type": "code",
   "execution_count": null,
   "metadata": {},
   "outputs": [],
   "source": [
    "df.size"
   ]
  },
  {
   "cell_type": "code",
   "execution_count": null,
   "metadata": {},
   "outputs": [],
   "source": [
    "df.shape"
   ]
  },
  {
   "cell_type": "code",
   "execution_count": null,
   "metadata": {},
   "outputs": [],
   "source": [
    "len(df)"
   ]
  },
  {
   "cell_type": "code",
   "execution_count": null,
   "metadata": {},
   "outputs": [],
   "source": [
    "df.set_index('title')"
   ]
  },
  {
   "cell_type": "code",
   "execution_count": null,
   "metadata": {},
   "outputs": [],
   "source": [
    "#Is index changed?\n",
    "df.head()"
   ]
  },
  {
   "cell_type": "markdown",
   "metadata": {},
   "source": [
    "## 4. Data selection\n",
    "**We could select a slice of the data as:**\n",
    "1. Column(s).\n",
    "2. Row(s)\n",
    "3. Column(s) and Row(s)\n",
    "\n",
    "**Based on:**\n",
    "1. Column/Row Name\n",
    "2. Column/Row Number\n",
    "3. Row with Condition(s)"
   ]
  },
  {
   "cell_type": "markdown",
   "metadata": {},
   "source": [
    "### 4.1 Selection Based on Column/Row Name"
   ]
  },
  {
   "cell_type": "code",
   "execution_count": null,
   "metadata": {},
   "outputs": [],
   "source": [
    "df.loc[:,:]"
   ]
  },
  {
   "cell_type": "code",
   "execution_count": null,
   "metadata": {},
   "outputs": [],
   "source": [
    "df1= df.loc[0:4, ['title', 'duration']]\n",
    "df1.head(1)\n",
    "len(df1)"
   ]
  },
  {
   "cell_type": "code",
   "execution_count": null,
   "metadata": {},
   "outputs": [],
   "source": [
    "df1"
   ]
  },
  {
   "cell_type": "code",
   "execution_count": null,
   "metadata": {},
   "outputs": [],
   "source": [
    "df1= df.loc[:, ['title', 'duration']]\n",
    "df1.head()"
   ]
  },
  {
   "cell_type": "code",
   "execution_count": 14,
   "metadata": {},
   "outputs": [
    {
     "data": {
      "text/plain": [
       "4916"
      ]
     },
     "execution_count": 14,
     "metadata": {},
     "output_type": "execute_result"
    }
   ],
   "source": [
    "len(df)"
   ]
  },
  {
   "cell_type": "code",
   "execution_count": null,
   "metadata": {},
   "outputs": [],
   "source": [
    "df['actor1']"
   ]
  },
  {
   "cell_type": "code",
   "execution_count": null,
   "metadata": {},
   "outputs": [],
   "source": [
    "df.actor1"
   ]
  },
  {
   "cell_type": "markdown",
   "metadata": {},
   "source": [
    "### 4.2 Selection Based on Column/Row Number"
   ]
  },
  {
   "cell_type": "code",
   "execution_count": null,
   "metadata": {},
   "outputs": [],
   "source": [
    "df.iloc[:,:]"
   ]
  },
  {
   "cell_type": "code",
   "execution_count": null,
   "metadata": {},
   "outputs": [],
   "source": [
    "df_by_number= df.iloc[0:4, [0,5]]\n",
    "df_by_number.head(1)"
   ]
  },
  {
   "cell_type": "code",
   "execution_count": null,
   "metadata": {},
   "outputs": [],
   "source": [
    "len(df_by_number)"
   ]
  },
  {
   "cell_type": "markdown",
   "metadata": {},
   "source": [
    "### 4.3 Selection Based on Row Condition"
   ]
  },
  {
   "cell_type": "code",
   "execution_count": null,
   "metadata": {},
   "outputs": [],
   "source": [
    "condition = df['country'] == 'USA'\n",
    "condition2= df['country'] == 'UK'\n",
    "df2= df[condition | condition2]\n",
    "df2.head()"
   ]
  },
  {
   "cell_type": "code",
   "execution_count": null,
   "metadata": {},
   "outputs": [],
   "source": [
    "len(df2)"
   ]
  },
  {
   "cell_type": "code",
   "execution_count": null,
   "metadata": {},
   "outputs": [],
   "source": [
    "#df['country'].value_counts()\n",
    "cond= df['country'].isin(['USA','UK'])\n",
    "df['IsinUSAorUK']= df['country'].isin(['USA','UK'])\n",
    "df3= df[cond]\n",
    "len(df3)"
   ]
  },
  {
   "cell_type": "code",
   "execution_count": null,
   "metadata": {},
   "outputs": [],
   "source": [
    "df['country'].value_counts()"
   ]
  },
  {
   "cell_type": "markdown",
   "metadata": {},
   "source": [
    "## 5. Intro about statistics dataset"
   ]
  },
  {
   "cell_type": "code",
   "execution_count": null,
   "metadata": {},
   "outputs": [],
   "source": [
    "df.describe()"
   ]
  },
  {
   "cell_type": "code",
   "execution_count": null,
   "metadata": {},
   "outputs": [],
   "source": [
    "df['year'].min()"
   ]
  },
  {
   "cell_type": "code",
   "execution_count": null,
   "metadata": {},
   "outputs": [],
   "source": [
    "df['year'].max()"
   ]
  },
  {
   "cell_type": "code",
   "execution_count": null,
   "metadata": {},
   "outputs": [],
   "source": [
    "df['budget'].mean()"
   ]
  },
  {
   "cell_type": "code",
   "execution_count": null,
   "metadata": {},
   "outputs": [],
   "source": [
    "df['budget'].median()"
   ]
  },
  {
   "cell_type": "code",
   "execution_count": null,
   "metadata": {},
   "outputs": [],
   "source": [
    "df['budget'].sum()"
   ]
  },
  {
   "cell_type": "code",
   "execution_count": null,
   "metadata": {},
   "outputs": [],
   "source": [
    "df['title'].count()"
   ]
  },
  {
   "cell_type": "code",
   "execution_count": null,
   "metadata": {},
   "outputs": [],
   "source": [
    "df['country'].mode()\n",
    "df['country'].value_counts()"
   ]
  },
  {
   "cell_type": "markdown",
   "metadata": {},
   "source": [
    "## 6. Visualization"
   ]
  },
  {
   "cell_type": "code",
   "execution_count": null,
   "metadata": {},
   "outputs": [],
   "source": [
    "#plotting data \n",
    "%matplotlib inline\n",
    "import matplotlib.pyplot as plt"
   ]
  },
  {
   "cell_type": "code",
   "execution_count": null,
   "metadata": {},
   "outputs": [],
   "source": [
    "df['duration'].plot(kind='bar')"
   ]
  },
  {
   "cell_type": "code",
   "execution_count": null,
   "metadata": {},
   "outputs": [],
   "source": [
    "df= df[df['language'].isin(['French' , 'Spanish' , 'Hindi' , 'Arabic'])]\n",
    "df['language'].value_counts()\n",
    "df['language'].value_counts().plot(kind='bar')"
   ]
  },
  {
   "cell_type": "code",
   "execution_count": null,
   "metadata": {},
   "outputs": [],
   "source": [
    "\n",
    "df['duration'].plot(kind='hist')"
   ]
  },
  {
   "cell_type": "code",
   "execution_count": null,
   "metadata": {},
   "outputs": [],
   "source": [
    "df= df[df['language'].isin(['French' , 'Spanish' , 'Hindi' , 'Arabic'])]\n",
    "df['language'].value_counts()"
   ]
  },
  {
   "cell_type": "code",
   "execution_count": null,
   "metadata": {},
   "outputs": [],
   "source": [
    "\n",
    "df['language'].value_counts().plot(kind='pie')"
   ]
  },
  {
   "cell_type": "code",
   "execution_count": null,
   "metadata": {},
   "outputs": [],
   "source": [
    "countries= df['country'].value_counts()\n",
    "countries"
   ]
  },
  {
   "cell_type": "code",
   "execution_count": null,
   "metadata": {},
   "outputs": [],
   "source": [
    "countries.plot(kind='bar')"
   ]
  },
  {
   "cell_type": "markdown",
   "metadata": {},
   "source": [
    "## 6. Questions:\n",
    "\n",
    "1- How many Columns in dataset\n",
    "\n",
    "2- How many rows?\n",
    "\n",
    "3- How many English, French, Arabic movies?\n",
    "\n",
    "4- Movies with max number of votes?\n",
    "\n",
    "5- Movies with max number of reviews?\n",
    "\n",
    "6- How manyy movies per country? plot them\n",
    "\n",
    "7- What is the mean number of reviews per movies?\n",
    "\n",
    "8- Movies abbove mean number of reviews per movies?\n",
    "\n",
    "9- Movies below the mean number of reviews per movies?\n",
    "\n",
    "10- What is mean imdb score? how many movie above? below mean?\n",
    "\n",
    "11- What is the best way to visualize imdb score for all movies\n",
    "\n",
    "12- What is the best way to visualize Number of movies per country?\n",
    "\n",
    "13- What is best way to visualize number of mmovies per years?\n"
   ]
  },
  {
   "cell_type": "code",
   "execution_count": 10,
   "metadata": {},
   "outputs": [
    {
     "data": {
      "text/plain": [
       "<bound method DataFrame.info of                                            title    year  color  \\\n",
       "0                                         Avatar  2009.0  Color   \n",
       "1       Pirates of the Caribbean: At World's End  2007.0  Color   \n",
       "2                                        Spectre  2015.0  Color   \n",
       "3                          The Dark Knight Rises  2012.0  Color   \n",
       "4     Star Wars: Episode VII - The Force Awakens     NaN    NaN   \n",
       "...                                          ...     ...    ...   \n",
       "4911                     Signed Sealed Delivered  2013.0  Color   \n",
       "4912                               The Following     NaN  Color   \n",
       "4913                        A Plague So Pleasant  2013.0  Color   \n",
       "4914                            Shanghai Calling  2012.0  Color   \n",
       "4915                           My Date with Drew  2004.0  Color   \n",
       "\n",
       "     content_rating  duration      director_name  director_fb  \\\n",
       "0             PG-13     178.0      James Cameron          0.0   \n",
       "1             PG-13     169.0     Gore Verbinski        563.0   \n",
       "2             PG-13     148.0         Sam Mendes          0.0   \n",
       "3             PG-13     164.0  Christopher Nolan      22000.0   \n",
       "4               NaN       NaN        Doug Walker        131.0   \n",
       "...             ...       ...                ...          ...   \n",
       "4911            NaN      87.0        Scott Smith          2.0   \n",
       "4912          TV-14      43.0                NaN          NaN   \n",
       "4913            NaN      76.0   Benjamin Roberds          0.0   \n",
       "4914          PG-13     100.0        Daniel Hsia          0.0   \n",
       "4915             PG      90.0           Jon Gunn         16.0   \n",
       "\n",
       "               actor1  actor1_fb            actor2  ...  actor3_fb  \\\n",
       "0         CCH Pounder     1000.0  Joel David Moore  ...      855.0   \n",
       "1         Johnny Depp    40000.0     Orlando Bloom  ...     1000.0   \n",
       "2     Christoph Waltz    11000.0      Rory Kinnear  ...      161.0   \n",
       "3           Tom Hardy    27000.0    Christian Bale  ...    23000.0   \n",
       "4         Doug Walker      131.0        Rob Walker  ...        NaN   \n",
       "...               ...        ...               ...  ...        ...   \n",
       "4911      Eric Mabius      637.0     Daphne Zuniga  ...      318.0   \n",
       "4912      Natalie Zea      841.0     Valorie Curry  ...      319.0   \n",
       "4913      Eva Boehnke        0.0     Maxwell Moody  ...        0.0   \n",
       "4914        Alan Ruck      946.0     Daniel Henney  ...      489.0   \n",
       "4915      John August       86.0  Brian Herzlinger  ...       16.0   \n",
       "\n",
       "            gross                           genres  num_reviews  \\\n",
       "0     760505847.0  Action|Adventure|Fantasy|Sci-Fi        723.0   \n",
       "1     309404152.0         Action|Adventure|Fantasy        302.0   \n",
       "2     200074175.0        Action|Adventure|Thriller        602.0   \n",
       "3     448130642.0                  Action|Thriller        813.0   \n",
       "4             NaN                      Documentary          NaN   \n",
       "...           ...                              ...          ...   \n",
       "4911          NaN                     Comedy|Drama          1.0   \n",
       "4912          NaN     Crime|Drama|Mystery|Thriller         43.0   \n",
       "4913          NaN            Drama|Horror|Thriller         13.0   \n",
       "4914      10443.0             Comedy|Drama|Romance         14.0   \n",
       "4915      85222.0                      Documentary         43.0   \n",
       "\n",
       "     num_voted_users                                      plot_keywords  \\\n",
       "0             886204             avatar|future|marine|native|paraplegic   \n",
       "1             471220  goddess|marriage ceremony|marriage proposal|pi...   \n",
       "2             275868                bomb|espionage|sequel|spy|terrorist   \n",
       "3            1144337  deception|imprisonment|lawlessness|police offi...   \n",
       "4                  8                                                NaN   \n",
       "...              ...                                                ...   \n",
       "4911             629             fraud|postal worker|prison|theft|trial   \n",
       "4912           73839       cult|fbi|hideout|prison escape|serial killer   \n",
       "4913              38                                                NaN   \n",
       "4914            1255                                                NaN   \n",
       "4915            4285  actress name in title|crush|date|four word tit...   \n",
       "\n",
       "      language country       budget imdb_score  \n",
       "0      English     USA  237000000.0        7.9  \n",
       "1      English     USA  300000000.0        7.1  \n",
       "2      English      UK  245000000.0        6.8  \n",
       "3      English     USA  250000000.0        8.5  \n",
       "4          NaN     NaN          NaN        7.1  \n",
       "...        ...     ...          ...        ...  \n",
       "4911   English  Canada          NaN        7.7  \n",
       "4912   English     USA          NaN        7.5  \n",
       "4913   English     USA       1400.0        6.3  \n",
       "4914   English     USA          NaN        6.3  \n",
       "4915   English     USA       1100.0        6.6  \n",
       "\n",
       "[4916 rows x 22 columns]>"
      ]
     },
     "execution_count": 10,
     "metadata": {},
     "output_type": "execute_result"
    }
   ],
   "source": [
    "df.info"
   ]
  },
  {
   "cell_type": "code",
   "execution_count": 12,
   "metadata": {},
   "outputs": [
    {
     "data": {
      "text/html": [
       "<div>\n",
       "<style scoped>\n",
       "    .dataframe tbody tr th:only-of-type {\n",
       "        vertical-align: middle;\n",
       "    }\n",
       "\n",
       "    .dataframe tbody tr th {\n",
       "        vertical-align: top;\n",
       "    }\n",
       "\n",
       "    .dataframe thead th {\n",
       "        text-align: right;\n",
       "    }\n",
       "</style>\n",
       "<table border=\"1\" class=\"dataframe\">\n",
       "  <thead>\n",
       "    <tr style=\"text-align: right;\">\n",
       "      <th></th>\n",
       "      <th>title</th>\n",
       "      <th>year</th>\n",
       "      <th>color</th>\n",
       "      <th>content_rating</th>\n",
       "      <th>duration</th>\n",
       "      <th>director_name</th>\n",
       "      <th>director_fb</th>\n",
       "      <th>actor1</th>\n",
       "      <th>actor1_fb</th>\n",
       "      <th>actor2</th>\n",
       "      <th>...</th>\n",
       "      <th>actor3_fb</th>\n",
       "      <th>gross</th>\n",
       "      <th>genres</th>\n",
       "      <th>num_reviews</th>\n",
       "      <th>num_voted_users</th>\n",
       "      <th>plot_keywords</th>\n",
       "      <th>language</th>\n",
       "      <th>country</th>\n",
       "      <th>budget</th>\n",
       "      <th>imdb_score</th>\n",
       "    </tr>\n",
       "  </thead>\n",
       "  <tbody>\n",
       "    <tr>\n",
       "      <th>0</th>\n",
       "      <td>Avatar</td>\n",
       "      <td>2009.0</td>\n",
       "      <td>Color</td>\n",
       "      <td>PG-13</td>\n",
       "      <td>178.0</td>\n",
       "      <td>James Cameron</td>\n",
       "      <td>0.0</td>\n",
       "      <td>CCH Pounder</td>\n",
       "      <td>1000.0</td>\n",
       "      <td>Joel David Moore</td>\n",
       "      <td>...</td>\n",
       "      <td>855.0</td>\n",
       "      <td>760505847.0</td>\n",
       "      <td>Action|Adventure|Fantasy|Sci-Fi</td>\n",
       "      <td>723.0</td>\n",
       "      <td>886204</td>\n",
       "      <td>avatar|future|marine|native|paraplegic</td>\n",
       "      <td>English</td>\n",
       "      <td>USA</td>\n",
       "      <td>237000000.0</td>\n",
       "      <td>7.9</td>\n",
       "    </tr>\n",
       "    <tr>\n",
       "      <th>1</th>\n",
       "      <td>Pirates of the Caribbean: At World's End</td>\n",
       "      <td>2007.0</td>\n",
       "      <td>Color</td>\n",
       "      <td>PG-13</td>\n",
       "      <td>169.0</td>\n",
       "      <td>Gore Verbinski</td>\n",
       "      <td>563.0</td>\n",
       "      <td>Johnny Depp</td>\n",
       "      <td>40000.0</td>\n",
       "      <td>Orlando Bloom</td>\n",
       "      <td>...</td>\n",
       "      <td>1000.0</td>\n",
       "      <td>309404152.0</td>\n",
       "      <td>Action|Adventure|Fantasy</td>\n",
       "      <td>302.0</td>\n",
       "      <td>471220</td>\n",
       "      <td>goddess|marriage ceremony|marriage proposal|pi...</td>\n",
       "      <td>English</td>\n",
       "      <td>USA</td>\n",
       "      <td>300000000.0</td>\n",
       "      <td>7.1</td>\n",
       "    </tr>\n",
       "    <tr>\n",
       "      <th>2</th>\n",
       "      <td>Spectre</td>\n",
       "      <td>2015.0</td>\n",
       "      <td>Color</td>\n",
       "      <td>PG-13</td>\n",
       "      <td>148.0</td>\n",
       "      <td>Sam Mendes</td>\n",
       "      <td>0.0</td>\n",
       "      <td>Christoph Waltz</td>\n",
       "      <td>11000.0</td>\n",
       "      <td>Rory Kinnear</td>\n",
       "      <td>...</td>\n",
       "      <td>161.0</td>\n",
       "      <td>200074175.0</td>\n",
       "      <td>Action|Adventure|Thriller</td>\n",
       "      <td>602.0</td>\n",
       "      <td>275868</td>\n",
       "      <td>bomb|espionage|sequel|spy|terrorist</td>\n",
       "      <td>English</td>\n",
       "      <td>UK</td>\n",
       "      <td>245000000.0</td>\n",
       "      <td>6.8</td>\n",
       "    </tr>\n",
       "    <tr>\n",
       "      <th>3</th>\n",
       "      <td>The Dark Knight Rises</td>\n",
       "      <td>2012.0</td>\n",
       "      <td>Color</td>\n",
       "      <td>PG-13</td>\n",
       "      <td>164.0</td>\n",
       "      <td>Christopher Nolan</td>\n",
       "      <td>22000.0</td>\n",
       "      <td>Tom Hardy</td>\n",
       "      <td>27000.0</td>\n",
       "      <td>Christian Bale</td>\n",
       "      <td>...</td>\n",
       "      <td>23000.0</td>\n",
       "      <td>448130642.0</td>\n",
       "      <td>Action|Thriller</td>\n",
       "      <td>813.0</td>\n",
       "      <td>1144337</td>\n",
       "      <td>deception|imprisonment|lawlessness|police offi...</td>\n",
       "      <td>English</td>\n",
       "      <td>USA</td>\n",
       "      <td>250000000.0</td>\n",
       "      <td>8.5</td>\n",
       "    </tr>\n",
       "    <tr>\n",
       "      <th>4</th>\n",
       "      <td>Star Wars: Episode VII - The Force Awakens</td>\n",
       "      <td>NaN</td>\n",
       "      <td>NaN</td>\n",
       "      <td>NaN</td>\n",
       "      <td>NaN</td>\n",
       "      <td>Doug Walker</td>\n",
       "      <td>131.0</td>\n",
       "      <td>Doug Walker</td>\n",
       "      <td>131.0</td>\n",
       "      <td>Rob Walker</td>\n",
       "      <td>...</td>\n",
       "      <td>NaN</td>\n",
       "      <td>NaN</td>\n",
       "      <td>Documentary</td>\n",
       "      <td>NaN</td>\n",
       "      <td>8</td>\n",
       "      <td>NaN</td>\n",
       "      <td>NaN</td>\n",
       "      <td>NaN</td>\n",
       "      <td>NaN</td>\n",
       "      <td>7.1</td>\n",
       "    </tr>\n",
       "    <tr>\n",
       "      <th>...</th>\n",
       "      <td>...</td>\n",
       "      <td>...</td>\n",
       "      <td>...</td>\n",
       "      <td>...</td>\n",
       "      <td>...</td>\n",
       "      <td>...</td>\n",
       "      <td>...</td>\n",
       "      <td>...</td>\n",
       "      <td>...</td>\n",
       "      <td>...</td>\n",
       "      <td>...</td>\n",
       "      <td>...</td>\n",
       "      <td>...</td>\n",
       "      <td>...</td>\n",
       "      <td>...</td>\n",
       "      <td>...</td>\n",
       "      <td>...</td>\n",
       "      <td>...</td>\n",
       "      <td>...</td>\n",
       "      <td>...</td>\n",
       "      <td>...</td>\n",
       "    </tr>\n",
       "    <tr>\n",
       "      <th>4911</th>\n",
       "      <td>Signed Sealed Delivered</td>\n",
       "      <td>2013.0</td>\n",
       "      <td>Color</td>\n",
       "      <td>NaN</td>\n",
       "      <td>87.0</td>\n",
       "      <td>Scott Smith</td>\n",
       "      <td>2.0</td>\n",
       "      <td>Eric Mabius</td>\n",
       "      <td>637.0</td>\n",
       "      <td>Daphne Zuniga</td>\n",
       "      <td>...</td>\n",
       "      <td>318.0</td>\n",
       "      <td>NaN</td>\n",
       "      <td>Comedy|Drama</td>\n",
       "      <td>1.0</td>\n",
       "      <td>629</td>\n",
       "      <td>fraud|postal worker|prison|theft|trial</td>\n",
       "      <td>English</td>\n",
       "      <td>Canada</td>\n",
       "      <td>NaN</td>\n",
       "      <td>7.7</td>\n",
       "    </tr>\n",
       "    <tr>\n",
       "      <th>4912</th>\n",
       "      <td>The Following</td>\n",
       "      <td>NaN</td>\n",
       "      <td>Color</td>\n",
       "      <td>TV-14</td>\n",
       "      <td>43.0</td>\n",
       "      <td>NaN</td>\n",
       "      <td>NaN</td>\n",
       "      <td>Natalie Zea</td>\n",
       "      <td>841.0</td>\n",
       "      <td>Valorie Curry</td>\n",
       "      <td>...</td>\n",
       "      <td>319.0</td>\n",
       "      <td>NaN</td>\n",
       "      <td>Crime|Drama|Mystery|Thriller</td>\n",
       "      <td>43.0</td>\n",
       "      <td>73839</td>\n",
       "      <td>cult|fbi|hideout|prison escape|serial killer</td>\n",
       "      <td>English</td>\n",
       "      <td>USA</td>\n",
       "      <td>NaN</td>\n",
       "      <td>7.5</td>\n",
       "    </tr>\n",
       "    <tr>\n",
       "      <th>4913</th>\n",
       "      <td>A Plague So Pleasant</td>\n",
       "      <td>2013.0</td>\n",
       "      <td>Color</td>\n",
       "      <td>NaN</td>\n",
       "      <td>76.0</td>\n",
       "      <td>Benjamin Roberds</td>\n",
       "      <td>0.0</td>\n",
       "      <td>Eva Boehnke</td>\n",
       "      <td>0.0</td>\n",
       "      <td>Maxwell Moody</td>\n",
       "      <td>...</td>\n",
       "      <td>0.0</td>\n",
       "      <td>NaN</td>\n",
       "      <td>Drama|Horror|Thriller</td>\n",
       "      <td>13.0</td>\n",
       "      <td>38</td>\n",
       "      <td>NaN</td>\n",
       "      <td>English</td>\n",
       "      <td>USA</td>\n",
       "      <td>1400.0</td>\n",
       "      <td>6.3</td>\n",
       "    </tr>\n",
       "    <tr>\n",
       "      <th>4914</th>\n",
       "      <td>Shanghai Calling</td>\n",
       "      <td>2012.0</td>\n",
       "      <td>Color</td>\n",
       "      <td>PG-13</td>\n",
       "      <td>100.0</td>\n",
       "      <td>Daniel Hsia</td>\n",
       "      <td>0.0</td>\n",
       "      <td>Alan Ruck</td>\n",
       "      <td>946.0</td>\n",
       "      <td>Daniel Henney</td>\n",
       "      <td>...</td>\n",
       "      <td>489.0</td>\n",
       "      <td>10443.0</td>\n",
       "      <td>Comedy|Drama|Romance</td>\n",
       "      <td>14.0</td>\n",
       "      <td>1255</td>\n",
       "      <td>NaN</td>\n",
       "      <td>English</td>\n",
       "      <td>USA</td>\n",
       "      <td>NaN</td>\n",
       "      <td>6.3</td>\n",
       "    </tr>\n",
       "    <tr>\n",
       "      <th>4915</th>\n",
       "      <td>My Date with Drew</td>\n",
       "      <td>2004.0</td>\n",
       "      <td>Color</td>\n",
       "      <td>PG</td>\n",
       "      <td>90.0</td>\n",
       "      <td>Jon Gunn</td>\n",
       "      <td>16.0</td>\n",
       "      <td>John August</td>\n",
       "      <td>86.0</td>\n",
       "      <td>Brian Herzlinger</td>\n",
       "      <td>...</td>\n",
       "      <td>16.0</td>\n",
       "      <td>85222.0</td>\n",
       "      <td>Documentary</td>\n",
       "      <td>43.0</td>\n",
       "      <td>4285</td>\n",
       "      <td>actress name in title|crush|date|four word tit...</td>\n",
       "      <td>English</td>\n",
       "      <td>USA</td>\n",
       "      <td>1100.0</td>\n",
       "      <td>6.6</td>\n",
       "    </tr>\n",
       "  </tbody>\n",
       "</table>\n",
       "<p>4916 rows × 22 columns</p>\n",
       "</div>"
      ],
      "text/plain": [
       "                                           title    year  color  \\\n",
       "0                                         Avatar  2009.0  Color   \n",
       "1       Pirates of the Caribbean: At World's End  2007.0  Color   \n",
       "2                                        Spectre  2015.0  Color   \n",
       "3                          The Dark Knight Rises  2012.0  Color   \n",
       "4     Star Wars: Episode VII - The Force Awakens     NaN    NaN   \n",
       "...                                          ...     ...    ...   \n",
       "4911                     Signed Sealed Delivered  2013.0  Color   \n",
       "4912                               The Following     NaN  Color   \n",
       "4913                        A Plague So Pleasant  2013.0  Color   \n",
       "4914                            Shanghai Calling  2012.0  Color   \n",
       "4915                           My Date with Drew  2004.0  Color   \n",
       "\n",
       "     content_rating  duration      director_name  director_fb  \\\n",
       "0             PG-13     178.0      James Cameron          0.0   \n",
       "1             PG-13     169.0     Gore Verbinski        563.0   \n",
       "2             PG-13     148.0         Sam Mendes          0.0   \n",
       "3             PG-13     164.0  Christopher Nolan      22000.0   \n",
       "4               NaN       NaN        Doug Walker        131.0   \n",
       "...             ...       ...                ...          ...   \n",
       "4911            NaN      87.0        Scott Smith          2.0   \n",
       "4912          TV-14      43.0                NaN          NaN   \n",
       "4913            NaN      76.0   Benjamin Roberds          0.0   \n",
       "4914          PG-13     100.0        Daniel Hsia          0.0   \n",
       "4915             PG      90.0           Jon Gunn         16.0   \n",
       "\n",
       "               actor1  actor1_fb            actor2  ...  actor3_fb  \\\n",
       "0         CCH Pounder     1000.0  Joel David Moore  ...      855.0   \n",
       "1         Johnny Depp    40000.0     Orlando Bloom  ...     1000.0   \n",
       "2     Christoph Waltz    11000.0      Rory Kinnear  ...      161.0   \n",
       "3           Tom Hardy    27000.0    Christian Bale  ...    23000.0   \n",
       "4         Doug Walker      131.0        Rob Walker  ...        NaN   \n",
       "...               ...        ...               ...  ...        ...   \n",
       "4911      Eric Mabius      637.0     Daphne Zuniga  ...      318.0   \n",
       "4912      Natalie Zea      841.0     Valorie Curry  ...      319.0   \n",
       "4913      Eva Boehnke        0.0     Maxwell Moody  ...        0.0   \n",
       "4914        Alan Ruck      946.0     Daniel Henney  ...      489.0   \n",
       "4915      John August       86.0  Brian Herzlinger  ...       16.0   \n",
       "\n",
       "            gross                           genres  num_reviews  \\\n",
       "0     760505847.0  Action|Adventure|Fantasy|Sci-Fi        723.0   \n",
       "1     309404152.0         Action|Adventure|Fantasy        302.0   \n",
       "2     200074175.0        Action|Adventure|Thriller        602.0   \n",
       "3     448130642.0                  Action|Thriller        813.0   \n",
       "4             NaN                      Documentary          NaN   \n",
       "...           ...                              ...          ...   \n",
       "4911          NaN                     Comedy|Drama          1.0   \n",
       "4912          NaN     Crime|Drama|Mystery|Thriller         43.0   \n",
       "4913          NaN            Drama|Horror|Thriller         13.0   \n",
       "4914      10443.0             Comedy|Drama|Romance         14.0   \n",
       "4915      85222.0                      Documentary         43.0   \n",
       "\n",
       "     num_voted_users                                      plot_keywords  \\\n",
       "0             886204             avatar|future|marine|native|paraplegic   \n",
       "1             471220  goddess|marriage ceremony|marriage proposal|pi...   \n",
       "2             275868                bomb|espionage|sequel|spy|terrorist   \n",
       "3            1144337  deception|imprisonment|lawlessness|police offi...   \n",
       "4                  8                                                NaN   \n",
       "...              ...                                                ...   \n",
       "4911             629             fraud|postal worker|prison|theft|trial   \n",
       "4912           73839       cult|fbi|hideout|prison escape|serial killer   \n",
       "4913              38                                                NaN   \n",
       "4914            1255                                                NaN   \n",
       "4915            4285  actress name in title|crush|date|four word tit...   \n",
       "\n",
       "      language country       budget imdb_score  \n",
       "0      English     USA  237000000.0        7.9  \n",
       "1      English     USA  300000000.0        7.1  \n",
       "2      English      UK  245000000.0        6.8  \n",
       "3      English     USA  250000000.0        8.5  \n",
       "4          NaN     NaN          NaN        7.1  \n",
       "...        ...     ...          ...        ...  \n",
       "4911   English  Canada          NaN        7.7  \n",
       "4912   English     USA          NaN        7.5  \n",
       "4913   English     USA       1400.0        6.3  \n",
       "4914   English     USA          NaN        6.3  \n",
       "4915   English     USA       1100.0        6.6  \n",
       "\n",
       "[4916 rows x 22 columns]"
      ]
     },
     "execution_count": 12,
     "metadata": {},
     "output_type": "execute_result"
    }
   ],
   "source": [
    "df[:]"
   ]
  },
  {
   "cell_type": "code",
   "execution_count": 16,
   "metadata": {},
   "outputs": [
    {
     "ename": "SyntaxError",
     "evalue": "invalid syntax (<ipython-input-16-802576d55b7e>, line 1)",
     "output_type": "error",
     "traceback": [
      "\u001b[1;36m  File \u001b[1;32m\"<ipython-input-16-802576d55b7e>\"\u001b[1;36m, line \u001b[1;32m1\u001b[0m\n\u001b[1;33m    len(df[,:])\u001b[0m\n\u001b[1;37m           ^\u001b[0m\n\u001b[1;31mSyntaxError\u001b[0m\u001b[1;31m:\u001b[0m invalid syntax\n"
     ]
    }
   ],
   "source": [
    "len(df[:])"
   ]
  },
  {
   "cell_type": "code",
   "execution_count": null,
   "metadata": {},
   "outputs": [],
   "source": []
  }
 ],
 "metadata": {
  "kernelspec": {
   "display_name": "Python 3",
   "language": "python",
   "name": "python3"
  },
  "language_info": {
   "codemirror_mode": {
    "name": "ipython",
    "version": 3
   },
   "file_extension": ".py",
   "mimetype": "text/x-python",
   "name": "python",
   "nbconvert_exporter": "python",
   "pygments_lexer": "ipython3",
   "version": "3.8.3"
  }
 },
 "nbformat": 4,
 "nbformat_minor": 2
}
