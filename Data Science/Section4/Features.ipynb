{
 "cells": [
  {
   "cell_type": "markdown",
   "metadata": {},
   "source": [
    "# Machine Learning- Section4"
   ]
  },
  {
   "cell_type": "code",
   "execution_count": 1,
   "metadata": {},
   "outputs": [],
   "source": [
    "import pandas as pd\n",
    "import numpy as np\n",
    "import seaborn as sns\n",
    "import matplotlib.pyplot as plt\n",
    "import math\n",
    "import sklearn\n",
    "from sklearn.linear_model import LogisticRegression, LogisticRegressionCV\n",
    "from sklearn.pipeline import Pipeline\n",
    "from sklearn.preprocessing import StandardScaler\n",
    "from sklearn.metrics import precision_score, accuracy_score\n",
    "from sklearn.compose import ColumnTransformer\n",
    "from sklearn.feature_extraction.text import CountVectorizer\n",
    "from sklearn.preprocessing import OneHotEncoder\n",
    "from sklearn.metrics import confusion_matrix\n",
    "from sklearn.ensemble import RandomForestClassifier\n",
    "import re"
   ]
  },
  {
   "cell_type": "code",
   "execution_count": 2,
   "metadata": {},
   "outputs": [],
   "source": [
    "rng = np.random.RandomState(20201104)\n",
    "pd.set_option('display.max_columns', 500)"
   ]
  },
  {
   "cell_type": "markdown",
   "metadata": {},
   "source": [
    "# Section1: Understand the Dataset"
   ]
  },
  {
   "cell_type": "markdown",
   "metadata": {},
   "source": [
    "## 1. Read Dataframe"
   ]
  },
  {
   "cell_type": "code",
   "execution_count": 4,
   "metadata": {},
   "outputs": [
    {
     "data": {
      "text/html": [
       "<div>\n",
       "<style scoped>\n",
       "    .dataframe tbody tr th:only-of-type {\n",
       "        vertical-align: middle;\n",
       "    }\n",
       "\n",
       "    .dataframe tbody tr th {\n",
       "        vertical-align: top;\n",
       "    }\n",
       "\n",
       "    .dataframe thead th {\n",
       "        text-align: right;\n",
       "    }\n",
       "</style>\n",
       "<table border=\"1\" class=\"dataframe\">\n",
       "  <thead>\n",
       "    <tr style=\"text-align: right;\">\n",
       "      <th></th>\n",
       "      <th>LoanNr_ChkDgt</th>\n",
       "      <th>Name</th>\n",
       "      <th>City</th>\n",
       "      <th>State</th>\n",
       "      <th>Zip</th>\n",
       "      <th>Bank</th>\n",
       "      <th>BankState</th>\n",
       "      <th>NAICS</th>\n",
       "      <th>ApprovalDate</th>\n",
       "      <th>ApprovalFY</th>\n",
       "      <th>Term</th>\n",
       "      <th>NoEmp</th>\n",
       "      <th>NewExist</th>\n",
       "      <th>CreateJob</th>\n",
       "      <th>RetainedJob</th>\n",
       "      <th>FranchiseCode</th>\n",
       "      <th>UrbanRural</th>\n",
       "      <th>RevLineCr</th>\n",
       "      <th>LowDoc</th>\n",
       "      <th>ChgOffDate</th>\n",
       "      <th>DisbursementDate</th>\n",
       "      <th>DisbursementGross</th>\n",
       "      <th>BalanceGross</th>\n",
       "      <th>MIS_Status</th>\n",
       "      <th>ChgOffPrinGr</th>\n",
       "      <th>GrAppv</th>\n",
       "      <th>SBA_Appv</th>\n",
       "    </tr>\n",
       "  </thead>\n",
       "  <tbody>\n",
       "    <tr>\n",
       "      <td>0</td>\n",
       "      <td>1000014003</td>\n",
       "      <td>ABC HOBBYCRAFT</td>\n",
       "      <td>EVANSVILLE</td>\n",
       "      <td>IN</td>\n",
       "      <td>47711</td>\n",
       "      <td>FIFTH THIRD BANK</td>\n",
       "      <td>OH</td>\n",
       "      <td>451120</td>\n",
       "      <td>28-Feb-97</td>\n",
       "      <td>1997</td>\n",
       "      <td>84</td>\n",
       "      <td>4</td>\n",
       "      <td>2.0</td>\n",
       "      <td>0</td>\n",
       "      <td>0</td>\n",
       "      <td>1</td>\n",
       "      <td>0</td>\n",
       "      <td>N</td>\n",
       "      <td>Y</td>\n",
       "      <td>NaN</td>\n",
       "      <td>28-Feb-99</td>\n",
       "      <td>$60,000.00</td>\n",
       "      <td>$0.00</td>\n",
       "      <td>P I F</td>\n",
       "      <td>$0.00</td>\n",
       "      <td>$60,000.00</td>\n",
       "      <td>$48,000.00</td>\n",
       "    </tr>\n",
       "    <tr>\n",
       "      <td>1</td>\n",
       "      <td>1000024006</td>\n",
       "      <td>LANDMARK BAR &amp; GRILLE (THE)</td>\n",
       "      <td>NEW PARIS</td>\n",
       "      <td>IN</td>\n",
       "      <td>46526</td>\n",
       "      <td>1ST SOURCE BANK</td>\n",
       "      <td>IN</td>\n",
       "      <td>722410</td>\n",
       "      <td>28-Feb-97</td>\n",
       "      <td>1997</td>\n",
       "      <td>60</td>\n",
       "      <td>2</td>\n",
       "      <td>2.0</td>\n",
       "      <td>0</td>\n",
       "      <td>0</td>\n",
       "      <td>1</td>\n",
       "      <td>0</td>\n",
       "      <td>N</td>\n",
       "      <td>Y</td>\n",
       "      <td>NaN</td>\n",
       "      <td>31-May-97</td>\n",
       "      <td>$40,000.00</td>\n",
       "      <td>$0.00</td>\n",
       "      <td>P I F</td>\n",
       "      <td>$0.00</td>\n",
       "      <td>$40,000.00</td>\n",
       "      <td>$32,000.00</td>\n",
       "    </tr>\n",
       "    <tr>\n",
       "      <td>2</td>\n",
       "      <td>1000034009</td>\n",
       "      <td>WHITLOCK DDS, TODD M.</td>\n",
       "      <td>BLOOMINGTON</td>\n",
       "      <td>IN</td>\n",
       "      <td>47401</td>\n",
       "      <td>GRANT COUNTY STATE BANK</td>\n",
       "      <td>IN</td>\n",
       "      <td>621210</td>\n",
       "      <td>28-Feb-97</td>\n",
       "      <td>1997</td>\n",
       "      <td>180</td>\n",
       "      <td>7</td>\n",
       "      <td>1.0</td>\n",
       "      <td>0</td>\n",
       "      <td>0</td>\n",
       "      <td>1</td>\n",
       "      <td>0</td>\n",
       "      <td>N</td>\n",
       "      <td>N</td>\n",
       "      <td>NaN</td>\n",
       "      <td>31-Dec-97</td>\n",
       "      <td>$287,000.00</td>\n",
       "      <td>$0.00</td>\n",
       "      <td>P I F</td>\n",
       "      <td>$0.00</td>\n",
       "      <td>$287,000.00</td>\n",
       "      <td>$215,250.00</td>\n",
       "    </tr>\n",
       "    <tr>\n",
       "      <td>3</td>\n",
       "      <td>1000044001</td>\n",
       "      <td>BIG BUCKS PAWN &amp; JEWELRY, LLC</td>\n",
       "      <td>BROKEN ARROW</td>\n",
       "      <td>OK</td>\n",
       "      <td>74012</td>\n",
       "      <td>1ST NATL BK &amp; TR CO OF BROKEN</td>\n",
       "      <td>OK</td>\n",
       "      <td>0</td>\n",
       "      <td>28-Feb-97</td>\n",
       "      <td>1997</td>\n",
       "      <td>60</td>\n",
       "      <td>2</td>\n",
       "      <td>1.0</td>\n",
       "      <td>0</td>\n",
       "      <td>0</td>\n",
       "      <td>1</td>\n",
       "      <td>0</td>\n",
       "      <td>N</td>\n",
       "      <td>Y</td>\n",
       "      <td>NaN</td>\n",
       "      <td>30-Jun-97</td>\n",
       "      <td>$35,000.00</td>\n",
       "      <td>$0.00</td>\n",
       "      <td>P I F</td>\n",
       "      <td>$0.00</td>\n",
       "      <td>$35,000.00</td>\n",
       "      <td>$28,000.00</td>\n",
       "    </tr>\n",
       "    <tr>\n",
       "      <td>4</td>\n",
       "      <td>1000054004</td>\n",
       "      <td>ANASTASIA CONFECTIONS, INC.</td>\n",
       "      <td>ORLANDO</td>\n",
       "      <td>FL</td>\n",
       "      <td>32801</td>\n",
       "      <td>FLORIDA BUS. DEVEL CORP</td>\n",
       "      <td>FL</td>\n",
       "      <td>0</td>\n",
       "      <td>28-Feb-97</td>\n",
       "      <td>1997</td>\n",
       "      <td>240</td>\n",
       "      <td>14</td>\n",
       "      <td>1.0</td>\n",
       "      <td>7</td>\n",
       "      <td>7</td>\n",
       "      <td>1</td>\n",
       "      <td>0</td>\n",
       "      <td>N</td>\n",
       "      <td>N</td>\n",
       "      <td>NaN</td>\n",
       "      <td>14-May-97</td>\n",
       "      <td>$229,000.00</td>\n",
       "      <td>$0.00</td>\n",
       "      <td>P I F</td>\n",
       "      <td>$0.00</td>\n",
       "      <td>$229,000.00</td>\n",
       "      <td>$229,000.00</td>\n",
       "    </tr>\n",
       "  </tbody>\n",
       "</table>\n",
       "</div>"
      ],
      "text/plain": [
       "   LoanNr_ChkDgt                           Name          City State    Zip  \\\n",
       "0     1000014003                 ABC HOBBYCRAFT    EVANSVILLE    IN  47711   \n",
       "1     1000024006    LANDMARK BAR & GRILLE (THE)     NEW PARIS    IN  46526   \n",
       "2     1000034009          WHITLOCK DDS, TODD M.   BLOOMINGTON    IN  47401   \n",
       "3     1000044001  BIG BUCKS PAWN & JEWELRY, LLC  BROKEN ARROW    OK  74012   \n",
       "4     1000054004    ANASTASIA CONFECTIONS, INC.       ORLANDO    FL  32801   \n",
       "\n",
       "                            Bank BankState   NAICS ApprovalDate ApprovalFY  \\\n",
       "0               FIFTH THIRD BANK        OH  451120    28-Feb-97       1997   \n",
       "1                1ST SOURCE BANK        IN  722410    28-Feb-97       1997   \n",
       "2        GRANT COUNTY STATE BANK        IN  621210    28-Feb-97       1997   \n",
       "3  1ST NATL BK & TR CO OF BROKEN        OK       0    28-Feb-97       1997   \n",
       "4        FLORIDA BUS. DEVEL CORP        FL       0    28-Feb-97       1997   \n",
       "\n",
       "   Term  NoEmp  NewExist  CreateJob  RetainedJob  FranchiseCode  UrbanRural  \\\n",
       "0    84      4       2.0          0            0              1           0   \n",
       "1    60      2       2.0          0            0              1           0   \n",
       "2   180      7       1.0          0            0              1           0   \n",
       "3    60      2       1.0          0            0              1           0   \n",
       "4   240     14       1.0          7            7              1           0   \n",
       "\n",
       "  RevLineCr LowDoc ChgOffDate DisbursementDate DisbursementGross BalanceGross  \\\n",
       "0         N      Y        NaN        28-Feb-99       $60,000.00        $0.00    \n",
       "1         N      Y        NaN        31-May-97       $40,000.00        $0.00    \n",
       "2         N      N        NaN        31-Dec-97      $287,000.00        $0.00    \n",
       "3         N      Y        NaN        30-Jun-97       $35,000.00        $0.00    \n",
       "4         N      N        NaN        14-May-97      $229,000.00        $0.00    \n",
       "\n",
       "  MIS_Status ChgOffPrinGr        GrAppv      SBA_Appv  \n",
       "0      P I F       $0.00    $60,000.00    $48,000.00   \n",
       "1      P I F       $0.00    $40,000.00    $32,000.00   \n",
       "2      P I F       $0.00   $287,000.00   $215,250.00   \n",
       "3      P I F       $0.00    $35,000.00    $28,000.00   \n",
       "4      P I F       $0.00   $229,000.00   $229,000.00   "
      ]
     },
     "execution_count": 4,
     "metadata": {},
     "output_type": "execute_result"
    }
   ],
   "source": [
    "SBA_national= pd.read_csv('SBAnational.csv', low_memory=False)\n",
    "SBA_national.head()"
   ]
  },
  {
   "cell_type": "code",
   "execution_count": 5,
   "metadata": {},
   "outputs": [
    {
     "name": "stdout",
     "output_type": "stream",
     "text": [
      "<class 'pandas.core.frame.DataFrame'>\n",
      "RangeIndex: 899164 entries, 0 to 899163\n",
      "Data columns (total 27 columns):\n",
      "LoanNr_ChkDgt        899164 non-null int64\n",
      "Name                 899150 non-null object\n",
      "City                 899134 non-null object\n",
      "State                899150 non-null object\n",
      "Zip                  899164 non-null int64\n",
      "Bank                 897605 non-null object\n",
      "BankState            897598 non-null object\n",
      "NAICS                899164 non-null int64\n",
      "ApprovalDate         899164 non-null object\n",
      "ApprovalFY           899164 non-null object\n",
      "Term                 899164 non-null int64\n",
      "NoEmp                899164 non-null int64\n",
      "NewExist             899028 non-null float64\n",
      "CreateJob            899164 non-null int64\n",
      "RetainedJob          899164 non-null int64\n",
      "FranchiseCode        899164 non-null int64\n",
      "UrbanRural           899164 non-null int64\n",
      "RevLineCr            894636 non-null object\n",
      "LowDoc               896582 non-null object\n",
      "ChgOffDate           162699 non-null object\n",
      "DisbursementDate     896796 non-null object\n",
      "DisbursementGross    899164 non-null object\n",
      "BalanceGross         899164 non-null object\n",
      "MIS_Status           897167 non-null object\n",
      "ChgOffPrinGr         899164 non-null object\n",
      "GrAppv               899164 non-null object\n",
      "SBA_Appv             899164 non-null object\n",
      "dtypes: float64(1), int64(9), object(17)\n",
      "memory usage: 185.2+ MB\n"
     ]
    }
   ],
   "source": [
    "SBA_national.info()"
   ]
  },
  {
   "cell_type": "code",
   "execution_count": 6,
   "metadata": {},
   "outputs": [
    {
     "name": "stdout",
     "output_type": "stream",
     "text": [
      "Number of Rows of the dataset is:  899164\n",
      "Number of Columns of the dataset is:  27\n"
     ]
    }
   ],
   "source": [
    "print('Number of Rows of the dataset is: ', SBA_national.shape[0])\n",
    "print('Number of Columns of the dataset is: ', SBA_national.shape[1])"
   ]
  },
  {
   "cell_type": "markdown",
   "metadata": {},
   "source": [
    "## 2. Change dtypes of needed columns"
   ]
  },
  {
   "cell_type": "markdown",
   "metadata": {},
   "source": [
    "### 2.1 Dates"
   ]
  },
  {
   "cell_type": "code",
   "execution_count": 7,
   "metadata": {},
   "outputs": [],
   "source": [
    "dates_columns=['ApprovalDate','DisbursementDate']\n",
    "SBA_national['ApprovalDate']= pd.to_datetime(SBA_national['ApprovalDate'], format='%d-%b-%y')\n",
    "SBA_national['DisbursementDate']= pd.to_datetime(SBA_national['DisbursementDate'], format='%d-%b-%y')"
   ]
  },
  {
   "cell_type": "markdown",
   "metadata": {},
   "source": [
    "### 2.1 Currency"
   ]
  },
  {
   "cell_type": "code",
   "execution_count": 8,
   "metadata": {},
   "outputs": [],
   "source": [
    "currency_columns= ['DisbursementGross','SBA_Appv', 'GrAppv', 'BalanceGross',  'ChgOffPrinGr']\n",
    "SBA_national[\"DisbursementGross\"]=SBA_national[\"DisbursementGross\"].apply(lambda x: float(x.split(\",\")[0].split(\"$\")[1]))\n",
    "SBA_national[\"SBA_Appv\"]=SBA_national.SBA_Appv.apply(lambda x: float(x.split(\",\")[0].split(\"$\")[1]))\n",
    "SBA_national[\"GrAppv\"]=SBA_national.GrAppv.apply(lambda x: float(x.split(\",\")[0].split(\"$\")[1]))"
   ]
  },
  {
   "cell_type": "markdown",
   "metadata": {},
   "source": [
    "## 3. Data Preprocessing \n",
    "We do this column-wise"
   ]
  },
  {
   "cell_type": "markdown",
   "metadata": {},
   "source": [
    "## 3.1 MIS_Status\n",
    "We have 1997 null values here, we fill them with the help og the 'ChgOffPrinGr' columns as it has the a value of the reminder of loan not paid by business hence it is charged off!"
   ]
  },
  {
   "cell_type": "code",
   "execution_count": 9,
   "metadata": {},
   "outputs": [
    {
     "data": {
      "text/plain": [
       "899164"
      ]
     },
     "execution_count": 9,
     "metadata": {},
     "output_type": "execute_result"
    }
   ],
   "source": [
    "SBA_national.loc[(SBA_national['MIS_Status'].isnull()) , 'MIS_Status']= SBA_national[(SBA_national['MIS_Status'].isnull())]['ChgOffPrinGr']\n",
    "SBA_national['Y']= SBA_national['MIS_Status']\n",
    "SBA_national['Y'].replace({'P I F': 1,'$0.00 ':1}, inplace= True)\n",
    "SBA_national.loc[SBA_national['Y']!=1 , 'Y'] = 0\n",
    "SBA_national.drop(columns=['MIS_Status'], inplace= True)\n",
    "SBA_national['Y'].dropna(inplace=True)\n",
    "len(SBA_national)"
   ]
  },
  {
   "cell_type": "code",
   "execution_count": 10,
   "metadata": {},
   "outputs": [
    {
     "data": {
      "text/plain": [
       "1    741349\n",
       "0    157815\n",
       "Name: Y, dtype: int64"
      ]
     },
     "execution_count": 10,
     "metadata": {},
     "output_type": "execute_result"
    }
   ],
   "source": [
    "SBA_national['Y'].value_counts()"
   ]
  },
  {
   "cell_type": "markdown",
   "metadata": {},
   "source": [
    "### 3.2 State\n",
    "We fill the 14 null from this column with the help of the 'City', there are 2 values OUTSIDE the US so we remove them "
   ]
  },
  {
   "cell_type": "code",
   "execution_count": 11,
   "metadata": {},
   "outputs": [
    {
     "name": "stdout",
     "output_type": "stream",
     "text": [
      "Then the dataframe gets reduced by 2, which is acceplaple as the df is large\n",
      "The new Datarfame is:  899162\n"
     ]
    }
   ],
   "source": [
    "#Filled Manually!\n",
    "SBA_national.loc[35517, 'State'] = 'NJ'\n",
    "SBA_national.loc[49244, 'State'] = 'NY'\n",
    "SBA_national.loc[264664, 'State'] = 'TX'\n",
    "SBA_national.loc[306274, 'State'] = 'AP'\n",
    "SBA_national.loc[328526, 'State'] = 'KS'\n",
    "SBA_national.loc[366139, 'State'] = 'FL'\n",
    "SBA_national.loc[366158, 'State'] = 'ME'\n",
    "SBA_national.loc[379174, 'State'] = 'UT'\n",
    "SBA_national.loc[385418, 'State'] = 'MO'\n",
    "SBA_national.loc[869948, 'State'] = 'TX'\n",
    "SBA_national.loc[871847, 'State'] = 'TX'\n",
    "SBA_national.loc[885335, 'State'] = 'TX'\n",
    "SBA_national= SBA_national.loc[SBA_national['State'].notna(), :]\n",
    "print('Then the dataframe gets reduced by 2, which is acceplaple as the df is large')\n",
    "print('The new Datarfame is: ', len(SBA_national))"
   ]
  },
  {
   "cell_type": "markdown",
   "metadata": {},
   "source": [
    "### 3.3 NAICS\n",
    "No Nulls here, just extract the 53 code."
   ]
  },
  {
   "cell_type": "code",
   "execution_count": 12,
   "metadata": {},
   "outputs": [
    {
     "data": {
      "text/html": [
       "<div>\n",
       "<style scoped>\n",
       "    .dataframe tbody tr th:only-of-type {\n",
       "        vertical-align: middle;\n",
       "    }\n",
       "\n",
       "    .dataframe tbody tr th {\n",
       "        vertical-align: top;\n",
       "    }\n",
       "\n",
       "    .dataframe thead th {\n",
       "        text-align: right;\n",
       "    }\n",
       "</style>\n",
       "<table border=\"1\" class=\"dataframe\">\n",
       "  <thead>\n",
       "    <tr style=\"text-align: right;\">\n",
       "      <th></th>\n",
       "      <th>LoanNr_ChkDgt</th>\n",
       "      <th>Name</th>\n",
       "      <th>City</th>\n",
       "      <th>State</th>\n",
       "      <th>Zip</th>\n",
       "      <th>Bank</th>\n",
       "      <th>BankState</th>\n",
       "      <th>NAICS</th>\n",
       "      <th>ApprovalDate</th>\n",
       "      <th>ApprovalFY</th>\n",
       "      <th>Term</th>\n",
       "      <th>NoEmp</th>\n",
       "      <th>NewExist</th>\n",
       "      <th>CreateJob</th>\n",
       "      <th>RetainedJob</th>\n",
       "      <th>FranchiseCode</th>\n",
       "      <th>UrbanRural</th>\n",
       "      <th>RevLineCr</th>\n",
       "      <th>LowDoc</th>\n",
       "      <th>ChgOffDate</th>\n",
       "      <th>DisbursementDate</th>\n",
       "      <th>DisbursementGross</th>\n",
       "      <th>BalanceGross</th>\n",
       "      <th>ChgOffPrinGr</th>\n",
       "      <th>GrAppv</th>\n",
       "      <th>SBA_Appv</th>\n",
       "      <th>Y</th>\n",
       "    </tr>\n",
       "  </thead>\n",
       "  <tbody>\n",
       "    <tr>\n",
       "      <td>0</td>\n",
       "      <td>1000014003</td>\n",
       "      <td>ABC HOBBYCRAFT</td>\n",
       "      <td>EVANSVILLE</td>\n",
       "      <td>IN</td>\n",
       "      <td>47711</td>\n",
       "      <td>FIFTH THIRD BANK</td>\n",
       "      <td>OH</td>\n",
       "      <td>451120</td>\n",
       "      <td>1997-02-28</td>\n",
       "      <td>1997</td>\n",
       "      <td>84</td>\n",
       "      <td>4</td>\n",
       "      <td>2.0</td>\n",
       "      <td>0</td>\n",
       "      <td>0</td>\n",
       "      <td>1</td>\n",
       "      <td>0</td>\n",
       "      <td>N</td>\n",
       "      <td>Y</td>\n",
       "      <td>NaN</td>\n",
       "      <td>1999-02-28</td>\n",
       "      <td>60.0</td>\n",
       "      <td>$0.00</td>\n",
       "      <td>$0.00</td>\n",
       "      <td>60.0</td>\n",
       "      <td>48.0</td>\n",
       "      <td>1</td>\n",
       "    </tr>\n",
       "    <tr>\n",
       "      <td>1</td>\n",
       "      <td>1000024006</td>\n",
       "      <td>LANDMARK BAR &amp; GRILLE (THE)</td>\n",
       "      <td>NEW PARIS</td>\n",
       "      <td>IN</td>\n",
       "      <td>46526</td>\n",
       "      <td>1ST SOURCE BANK</td>\n",
       "      <td>IN</td>\n",
       "      <td>722410</td>\n",
       "      <td>1997-02-28</td>\n",
       "      <td>1997</td>\n",
       "      <td>60</td>\n",
       "      <td>2</td>\n",
       "      <td>2.0</td>\n",
       "      <td>0</td>\n",
       "      <td>0</td>\n",
       "      <td>1</td>\n",
       "      <td>0</td>\n",
       "      <td>N</td>\n",
       "      <td>Y</td>\n",
       "      <td>NaN</td>\n",
       "      <td>1997-05-31</td>\n",
       "      <td>40.0</td>\n",
       "      <td>$0.00</td>\n",
       "      <td>$0.00</td>\n",
       "      <td>40.0</td>\n",
       "      <td>32.0</td>\n",
       "      <td>1</td>\n",
       "    </tr>\n",
       "    <tr>\n",
       "      <td>2</td>\n",
       "      <td>1000034009</td>\n",
       "      <td>WHITLOCK DDS, TODD M.</td>\n",
       "      <td>BLOOMINGTON</td>\n",
       "      <td>IN</td>\n",
       "      <td>47401</td>\n",
       "      <td>GRANT COUNTY STATE BANK</td>\n",
       "      <td>IN</td>\n",
       "      <td>621210</td>\n",
       "      <td>1997-02-28</td>\n",
       "      <td>1997</td>\n",
       "      <td>180</td>\n",
       "      <td>7</td>\n",
       "      <td>1.0</td>\n",
       "      <td>0</td>\n",
       "      <td>0</td>\n",
       "      <td>1</td>\n",
       "      <td>0</td>\n",
       "      <td>N</td>\n",
       "      <td>N</td>\n",
       "      <td>NaN</td>\n",
       "      <td>1997-12-31</td>\n",
       "      <td>287.0</td>\n",
       "      <td>$0.00</td>\n",
       "      <td>$0.00</td>\n",
       "      <td>287.0</td>\n",
       "      <td>215.0</td>\n",
       "      <td>1</td>\n",
       "    </tr>\n",
       "    <tr>\n",
       "      <td>3</td>\n",
       "      <td>1000044001</td>\n",
       "      <td>BIG BUCKS PAWN &amp; JEWELRY, LLC</td>\n",
       "      <td>BROKEN ARROW</td>\n",
       "      <td>OK</td>\n",
       "      <td>74012</td>\n",
       "      <td>1ST NATL BK &amp; TR CO OF BROKEN</td>\n",
       "      <td>OK</td>\n",
       "      <td>0</td>\n",
       "      <td>1997-02-28</td>\n",
       "      <td>1997</td>\n",
       "      <td>60</td>\n",
       "      <td>2</td>\n",
       "      <td>1.0</td>\n",
       "      <td>0</td>\n",
       "      <td>0</td>\n",
       "      <td>1</td>\n",
       "      <td>0</td>\n",
       "      <td>N</td>\n",
       "      <td>Y</td>\n",
       "      <td>NaN</td>\n",
       "      <td>1997-06-30</td>\n",
       "      <td>35.0</td>\n",
       "      <td>$0.00</td>\n",
       "      <td>$0.00</td>\n",
       "      <td>35.0</td>\n",
       "      <td>28.0</td>\n",
       "      <td>1</td>\n",
       "    </tr>\n",
       "    <tr>\n",
       "      <td>4</td>\n",
       "      <td>1000054004</td>\n",
       "      <td>ANASTASIA CONFECTIONS, INC.</td>\n",
       "      <td>ORLANDO</td>\n",
       "      <td>FL</td>\n",
       "      <td>32801</td>\n",
       "      <td>FLORIDA BUS. DEVEL CORP</td>\n",
       "      <td>FL</td>\n",
       "      <td>0</td>\n",
       "      <td>1997-02-28</td>\n",
       "      <td>1997</td>\n",
       "      <td>240</td>\n",
       "      <td>14</td>\n",
       "      <td>1.0</td>\n",
       "      <td>7</td>\n",
       "      <td>7</td>\n",
       "      <td>1</td>\n",
       "      <td>0</td>\n",
       "      <td>N</td>\n",
       "      <td>N</td>\n",
       "      <td>NaN</td>\n",
       "      <td>1997-05-14</td>\n",
       "      <td>229.0</td>\n",
       "      <td>$0.00</td>\n",
       "      <td>$0.00</td>\n",
       "      <td>229.0</td>\n",
       "      <td>229.0</td>\n",
       "      <td>1</td>\n",
       "    </tr>\n",
       "  </tbody>\n",
       "</table>\n",
       "</div>"
      ],
      "text/plain": [
       "   LoanNr_ChkDgt                           Name          City State    Zip  \\\n",
       "0     1000014003                 ABC HOBBYCRAFT    EVANSVILLE    IN  47711   \n",
       "1     1000024006    LANDMARK BAR & GRILLE (THE)     NEW PARIS    IN  46526   \n",
       "2     1000034009          WHITLOCK DDS, TODD M.   BLOOMINGTON    IN  47401   \n",
       "3     1000044001  BIG BUCKS PAWN & JEWELRY, LLC  BROKEN ARROW    OK  74012   \n",
       "4     1000054004    ANASTASIA CONFECTIONS, INC.       ORLANDO    FL  32801   \n",
       "\n",
       "                            Bank BankState   NAICS ApprovalDate ApprovalFY  \\\n",
       "0               FIFTH THIRD BANK        OH  451120   1997-02-28       1997   \n",
       "1                1ST SOURCE BANK        IN  722410   1997-02-28       1997   \n",
       "2        GRANT COUNTY STATE BANK        IN  621210   1997-02-28       1997   \n",
       "3  1ST NATL BK & TR CO OF BROKEN        OK       0   1997-02-28       1997   \n",
       "4        FLORIDA BUS. DEVEL CORP        FL       0   1997-02-28       1997   \n",
       "\n",
       "   Term  NoEmp  NewExist  CreateJob  RetainedJob  FranchiseCode  UrbanRural  \\\n",
       "0    84      4       2.0          0            0              1           0   \n",
       "1    60      2       2.0          0            0              1           0   \n",
       "2   180      7       1.0          0            0              1           0   \n",
       "3    60      2       1.0          0            0              1           0   \n",
       "4   240     14       1.0          7            7              1           0   \n",
       "\n",
       "  RevLineCr LowDoc ChgOffDate DisbursementDate  DisbursementGross  \\\n",
       "0         N      Y        NaN       1999-02-28               60.0   \n",
       "1         N      Y        NaN       1997-05-31               40.0   \n",
       "2         N      N        NaN       1997-12-31              287.0   \n",
       "3         N      Y        NaN       1997-06-30               35.0   \n",
       "4         N      N        NaN       1997-05-14              229.0   \n",
       "\n",
       "  BalanceGross ChgOffPrinGr  GrAppv  SBA_Appv  Y  \n",
       "0       $0.00        $0.00     60.0      48.0  1  \n",
       "1       $0.00        $0.00     40.0      32.0  1  \n",
       "2       $0.00        $0.00    287.0     215.0  1  \n",
       "3       $0.00        $0.00     35.0      28.0  1  \n",
       "4       $0.00        $0.00    229.0     229.0  1  "
      ]
     },
     "execution_count": 12,
     "metadata": {},
     "output_type": "execute_result"
    }
   ],
   "source": [
    "SBA_national.head()"
   ]
  },
  {
   "cell_type": "code",
   "execution_count": 13,
   "metadata": {},
   "outputs": [
    {
     "data": {
      "text/html": [
       "<div>\n",
       "<style scoped>\n",
       "    .dataframe tbody tr th:only-of-type {\n",
       "        vertical-align: middle;\n",
       "    }\n",
       "\n",
       "    .dataframe tbody tr th {\n",
       "        vertical-align: top;\n",
       "    }\n",
       "\n",
       "    .dataframe thead th {\n",
       "        text-align: right;\n",
       "    }\n",
       "</style>\n",
       "<table border=\"1\" class=\"dataframe\">\n",
       "  <thead>\n",
       "    <tr style=\"text-align: right;\">\n",
       "      <th></th>\n",
       "      <th>LoanNr_ChkDgt</th>\n",
       "      <th>Name</th>\n",
       "      <th>City</th>\n",
       "      <th>State</th>\n",
       "      <th>Zip</th>\n",
       "      <th>Bank</th>\n",
       "      <th>BankState</th>\n",
       "      <th>NAICS</th>\n",
       "      <th>ApprovalDate</th>\n",
       "      <th>ApprovalFY</th>\n",
       "      <th>Term</th>\n",
       "      <th>NoEmp</th>\n",
       "      <th>NewExist</th>\n",
       "      <th>CreateJob</th>\n",
       "      <th>RetainedJob</th>\n",
       "      <th>FranchiseCode</th>\n",
       "      <th>UrbanRural</th>\n",
       "      <th>RevLineCr</th>\n",
       "      <th>LowDoc</th>\n",
       "      <th>ChgOffDate</th>\n",
       "      <th>DisbursementDate</th>\n",
       "      <th>DisbursementGross</th>\n",
       "      <th>BalanceGross</th>\n",
       "      <th>ChgOffPrinGr</th>\n",
       "      <th>GrAppv</th>\n",
       "      <th>SBA_Appv</th>\n",
       "      <th>Y</th>\n",
       "      <th>is53</th>\n",
       "    </tr>\n",
       "  </thead>\n",
       "  <tbody>\n",
       "    <tr>\n",
       "      <td>0</td>\n",
       "      <td>1000014003</td>\n",
       "      <td>ABC HOBBYCRAFT</td>\n",
       "      <td>EVANSVILLE</td>\n",
       "      <td>IN</td>\n",
       "      <td>47711</td>\n",
       "      <td>FIFTH THIRD BANK</td>\n",
       "      <td>OH</td>\n",
       "      <td>451120</td>\n",
       "      <td>1997-02-28</td>\n",
       "      <td>1997</td>\n",
       "      <td>84</td>\n",
       "      <td>4</td>\n",
       "      <td>2.0</td>\n",
       "      <td>0</td>\n",
       "      <td>0</td>\n",
       "      <td>1</td>\n",
       "      <td>0</td>\n",
       "      <td>N</td>\n",
       "      <td>Y</td>\n",
       "      <td>NaN</td>\n",
       "      <td>1999-02-28</td>\n",
       "      <td>60.0</td>\n",
       "      <td>$0.00</td>\n",
       "      <td>$0.00</td>\n",
       "      <td>60.0</td>\n",
       "      <td>48.0</td>\n",
       "      <td>1</td>\n",
       "      <td>0</td>\n",
       "    </tr>\n",
       "  </tbody>\n",
       "</table>\n",
       "</div>"
      ],
      "text/plain": [
       "   LoanNr_ChkDgt            Name        City State    Zip              Bank  \\\n",
       "0     1000014003  ABC HOBBYCRAFT  EVANSVILLE    IN  47711  FIFTH THIRD BANK   \n",
       "\n",
       "  BankState   NAICS ApprovalDate ApprovalFY  Term  NoEmp  NewExist  CreateJob  \\\n",
       "0        OH  451120   1997-02-28       1997    84      4       2.0          0   \n",
       "\n",
       "   RetainedJob  FranchiseCode  UrbanRural RevLineCr LowDoc ChgOffDate  \\\n",
       "0            0              1           0         N      Y        NaN   \n",
       "\n",
       "  DisbursementDate  DisbursementGross BalanceGross ChgOffPrinGr  GrAppv  \\\n",
       "0       1999-02-28               60.0       $0.00        $0.00     60.0   \n",
       "\n",
       "   SBA_Appv  Y  is53  \n",
       "0      48.0  1     0  "
      ]
     },
     "execution_count": 13,
     "metadata": {},
     "output_type": "execute_result"
    }
   ],
   "source": [
    "SBA_national[\"is53\"]=SBA_national['NAICS'].apply(lambda x: 1 if str(x).startswith(\"53\") else 0)\n",
    "SBA_national.head(1)"
   ]
  },
  {
   "cell_type": "markdown",
   "metadata": {},
   "source": [
    "### 3.4 Term\n",
    "This feature has no nulls, and refering to the Paper we need to distinguish the realestate businesses as they have much higher loans months."
   ]
  },
  {
   "cell_type": "code",
   "execution_count": 14,
   "metadata": {},
   "outputs": [
    {
     "data": {
      "text/html": [
       "<div>\n",
       "<style scoped>\n",
       "    .dataframe tbody tr th:only-of-type {\n",
       "        vertical-align: middle;\n",
       "    }\n",
       "\n",
       "    .dataframe tbody tr th {\n",
       "        vertical-align: top;\n",
       "    }\n",
       "\n",
       "    .dataframe thead th {\n",
       "        text-align: right;\n",
       "    }\n",
       "</style>\n",
       "<table border=\"1\" class=\"dataframe\">\n",
       "  <thead>\n",
       "    <tr style=\"text-align: right;\">\n",
       "      <th></th>\n",
       "      <th>LoanNr_ChkDgt</th>\n",
       "      <th>Name</th>\n",
       "      <th>City</th>\n",
       "      <th>State</th>\n",
       "      <th>Zip</th>\n",
       "      <th>Bank</th>\n",
       "      <th>BankState</th>\n",
       "      <th>NAICS</th>\n",
       "      <th>ApprovalDate</th>\n",
       "      <th>ApprovalFY</th>\n",
       "      <th>Term</th>\n",
       "      <th>NoEmp</th>\n",
       "      <th>NewExist</th>\n",
       "      <th>CreateJob</th>\n",
       "      <th>RetainedJob</th>\n",
       "      <th>FranchiseCode</th>\n",
       "      <th>UrbanRural</th>\n",
       "      <th>RevLineCr</th>\n",
       "      <th>LowDoc</th>\n",
       "      <th>ChgOffDate</th>\n",
       "      <th>DisbursementDate</th>\n",
       "      <th>DisbursementGross</th>\n",
       "      <th>BalanceGross</th>\n",
       "      <th>ChgOffPrinGr</th>\n",
       "      <th>GrAppv</th>\n",
       "      <th>SBA_Appv</th>\n",
       "      <th>Y</th>\n",
       "      <th>is53</th>\n",
       "      <th>isRealEstate</th>\n",
       "    </tr>\n",
       "  </thead>\n",
       "  <tbody>\n",
       "    <tr>\n",
       "      <td>0</td>\n",
       "      <td>1000014003</td>\n",
       "      <td>ABC HOBBYCRAFT</td>\n",
       "      <td>EVANSVILLE</td>\n",
       "      <td>IN</td>\n",
       "      <td>47711</td>\n",
       "      <td>FIFTH THIRD BANK</td>\n",
       "      <td>OH</td>\n",
       "      <td>451120</td>\n",
       "      <td>1997-02-28</td>\n",
       "      <td>1997</td>\n",
       "      <td>84</td>\n",
       "      <td>4</td>\n",
       "      <td>2.0</td>\n",
       "      <td>0</td>\n",
       "      <td>0</td>\n",
       "      <td>1</td>\n",
       "      <td>0</td>\n",
       "      <td>N</td>\n",
       "      <td>Y</td>\n",
       "      <td>NaN</td>\n",
       "      <td>1999-02-28</td>\n",
       "      <td>60.0</td>\n",
       "      <td>$0.00</td>\n",
       "      <td>$0.00</td>\n",
       "      <td>60.0</td>\n",
       "      <td>48.0</td>\n",
       "      <td>1</td>\n",
       "      <td>0</td>\n",
       "      <td>0</td>\n",
       "    </tr>\n",
       "  </tbody>\n",
       "</table>\n",
       "</div>"
      ],
      "text/plain": [
       "   LoanNr_ChkDgt            Name        City State    Zip              Bank  \\\n",
       "0     1000014003  ABC HOBBYCRAFT  EVANSVILLE    IN  47711  FIFTH THIRD BANK   \n",
       "\n",
       "  BankState   NAICS ApprovalDate ApprovalFY  Term  NoEmp  NewExist  CreateJob  \\\n",
       "0        OH  451120   1997-02-28       1997    84      4       2.0          0   \n",
       "\n",
       "   RetainedJob  FranchiseCode  UrbanRural RevLineCr LowDoc ChgOffDate  \\\n",
       "0            0              1           0         N      Y        NaN   \n",
       "\n",
       "  DisbursementDate  DisbursementGross BalanceGross ChgOffPrinGr  GrAppv  \\\n",
       "0       1999-02-28               60.0       $0.00        $0.00     60.0   \n",
       "\n",
       "   SBA_Appv  Y  is53  isRealEstate  \n",
       "0      48.0  1     0             0  "
      ]
     },
     "execution_count": 14,
     "metadata": {},
     "output_type": "execute_result"
    }
   ],
   "source": [
    "SBA_national[\"isRealEstate\"]=SBA_national.Term.apply(lambda x: 1 if x>=240 else 0)\n",
    "SBA_national.head(1)"
   ]
  },
  {
   "cell_type": "markdown",
   "metadata": {},
   "source": [
    "### 3.5 NoEmp, CreateJob, RetainedJob\n",
    "All three has no null values, Since they mean the same thing Can we combine them together?"
   ]
  },
  {
   "cell_type": "markdown",
   "metadata": {},
   "source": [
    "#### 3.5.1 NoEmp\n",
    "No Null values "
   ]
  },
  {
   "cell_type": "markdown",
   "metadata": {},
   "source": [
    "#### 3.5.2 CreateJob\n",
    "No Null values "
   ]
  },
  {
   "cell_type": "markdown",
   "metadata": {},
   "source": [
    "#### 3.5.3 RetainedJob\n",
    "No Null values "
   ]
  },
  {
   "cell_type": "markdown",
   "metadata": {},
   "source": [
    "#### 3.5.4 Combine Those Columns"
   ]
  },
  {
   "cell_type": "code",
   "execution_count": 15,
   "metadata": {},
   "outputs": [],
   "source": [
    "# lets add those to eachother\n",
    "# Plot first!!!\n",
    "SBA_national['sizeOfBusiness']= SBA_national['RetainedJob'] +SBA_national['CreateJob']+SBA_national['NoEmp']"
   ]
  },
  {
   "cell_type": "markdown",
   "metadata": {},
   "source": [
    "### 3.6 FranchiseCode\n",
    "No Null Values! According to the Paper, Values 0 or 1 means Not a Franchise, else is a Franchise."
   ]
  },
  {
   "cell_type": "code",
   "execution_count": 16,
   "metadata": {},
   "outputs": [],
   "source": [
    "SBA_national['isFranchise']= SBA_national['FranchiseCode'].replace({1: 0})\n",
    "SBA_national.loc[SBA_national['isFranchise']!=0, 'isFranchise'] =1"
   ]
  },
  {
   "cell_type": "code",
   "execution_count": 17,
   "metadata": {},
   "outputs": [
    {
     "data": {
      "text/plain": [
       "0    847387\n",
       "1     51775\n",
       "Name: isFranchise, dtype: int64"
      ]
     },
     "execution_count": 17,
     "metadata": {},
     "output_type": "execute_result"
    }
   ],
   "source": [
    "SBA_national['isFranchise'].value_counts()"
   ]
  },
  {
   "cell_type": "markdown",
   "metadata": {},
   "source": [
    "### 3.7 NewExist\n",
    "This has missing values of 136 which not considered a large number compared to the dataset but can be infered from the isFranchise Column as normally Franchises do Exist for around than 2 years! (Assumption).\n",
    "We Turn the data into another column (more readable) and the values to be 1 exist or 0 new business."
   ]
  },
  {
   "cell_type": "code",
   "execution_count": 18,
   "metadata": {},
   "outputs": [
    {
     "data": {
      "text/plain": [
       "1.0    644875\n",
       "0.0    254287\n",
       "Name: isExist, dtype: int64"
      ]
     },
     "execution_count": 18,
     "metadata": {},
     "output_type": "execute_result"
    }
   ],
   "source": [
    "SBA_national['isExist']= SBA_national['NewExist']\n",
    "SBA_national[\"isExist\"].fillna(SBA_national[\"isFranchise\"], inplace=True)\n",
    "SBA_national['isExist'].replace({2: 0}, inplace = True)\n",
    "SBA_national['isExist'].value_counts()"
   ]
  },
  {
   "cell_type": "markdown",
   "metadata": {},
   "source": [
    "### 3.8 Urban/Rural\n",
    "Has no Nulls! But htis column has Noise of undefined data of 323167 which is 36% of the data a rather large portion, so we remove this column from our analysis as we cannot infere it from other values safely and cannot drop the nulls!"
   ]
  },
  {
   "cell_type": "code",
   "execution_count": 19,
   "metadata": {},
   "outputs": [
    {
     "data": {
      "text/plain": [
       "1    470654\n",
       "0    323165\n",
       "2    105343\n",
       "Name: UrbanRural, dtype: int64"
      ]
     },
     "execution_count": 19,
     "metadata": {},
     "output_type": "execute_result"
    }
   ],
   "source": [
    "SBA_national['UrbanRural'].value_counts()"
   ]
  },
  {
   "cell_type": "markdown",
   "metadata": {},
   "source": [
    "### 3.9 RevLineCr\n",
    "This column has 4528 and we don't need it anyways so we drop it!"
   ]
  },
  {
   "cell_type": "code",
   "execution_count": 20,
   "metadata": {},
   "outputs": [
    {
     "data": {
      "text/plain": [
       "4528"
      ]
     },
     "execution_count": 20,
     "metadata": {},
     "output_type": "execute_result"
    }
   ],
   "source": [
    "len(SBA_national[(SBA_national['RevLineCr'].isnull())])"
   ]
  },
  {
   "cell_type": "code",
   "execution_count": 21,
   "metadata": {},
   "outputs": [
    {
     "data": {
      "text/plain": [
       "N    420286\n",
       "0    257602\n",
       "Y    201397\n",
       "T     15284\n",
       "1        23\n",
       "R        14\n",
       "`        11\n",
       "2         6\n",
       "C         2\n",
       "A         1\n",
       "-         1\n",
       ".         1\n",
       "Q         1\n",
       "5         1\n",
       "4         1\n",
       ",         1\n",
       "7         1\n",
       "3         1\n",
       "Name: RevLineCr, dtype: int64"
      ]
     },
     "execution_count": 21,
     "metadata": {},
     "output_type": "execute_result"
    }
   ],
   "source": [
    "SBA_national['RevLineCr'].value_counts()"
   ]
  },
  {
   "cell_type": "markdown",
   "metadata": {},
   "source": [
    "### 3.10 LowDoc\n",
    "There are Null values of 2582 which is not large portion of the dataset but can be infered from 'GrAppv' column which has the loan amound (divided by 1000) so if it is >150 then it is 0 in the LowDoc and else is 1"
   ]
  },
  {
   "cell_type": "code",
   "execution_count": 22,
   "metadata": {},
   "outputs": [],
   "source": [
    "SBA_national[\"LowDoc\"].replace({'0': None , '1': None, 'A': None, 'C': None, 'R': None, 'S': None}, inplace= True)\n",
    "SBA_national['isLowDoc']=SBA_national['GrAppv']> 150 \n",
    "SBA_national[\"LowDoc\"].fillna(SBA_national[\"isLowDoc\"], inplace=True)\n",
    "SBA_national[\"LowDoc\"].replace({'N':0, False: 0,  'Y':1, True:1 }, inplace = True)"
   ]
  },
  {
   "cell_type": "code",
   "execution_count": 23,
   "metadata": {},
   "outputs": [
    {
     "data": {
      "text/plain": [
       "0    786730\n",
       "1    112432\n",
       "Name: LowDoc, dtype: int64"
      ]
     },
     "execution_count": 23,
     "metadata": {},
     "output_type": "execute_result"
    }
   ],
   "source": [
    "SBA_national[\"LowDoc\"].value_counts()"
   ]
  },
  {
   "cell_type": "markdown",
   "metadata": {},
   "source": [
    "### 3.11 Date Columns DisbursementDate and Term\n",
    "DisbursementDate Has 2368 null values, small portion we can infere them from the 'ApprovalDate' it will not be quiet accurate for further data manipulation so we choose to drop them "
   ]
  },
  {
   "cell_type": "markdown",
   "metadata": {},
   "source": [
    "#### 3.11.1 Drop the Null Values"
   ]
  },
  {
   "cell_type": "code",
   "execution_count": 24,
   "metadata": {},
   "outputs": [
    {
     "data": {
      "text/plain": [
       "896794"
      ]
     },
     "execution_count": 24,
     "metadata": {},
     "output_type": "execute_result"
    }
   ],
   "source": [
    "SBA_national= SBA_national.loc[SBA_national['DisbursementDate'].notna(), :]\n",
    "len(SBA_national)"
   ]
  },
  {
   "cell_type": "code",
   "execution_count": 25,
   "metadata": {},
   "outputs": [
    {
     "data": {
      "text/html": [
       "<div>\n",
       "<style scoped>\n",
       "    .dataframe tbody tr th:only-of-type {\n",
       "        vertical-align: middle;\n",
       "    }\n",
       "\n",
       "    .dataframe tbody tr th {\n",
       "        vertical-align: top;\n",
       "    }\n",
       "\n",
       "    .dataframe thead th {\n",
       "        text-align: right;\n",
       "    }\n",
       "</style>\n",
       "<table border=\"1\" class=\"dataframe\">\n",
       "  <thead>\n",
       "    <tr style=\"text-align: right;\">\n",
       "      <th></th>\n",
       "      <th>LoanNr_ChkDgt</th>\n",
       "      <th>Name</th>\n",
       "      <th>City</th>\n",
       "      <th>State</th>\n",
       "      <th>Zip</th>\n",
       "      <th>Bank</th>\n",
       "      <th>BankState</th>\n",
       "      <th>NAICS</th>\n",
       "      <th>ApprovalDate</th>\n",
       "      <th>ApprovalFY</th>\n",
       "      <th>Term</th>\n",
       "      <th>NoEmp</th>\n",
       "      <th>NewExist</th>\n",
       "      <th>CreateJob</th>\n",
       "      <th>RetainedJob</th>\n",
       "      <th>FranchiseCode</th>\n",
       "      <th>UrbanRural</th>\n",
       "      <th>RevLineCr</th>\n",
       "      <th>LowDoc</th>\n",
       "      <th>ChgOffDate</th>\n",
       "      <th>DisbursementDate</th>\n",
       "      <th>DisbursementGross</th>\n",
       "      <th>BalanceGross</th>\n",
       "      <th>ChgOffPrinGr</th>\n",
       "      <th>GrAppv</th>\n",
       "      <th>SBA_Appv</th>\n",
       "      <th>Y</th>\n",
       "      <th>is53</th>\n",
       "      <th>isRealEstate</th>\n",
       "      <th>sizeOfBusiness</th>\n",
       "      <th>isFranchise</th>\n",
       "      <th>isExist</th>\n",
       "      <th>isLowDoc</th>\n",
       "    </tr>\n",
       "  </thead>\n",
       "  <tbody>\n",
       "    <tr>\n",
       "      <td>0</td>\n",
       "      <td>1000014003</td>\n",
       "      <td>ABC HOBBYCRAFT</td>\n",
       "      <td>EVANSVILLE</td>\n",
       "      <td>IN</td>\n",
       "      <td>47711</td>\n",
       "      <td>FIFTH THIRD BANK</td>\n",
       "      <td>OH</td>\n",
       "      <td>451120</td>\n",
       "      <td>1997-02-28</td>\n",
       "      <td>1997</td>\n",
       "      <td>84</td>\n",
       "      <td>4</td>\n",
       "      <td>2.0</td>\n",
       "      <td>0</td>\n",
       "      <td>0</td>\n",
       "      <td>1</td>\n",
       "      <td>0</td>\n",
       "      <td>N</td>\n",
       "      <td>1</td>\n",
       "      <td>NaN</td>\n",
       "      <td>1999-02-28</td>\n",
       "      <td>60.0</td>\n",
       "      <td>$0.00</td>\n",
       "      <td>$0.00</td>\n",
       "      <td>60.0</td>\n",
       "      <td>48.0</td>\n",
       "      <td>1</td>\n",
       "      <td>0</td>\n",
       "      <td>0</td>\n",
       "      <td>4</td>\n",
       "      <td>0</td>\n",
       "      <td>0.0</td>\n",
       "      <td>False</td>\n",
       "    </tr>\n",
       "    <tr>\n",
       "      <td>1</td>\n",
       "      <td>1000024006</td>\n",
       "      <td>LANDMARK BAR &amp; GRILLE (THE)</td>\n",
       "      <td>NEW PARIS</td>\n",
       "      <td>IN</td>\n",
       "      <td>46526</td>\n",
       "      <td>1ST SOURCE BANK</td>\n",
       "      <td>IN</td>\n",
       "      <td>722410</td>\n",
       "      <td>1997-02-28</td>\n",
       "      <td>1997</td>\n",
       "      <td>60</td>\n",
       "      <td>2</td>\n",
       "      <td>2.0</td>\n",
       "      <td>0</td>\n",
       "      <td>0</td>\n",
       "      <td>1</td>\n",
       "      <td>0</td>\n",
       "      <td>N</td>\n",
       "      <td>1</td>\n",
       "      <td>NaN</td>\n",
       "      <td>1997-05-31</td>\n",
       "      <td>40.0</td>\n",
       "      <td>$0.00</td>\n",
       "      <td>$0.00</td>\n",
       "      <td>40.0</td>\n",
       "      <td>32.0</td>\n",
       "      <td>1</td>\n",
       "      <td>0</td>\n",
       "      <td>0</td>\n",
       "      <td>2</td>\n",
       "      <td>0</td>\n",
       "      <td>0.0</td>\n",
       "      <td>False</td>\n",
       "    </tr>\n",
       "    <tr>\n",
       "      <td>2</td>\n",
       "      <td>1000034009</td>\n",
       "      <td>WHITLOCK DDS, TODD M.</td>\n",
       "      <td>BLOOMINGTON</td>\n",
       "      <td>IN</td>\n",
       "      <td>47401</td>\n",
       "      <td>GRANT COUNTY STATE BANK</td>\n",
       "      <td>IN</td>\n",
       "      <td>621210</td>\n",
       "      <td>1997-02-28</td>\n",
       "      <td>1997</td>\n",
       "      <td>180</td>\n",
       "      <td>7</td>\n",
       "      <td>1.0</td>\n",
       "      <td>0</td>\n",
       "      <td>0</td>\n",
       "      <td>1</td>\n",
       "      <td>0</td>\n",
       "      <td>N</td>\n",
       "      <td>0</td>\n",
       "      <td>NaN</td>\n",
       "      <td>1997-12-31</td>\n",
       "      <td>287.0</td>\n",
       "      <td>$0.00</td>\n",
       "      <td>$0.00</td>\n",
       "      <td>287.0</td>\n",
       "      <td>215.0</td>\n",
       "      <td>1</td>\n",
       "      <td>0</td>\n",
       "      <td>0</td>\n",
       "      <td>7</td>\n",
       "      <td>0</td>\n",
       "      <td>1.0</td>\n",
       "      <td>True</td>\n",
       "    </tr>\n",
       "    <tr>\n",
       "      <td>3</td>\n",
       "      <td>1000044001</td>\n",
       "      <td>BIG BUCKS PAWN &amp; JEWELRY, LLC</td>\n",
       "      <td>BROKEN ARROW</td>\n",
       "      <td>OK</td>\n",
       "      <td>74012</td>\n",
       "      <td>1ST NATL BK &amp; TR CO OF BROKEN</td>\n",
       "      <td>OK</td>\n",
       "      <td>0</td>\n",
       "      <td>1997-02-28</td>\n",
       "      <td>1997</td>\n",
       "      <td>60</td>\n",
       "      <td>2</td>\n",
       "      <td>1.0</td>\n",
       "      <td>0</td>\n",
       "      <td>0</td>\n",
       "      <td>1</td>\n",
       "      <td>0</td>\n",
       "      <td>N</td>\n",
       "      <td>1</td>\n",
       "      <td>NaN</td>\n",
       "      <td>1997-06-30</td>\n",
       "      <td>35.0</td>\n",
       "      <td>$0.00</td>\n",
       "      <td>$0.00</td>\n",
       "      <td>35.0</td>\n",
       "      <td>28.0</td>\n",
       "      <td>1</td>\n",
       "      <td>0</td>\n",
       "      <td>0</td>\n",
       "      <td>2</td>\n",
       "      <td>0</td>\n",
       "      <td>1.0</td>\n",
       "      <td>False</td>\n",
       "    </tr>\n",
       "    <tr>\n",
       "      <td>4</td>\n",
       "      <td>1000054004</td>\n",
       "      <td>ANASTASIA CONFECTIONS, INC.</td>\n",
       "      <td>ORLANDO</td>\n",
       "      <td>FL</td>\n",
       "      <td>32801</td>\n",
       "      <td>FLORIDA BUS. DEVEL CORP</td>\n",
       "      <td>FL</td>\n",
       "      <td>0</td>\n",
       "      <td>1997-02-28</td>\n",
       "      <td>1997</td>\n",
       "      <td>240</td>\n",
       "      <td>14</td>\n",
       "      <td>1.0</td>\n",
       "      <td>7</td>\n",
       "      <td>7</td>\n",
       "      <td>1</td>\n",
       "      <td>0</td>\n",
       "      <td>N</td>\n",
       "      <td>0</td>\n",
       "      <td>NaN</td>\n",
       "      <td>1997-05-14</td>\n",
       "      <td>229.0</td>\n",
       "      <td>$0.00</td>\n",
       "      <td>$0.00</td>\n",
       "      <td>229.0</td>\n",
       "      <td>229.0</td>\n",
       "      <td>1</td>\n",
       "      <td>0</td>\n",
       "      <td>1</td>\n",
       "      <td>28</td>\n",
       "      <td>0</td>\n",
       "      <td>1.0</td>\n",
       "      <td>True</td>\n",
       "    </tr>\n",
       "    <tr>\n",
       "      <td>...</td>\n",
       "      <td>...</td>\n",
       "      <td>...</td>\n",
       "      <td>...</td>\n",
       "      <td>...</td>\n",
       "      <td>...</td>\n",
       "      <td>...</td>\n",
       "      <td>...</td>\n",
       "      <td>...</td>\n",
       "      <td>...</td>\n",
       "      <td>...</td>\n",
       "      <td>...</td>\n",
       "      <td>...</td>\n",
       "      <td>...</td>\n",
       "      <td>...</td>\n",
       "      <td>...</td>\n",
       "      <td>...</td>\n",
       "      <td>...</td>\n",
       "      <td>...</td>\n",
       "      <td>...</td>\n",
       "      <td>...</td>\n",
       "      <td>...</td>\n",
       "      <td>...</td>\n",
       "      <td>...</td>\n",
       "      <td>...</td>\n",
       "      <td>...</td>\n",
       "      <td>...</td>\n",
       "      <td>...</td>\n",
       "      <td>...</td>\n",
       "      <td>...</td>\n",
       "      <td>...</td>\n",
       "      <td>...</td>\n",
       "      <td>...</td>\n",
       "      <td>...</td>\n",
       "    </tr>\n",
       "    <tr>\n",
       "      <td>899159</td>\n",
       "      <td>9995573004</td>\n",
       "      <td>FABRIC FARMS</td>\n",
       "      <td>UPPER ARLINGTON</td>\n",
       "      <td>OH</td>\n",
       "      <td>43221</td>\n",
       "      <td>JPMORGAN CHASE BANK NATL ASSOC</td>\n",
       "      <td>IL</td>\n",
       "      <td>451120</td>\n",
       "      <td>1997-02-27</td>\n",
       "      <td>1997</td>\n",
       "      <td>60</td>\n",
       "      <td>6</td>\n",
       "      <td>1.0</td>\n",
       "      <td>0</td>\n",
       "      <td>0</td>\n",
       "      <td>1</td>\n",
       "      <td>0</td>\n",
       "      <td>0</td>\n",
       "      <td>0</td>\n",
       "      <td>NaN</td>\n",
       "      <td>1997-09-30</td>\n",
       "      <td>70.0</td>\n",
       "      <td>$0.00</td>\n",
       "      <td>$0.00</td>\n",
       "      <td>70.0</td>\n",
       "      <td>56.0</td>\n",
       "      <td>1</td>\n",
       "      <td>0</td>\n",
       "      <td>0</td>\n",
       "      <td>6</td>\n",
       "      <td>0</td>\n",
       "      <td>1.0</td>\n",
       "      <td>False</td>\n",
       "    </tr>\n",
       "    <tr>\n",
       "      <td>899160</td>\n",
       "      <td>9995603000</td>\n",
       "      <td>FABRIC FARMS</td>\n",
       "      <td>COLUMBUS</td>\n",
       "      <td>OH</td>\n",
       "      <td>43221</td>\n",
       "      <td>JPMORGAN CHASE BANK NATL ASSOC</td>\n",
       "      <td>IL</td>\n",
       "      <td>451130</td>\n",
       "      <td>1997-02-27</td>\n",
       "      <td>1997</td>\n",
       "      <td>60</td>\n",
       "      <td>6</td>\n",
       "      <td>1.0</td>\n",
       "      <td>0</td>\n",
       "      <td>0</td>\n",
       "      <td>1</td>\n",
       "      <td>0</td>\n",
       "      <td>Y</td>\n",
       "      <td>0</td>\n",
       "      <td>NaN</td>\n",
       "      <td>1997-10-31</td>\n",
       "      <td>85.0</td>\n",
       "      <td>$0.00</td>\n",
       "      <td>$0.00</td>\n",
       "      <td>85.0</td>\n",
       "      <td>42.0</td>\n",
       "      <td>1</td>\n",
       "      <td>0</td>\n",
       "      <td>0</td>\n",
       "      <td>6</td>\n",
       "      <td>0</td>\n",
       "      <td>1.0</td>\n",
       "      <td>False</td>\n",
       "    </tr>\n",
       "    <tr>\n",
       "      <td>899161</td>\n",
       "      <td>9995613003</td>\n",
       "      <td>RADCO MANUFACTURING CO.,INC.</td>\n",
       "      <td>SANTA MARIA</td>\n",
       "      <td>CA</td>\n",
       "      <td>93455</td>\n",
       "      <td>RABOBANK, NATIONAL ASSOCIATION</td>\n",
       "      <td>CA</td>\n",
       "      <td>332321</td>\n",
       "      <td>1997-02-27</td>\n",
       "      <td>1997</td>\n",
       "      <td>108</td>\n",
       "      <td>26</td>\n",
       "      <td>1.0</td>\n",
       "      <td>0</td>\n",
       "      <td>0</td>\n",
       "      <td>1</td>\n",
       "      <td>0</td>\n",
       "      <td>N</td>\n",
       "      <td>0</td>\n",
       "      <td>NaN</td>\n",
       "      <td>1997-09-30</td>\n",
       "      <td>300.0</td>\n",
       "      <td>$0.00</td>\n",
       "      <td>$0.00</td>\n",
       "      <td>300.0</td>\n",
       "      <td>225.0</td>\n",
       "      <td>1</td>\n",
       "      <td>0</td>\n",
       "      <td>0</td>\n",
       "      <td>26</td>\n",
       "      <td>0</td>\n",
       "      <td>1.0</td>\n",
       "      <td>True</td>\n",
       "    </tr>\n",
       "    <tr>\n",
       "      <td>899162</td>\n",
       "      <td>9995973006</td>\n",
       "      <td>MARUTAMA HAWAII, INC.</td>\n",
       "      <td>HONOLULU</td>\n",
       "      <td>HI</td>\n",
       "      <td>96830</td>\n",
       "      <td>BANK OF HAWAII</td>\n",
       "      <td>HI</td>\n",
       "      <td>0</td>\n",
       "      <td>1997-02-27</td>\n",
       "      <td>1997</td>\n",
       "      <td>60</td>\n",
       "      <td>6</td>\n",
       "      <td>1.0</td>\n",
       "      <td>0</td>\n",
       "      <td>0</td>\n",
       "      <td>1</td>\n",
       "      <td>0</td>\n",
       "      <td>N</td>\n",
       "      <td>1</td>\n",
       "      <td>8-Mar-00</td>\n",
       "      <td>1997-03-31</td>\n",
       "      <td>75.0</td>\n",
       "      <td>$0.00</td>\n",
       "      <td>$46,383.00</td>\n",
       "      <td>75.0</td>\n",
       "      <td>60.0</td>\n",
       "      <td>0</td>\n",
       "      <td>0</td>\n",
       "      <td>0</td>\n",
       "      <td>6</td>\n",
       "      <td>0</td>\n",
       "      <td>1.0</td>\n",
       "      <td>False</td>\n",
       "    </tr>\n",
       "    <tr>\n",
       "      <td>899163</td>\n",
       "      <td>9996003010</td>\n",
       "      <td>PACIFIC TRADEWINDS FAN &amp; LIGHT</td>\n",
       "      <td>KAILUA</td>\n",
       "      <td>HI</td>\n",
       "      <td>96734</td>\n",
       "      <td>CENTRAL PACIFIC BANK</td>\n",
       "      <td>HI</td>\n",
       "      <td>0</td>\n",
       "      <td>1997-02-27</td>\n",
       "      <td>1997</td>\n",
       "      <td>48</td>\n",
       "      <td>1</td>\n",
       "      <td>2.0</td>\n",
       "      <td>0</td>\n",
       "      <td>0</td>\n",
       "      <td>1</td>\n",
       "      <td>0</td>\n",
       "      <td>N</td>\n",
       "      <td>0</td>\n",
       "      <td>NaN</td>\n",
       "      <td>1997-05-31</td>\n",
       "      <td>30.0</td>\n",
       "      <td>$0.00</td>\n",
       "      <td>$0.00</td>\n",
       "      <td>30.0</td>\n",
       "      <td>24.0</td>\n",
       "      <td>1</td>\n",
       "      <td>0</td>\n",
       "      <td>0</td>\n",
       "      <td>1</td>\n",
       "      <td>0</td>\n",
       "      <td>0.0</td>\n",
       "      <td>False</td>\n",
       "    </tr>\n",
       "  </tbody>\n",
       "</table>\n",
       "<p>896794 rows × 33 columns</p>\n",
       "</div>"
      ],
      "text/plain": [
       "        LoanNr_ChkDgt                            Name             City State  \\\n",
       "0          1000014003                  ABC HOBBYCRAFT       EVANSVILLE    IN   \n",
       "1          1000024006     LANDMARK BAR & GRILLE (THE)        NEW PARIS    IN   \n",
       "2          1000034009           WHITLOCK DDS, TODD M.      BLOOMINGTON    IN   \n",
       "3          1000044001   BIG BUCKS PAWN & JEWELRY, LLC     BROKEN ARROW    OK   \n",
       "4          1000054004     ANASTASIA CONFECTIONS, INC.          ORLANDO    FL   \n",
       "...               ...                             ...              ...   ...   \n",
       "899159     9995573004                    FABRIC FARMS  UPPER ARLINGTON    OH   \n",
       "899160     9995603000                    FABRIC FARMS         COLUMBUS    OH   \n",
       "899161     9995613003    RADCO MANUFACTURING CO.,INC.      SANTA MARIA    CA   \n",
       "899162     9995973006           MARUTAMA HAWAII, INC.         HONOLULU    HI   \n",
       "899163     9996003010  PACIFIC TRADEWINDS FAN & LIGHT           KAILUA    HI   \n",
       "\n",
       "          Zip                            Bank BankState   NAICS ApprovalDate  \\\n",
       "0       47711                FIFTH THIRD BANK        OH  451120   1997-02-28   \n",
       "1       46526                 1ST SOURCE BANK        IN  722410   1997-02-28   \n",
       "2       47401         GRANT COUNTY STATE BANK        IN  621210   1997-02-28   \n",
       "3       74012   1ST NATL BK & TR CO OF BROKEN        OK       0   1997-02-28   \n",
       "4       32801         FLORIDA BUS. DEVEL CORP        FL       0   1997-02-28   \n",
       "...       ...                             ...       ...     ...          ...   \n",
       "899159  43221  JPMORGAN CHASE BANK NATL ASSOC        IL  451120   1997-02-27   \n",
       "899160  43221  JPMORGAN CHASE BANK NATL ASSOC        IL  451130   1997-02-27   \n",
       "899161  93455  RABOBANK, NATIONAL ASSOCIATION        CA  332321   1997-02-27   \n",
       "899162  96830                  BANK OF HAWAII        HI       0   1997-02-27   \n",
       "899163  96734            CENTRAL PACIFIC BANK        HI       0   1997-02-27   \n",
       "\n",
       "       ApprovalFY  Term  NoEmp  NewExist  CreateJob  RetainedJob  \\\n",
       "0            1997    84      4       2.0          0            0   \n",
       "1            1997    60      2       2.0          0            0   \n",
       "2            1997   180      7       1.0          0            0   \n",
       "3            1997    60      2       1.0          0            0   \n",
       "4            1997   240     14       1.0          7            7   \n",
       "...           ...   ...    ...       ...        ...          ...   \n",
       "899159       1997    60      6       1.0          0            0   \n",
       "899160       1997    60      6       1.0          0            0   \n",
       "899161       1997   108     26       1.0          0            0   \n",
       "899162       1997    60      6       1.0          0            0   \n",
       "899163       1997    48      1       2.0          0            0   \n",
       "\n",
       "        FranchiseCode  UrbanRural RevLineCr  LowDoc ChgOffDate  \\\n",
       "0                   1           0         N       1        NaN   \n",
       "1                   1           0         N       1        NaN   \n",
       "2                   1           0         N       0        NaN   \n",
       "3                   1           0         N       1        NaN   \n",
       "4                   1           0         N       0        NaN   \n",
       "...               ...         ...       ...     ...        ...   \n",
       "899159              1           0         0       0        NaN   \n",
       "899160              1           0         Y       0        NaN   \n",
       "899161              1           0         N       0        NaN   \n",
       "899162              1           0         N       1   8-Mar-00   \n",
       "899163              1           0         N       0        NaN   \n",
       "\n",
       "       DisbursementDate  DisbursementGross BalanceGross ChgOffPrinGr  GrAppv  \\\n",
       "0            1999-02-28               60.0       $0.00        $0.00     60.0   \n",
       "1            1997-05-31               40.0       $0.00        $0.00     40.0   \n",
       "2            1997-12-31              287.0       $0.00        $0.00    287.0   \n",
       "3            1997-06-30               35.0       $0.00        $0.00     35.0   \n",
       "4            1997-05-14              229.0       $0.00        $0.00    229.0   \n",
       "...                 ...                ...          ...          ...     ...   \n",
       "899159       1997-09-30               70.0       $0.00        $0.00     70.0   \n",
       "899160       1997-10-31               85.0       $0.00        $0.00     85.0   \n",
       "899161       1997-09-30              300.0       $0.00        $0.00    300.0   \n",
       "899162       1997-03-31               75.0       $0.00   $46,383.00     75.0   \n",
       "899163       1997-05-31               30.0       $0.00        $0.00     30.0   \n",
       "\n",
       "        SBA_Appv  Y  is53  isRealEstate  sizeOfBusiness  isFranchise  isExist  \\\n",
       "0           48.0  1     0             0               4            0      0.0   \n",
       "1           32.0  1     0             0               2            0      0.0   \n",
       "2          215.0  1     0             0               7            0      1.0   \n",
       "3           28.0  1     0             0               2            0      1.0   \n",
       "4          229.0  1     0             1              28            0      1.0   \n",
       "...          ... ..   ...           ...             ...          ...      ...   \n",
       "899159      56.0  1     0             0               6            0      1.0   \n",
       "899160      42.0  1     0             0               6            0      1.0   \n",
       "899161     225.0  1     0             0              26            0      1.0   \n",
       "899162      60.0  0     0             0               6            0      1.0   \n",
       "899163      24.0  1     0             0               1            0      0.0   \n",
       "\n",
       "        isLowDoc  \n",
       "0          False  \n",
       "1          False  \n",
       "2           True  \n",
       "3          False  \n",
       "4           True  \n",
       "...          ...  \n",
       "899159     False  \n",
       "899160     False  \n",
       "899161      True  \n",
       "899162     False  \n",
       "899163     False  \n",
       "\n",
       "[896794 rows x 33 columns]"
      ]
     },
     "execution_count": 25,
     "metadata": {},
     "output_type": "execute_result"
    }
   ],
   "source": [
    "SBA_national"
   ]
  },
  {
   "cell_type": "markdown",
   "metadata": {},
   "source": [
    "#### 3.11.2 Create The isDueInGreatRecession\n",
    "Multiply the Term in Month by avg 30 days and add it to the DisbursementDate and check if this date resides between the great recession time or not."
   ]
  },
  {
   "cell_type": "code",
   "execution_count": 26,
   "metadata": {},
   "outputs": [],
   "source": [
    "SBA_national['TerminDays']= SBA_national['Term']* 30\n",
    "SBA_national['TerminDays']= pd.to_timedelta(SBA_national['TerminDays'], unit= 'D')\n",
    "SBA_national['LoanEndDate']= SBA_national['TerminDays']+ SBA_national['DisbursementDate']\n",
    "#set the boundries of the great recession\n",
    "min_date= pd.to_datetime('2007-12-01')\n",
    "max_date= pd.to_datetime('2009-06-30')\n",
    "SBA_national['isDueInGreatRecession']= SBA_national['LoanEndDate'].apply(lambda x: 1 if ((x >= min_date) & (x<=max_date)) else 0)"
   ]
  },
  {
   "cell_type": "code",
   "execution_count": 27,
   "metadata": {},
   "outputs": [
    {
     "data": {
      "text/plain": [
       "0    825239\n",
       "1     71555\n",
       "Name: isDueInGreatRecession, dtype: int64"
      ]
     },
     "execution_count": 27,
     "metadata": {},
     "output_type": "execute_result"
    }
   ],
   "source": [
    "SBA_national['isDueInGreatRecession'].value_counts()"
   ]
  },
  {
   "cell_type": "markdown",
   "metadata": {},
   "source": [
    "### 3.12 Loan amount Columns ('SBA_Appv','GrAppv')\n",
    "Don't have nulls, and can be used to get the percentage of the load paid by SBA as this assumed to be a safe factor for banks"
   ]
  },
  {
   "cell_type": "code",
   "execution_count": 28,
   "metadata": {},
   "outputs": [
    {
     "data": {
      "text/html": [
       "<div>\n",
       "<style scoped>\n",
       "    .dataframe tbody tr th:only-of-type {\n",
       "        vertical-align: middle;\n",
       "    }\n",
       "\n",
       "    .dataframe tbody tr th {\n",
       "        vertical-align: top;\n",
       "    }\n",
       "\n",
       "    .dataframe thead th {\n",
       "        text-align: right;\n",
       "    }\n",
       "</style>\n",
       "<table border=\"1\" class=\"dataframe\">\n",
       "  <thead>\n",
       "    <tr style=\"text-align: right;\">\n",
       "      <th></th>\n",
       "      <th>LoanNr_ChkDgt</th>\n",
       "      <th>Name</th>\n",
       "      <th>City</th>\n",
       "      <th>State</th>\n",
       "      <th>Zip</th>\n",
       "      <th>Bank</th>\n",
       "      <th>BankState</th>\n",
       "      <th>NAICS</th>\n",
       "      <th>ApprovalDate</th>\n",
       "      <th>ApprovalFY</th>\n",
       "      <th>Term</th>\n",
       "      <th>NoEmp</th>\n",
       "      <th>NewExist</th>\n",
       "      <th>CreateJob</th>\n",
       "      <th>RetainedJob</th>\n",
       "      <th>FranchiseCode</th>\n",
       "      <th>UrbanRural</th>\n",
       "      <th>RevLineCr</th>\n",
       "      <th>LowDoc</th>\n",
       "      <th>ChgOffDate</th>\n",
       "      <th>DisbursementDate</th>\n",
       "      <th>DisbursementGross</th>\n",
       "      <th>BalanceGross</th>\n",
       "      <th>ChgOffPrinGr</th>\n",
       "      <th>GrAppv</th>\n",
       "      <th>SBA_Appv</th>\n",
       "      <th>Y</th>\n",
       "      <th>is53</th>\n",
       "      <th>isRealEstate</th>\n",
       "      <th>sizeOfBusiness</th>\n",
       "      <th>isFranchise</th>\n",
       "      <th>isExist</th>\n",
       "      <th>isLowDoc</th>\n",
       "      <th>TerminDays</th>\n",
       "      <th>LoanEndDate</th>\n",
       "      <th>isDueInGreatRecession</th>\n",
       "      <th>SBA_portion</th>\n",
       "    </tr>\n",
       "  </thead>\n",
       "  <tbody>\n",
       "    <tr>\n",
       "      <td>0</td>\n",
       "      <td>1000014003</td>\n",
       "      <td>ABC HOBBYCRAFT</td>\n",
       "      <td>EVANSVILLE</td>\n",
       "      <td>IN</td>\n",
       "      <td>47711</td>\n",
       "      <td>FIFTH THIRD BANK</td>\n",
       "      <td>OH</td>\n",
       "      <td>451120</td>\n",
       "      <td>1997-02-28</td>\n",
       "      <td>1997</td>\n",
       "      <td>84</td>\n",
       "      <td>4</td>\n",
       "      <td>2.0</td>\n",
       "      <td>0</td>\n",
       "      <td>0</td>\n",
       "      <td>1</td>\n",
       "      <td>0</td>\n",
       "      <td>N</td>\n",
       "      <td>1</td>\n",
       "      <td>NaN</td>\n",
       "      <td>1999-02-28</td>\n",
       "      <td>60.0</td>\n",
       "      <td>$0.00</td>\n",
       "      <td>$0.00</td>\n",
       "      <td>60.0</td>\n",
       "      <td>48.0</td>\n",
       "      <td>1</td>\n",
       "      <td>0</td>\n",
       "      <td>0</td>\n",
       "      <td>4</td>\n",
       "      <td>0</td>\n",
       "      <td>0.0</td>\n",
       "      <td>False</td>\n",
       "      <td>2520 days</td>\n",
       "      <td>2006-01-22</td>\n",
       "      <td>0</td>\n",
       "      <td>0.8</td>\n",
       "    </tr>\n",
       "  </tbody>\n",
       "</table>\n",
       "</div>"
      ],
      "text/plain": [
       "   LoanNr_ChkDgt            Name        City State    Zip              Bank  \\\n",
       "0     1000014003  ABC HOBBYCRAFT  EVANSVILLE    IN  47711  FIFTH THIRD BANK   \n",
       "\n",
       "  BankState   NAICS ApprovalDate ApprovalFY  Term  NoEmp  NewExist  CreateJob  \\\n",
       "0        OH  451120   1997-02-28       1997    84      4       2.0          0   \n",
       "\n",
       "   RetainedJob  FranchiseCode  UrbanRural RevLineCr  LowDoc ChgOffDate  \\\n",
       "0            0              1           0         N       1        NaN   \n",
       "\n",
       "  DisbursementDate  DisbursementGross BalanceGross ChgOffPrinGr  GrAppv  \\\n",
       "0       1999-02-28               60.0       $0.00        $0.00     60.0   \n",
       "\n",
       "   SBA_Appv  Y  is53  isRealEstate  sizeOfBusiness  isFranchise  isExist  \\\n",
       "0      48.0  1     0             0               4            0      0.0   \n",
       "\n",
       "   isLowDoc TerminDays LoanEndDate  isDueInGreatRecession  SBA_portion  \n",
       "0     False  2520 days  2006-01-22                      0          0.8  "
      ]
     },
     "execution_count": 28,
     "metadata": {},
     "output_type": "execute_result"
    }
   ],
   "source": [
    "SBA_national[\"SBA_portion\"]=SBA_national[\"SBA_Appv\"]/SBA_national[\"GrAppv\"]\n",
    "SBA_national.head(1)"
   ]
  },
  {
   "cell_type": "markdown",
   "metadata": {},
   "source": [
    "## 4. Drop some columns"
   ]
  },
  {
   "cell_type": "code",
   "execution_count": 29,
   "metadata": {},
   "outputs": [
    {
     "data": {
      "text/html": [
       "<div>\n",
       "<style scoped>\n",
       "    .dataframe tbody tr th:only-of-type {\n",
       "        vertical-align: middle;\n",
       "    }\n",
       "\n",
       "    .dataframe tbody tr th {\n",
       "        vertical-align: top;\n",
       "    }\n",
       "\n",
       "    .dataframe thead th {\n",
       "        text-align: right;\n",
       "    }\n",
       "</style>\n",
       "<table border=\"1\" class=\"dataframe\">\n",
       "  <thead>\n",
       "    <tr style=\"text-align: right;\">\n",
       "      <th></th>\n",
       "      <th>State</th>\n",
       "      <th>Term</th>\n",
       "      <th>NoEmp</th>\n",
       "      <th>LowDoc</th>\n",
       "      <th>Y</th>\n",
       "      <th>is53</th>\n",
       "      <th>isRealEstate</th>\n",
       "      <th>sizeOfBusiness</th>\n",
       "      <th>isFranchise</th>\n",
       "      <th>isExist</th>\n",
       "      <th>isDueInGreatRecession</th>\n",
       "      <th>SBA_portion</th>\n",
       "    </tr>\n",
       "  </thead>\n",
       "  <tbody>\n",
       "    <tr>\n",
       "      <td>0</td>\n",
       "      <td>IN</td>\n",
       "      <td>84</td>\n",
       "      <td>4</td>\n",
       "      <td>1</td>\n",
       "      <td>1</td>\n",
       "      <td>0</td>\n",
       "      <td>0</td>\n",
       "      <td>4</td>\n",
       "      <td>0</td>\n",
       "      <td>0.0</td>\n",
       "      <td>0</td>\n",
       "      <td>0.800000</td>\n",
       "    </tr>\n",
       "    <tr>\n",
       "      <td>1</td>\n",
       "      <td>IN</td>\n",
       "      <td>60</td>\n",
       "      <td>2</td>\n",
       "      <td>1</td>\n",
       "      <td>1</td>\n",
       "      <td>0</td>\n",
       "      <td>0</td>\n",
       "      <td>2</td>\n",
       "      <td>0</td>\n",
       "      <td>0.0</td>\n",
       "      <td>0</td>\n",
       "      <td>0.800000</td>\n",
       "    </tr>\n",
       "    <tr>\n",
       "      <td>2</td>\n",
       "      <td>IN</td>\n",
       "      <td>180</td>\n",
       "      <td>7</td>\n",
       "      <td>0</td>\n",
       "      <td>1</td>\n",
       "      <td>0</td>\n",
       "      <td>0</td>\n",
       "      <td>7</td>\n",
       "      <td>0</td>\n",
       "      <td>1.0</td>\n",
       "      <td>0</td>\n",
       "      <td>0.749129</td>\n",
       "    </tr>\n",
       "    <tr>\n",
       "      <td>3</td>\n",
       "      <td>OK</td>\n",
       "      <td>60</td>\n",
       "      <td>2</td>\n",
       "      <td>1</td>\n",
       "      <td>1</td>\n",
       "      <td>0</td>\n",
       "      <td>0</td>\n",
       "      <td>2</td>\n",
       "      <td>0</td>\n",
       "      <td>1.0</td>\n",
       "      <td>0</td>\n",
       "      <td>0.800000</td>\n",
       "    </tr>\n",
       "    <tr>\n",
       "      <td>4</td>\n",
       "      <td>FL</td>\n",
       "      <td>240</td>\n",
       "      <td>14</td>\n",
       "      <td>0</td>\n",
       "      <td>1</td>\n",
       "      <td>0</td>\n",
       "      <td>1</td>\n",
       "      <td>28</td>\n",
       "      <td>0</td>\n",
       "      <td>1.0</td>\n",
       "      <td>0</td>\n",
       "      <td>1.000000</td>\n",
       "    </tr>\n",
       "  </tbody>\n",
       "</table>\n",
       "</div>"
      ],
      "text/plain": [
       "  State  Term  NoEmp  LowDoc  Y  is53  isRealEstate  sizeOfBusiness  \\\n",
       "0    IN    84      4       1  1     0             0               4   \n",
       "1    IN    60      2       1  1     0             0               2   \n",
       "2    IN   180      7       0  1     0             0               7   \n",
       "3    OK    60      2       1  1     0             0               2   \n",
       "4    FL   240     14       0  1     0             1              28   \n",
       "\n",
       "   isFranchise  isExist  isDueInGreatRecession  SBA_portion  \n",
       "0            0      0.0                      0     0.800000  \n",
       "1            0      0.0                      0     0.800000  \n",
       "2            0      1.0                      0     0.749129  \n",
       "3            0      1.0                      0     0.800000  \n",
       "4            0      1.0                      0     1.000000  "
      ]
     },
     "execution_count": 29,
     "metadata": {},
     "output_type": "execute_result"
    }
   ],
   "source": [
    "drop_columns= ['LoanNr_ChkDgt', 'Name', 'City','Zip', \n",
    "               'Bank','ApprovalDate', 'ApprovalFY', 'CreateJob',\n",
    "               'RetainedJob', 'FranchiseCode', 'RevLineCr', \n",
    "               'ChgOffDate', 'DisbursementDate', 'BalanceGross',\n",
    "               'ChgOffPrinGr', 'GrAppv', 'SBA_Appv',\n",
    "              'NewExist','UrbanRural', 'DisbursementGross',\n",
    "               'TerminDays','LoanEndDate', 'NAICS', 'isLowDoc','BankState']\n",
    "SBA_national_final= SBA_national.drop(columns= drop_columns)\n",
    "SBA_national_final.head()"
   ]
  },
  {
   "cell_type": "markdown",
   "metadata": {},
   "source": [
    "# Demo about Categorical Data Encoding"
   ]
  },
  {
   "cell_type": "markdown",
   "metadata": {},
   "source": [
    "### Categorical Data Encoding!\n",
    "Dummy Encoder:\n",
    "    State-> No change \n",
    "    (IN->0 , OK->1, FL->2)\n",
    "    0\n",
    "    0\n",
    "    0\n",
    "    1\n",
    "    2\n",
    "Onehotencoder!\n",
    "IN, OK, FL -> 1 ,2 ,3 \n",
    "State -> IN , OK, FL\n",
    "         1    0   0\n",
    "         1    0   0\n",
    "         1    0   0 \n",
    "         0    1   0"
   ]
  },
  {
   "cell_type": "code",
   "execution_count": null,
   "metadata": {},
   "outputs": [],
   "source": [
    "# End Demo"
   ]
  },
  {
   "cell_type": "code",
   "execution_count": 30,
   "metadata": {},
   "outputs": [
    {
     "data": {
      "text/plain": [
       "Index(['State', 'Term', 'NoEmp', 'LowDoc', 'Y', 'is53', 'isRealEstate',\n",
       "       'sizeOfBusiness', 'isFranchise', 'isExist', 'isDueInGreatRecession',\n",
       "       'SBA_portion'],\n",
       "      dtype='object')"
      ]
     },
     "execution_count": 30,
     "metadata": {},
     "output_type": "execute_result"
    }
   ],
   "source": [
    "SBA_national_final.columns"
   ]
  },
  {
   "cell_type": "code",
   "execution_count": 31,
   "metadata": {},
   "outputs": [
    {
     "data": {
      "text/html": [
       "<div>\n",
       "<style scoped>\n",
       "    .dataframe tbody tr th:only-of-type {\n",
       "        vertical-align: middle;\n",
       "    }\n",
       "\n",
       "    .dataframe tbody tr th {\n",
       "        vertical-align: top;\n",
       "    }\n",
       "\n",
       "    .dataframe thead th {\n",
       "        text-align: right;\n",
       "    }\n",
       "</style>\n",
       "<table border=\"1\" class=\"dataframe\">\n",
       "  <thead>\n",
       "    <tr style=\"text-align: right;\">\n",
       "      <th></th>\n",
       "      <th>State</th>\n",
       "      <th>Term</th>\n",
       "      <th>NoEmp</th>\n",
       "      <th>LowDoc</th>\n",
       "      <th>is53</th>\n",
       "      <th>isRealEstate</th>\n",
       "      <th>sizeOfBusiness</th>\n",
       "      <th>isFranchise</th>\n",
       "      <th>isExist</th>\n",
       "      <th>isDueInGreatRecession</th>\n",
       "      <th>SBA_portion</th>\n",
       "      <th>Y</th>\n",
       "    </tr>\n",
       "  </thead>\n",
       "  <tbody>\n",
       "    <tr>\n",
       "      <td>0</td>\n",
       "      <td>IN</td>\n",
       "      <td>84</td>\n",
       "      <td>4</td>\n",
       "      <td>1</td>\n",
       "      <td>0</td>\n",
       "      <td>0</td>\n",
       "      <td>4</td>\n",
       "      <td>0</td>\n",
       "      <td>0.0</td>\n",
       "      <td>0</td>\n",
       "      <td>0.800000</td>\n",
       "      <td>1</td>\n",
       "    </tr>\n",
       "    <tr>\n",
       "      <td>1</td>\n",
       "      <td>IN</td>\n",
       "      <td>60</td>\n",
       "      <td>2</td>\n",
       "      <td>1</td>\n",
       "      <td>0</td>\n",
       "      <td>0</td>\n",
       "      <td>2</td>\n",
       "      <td>0</td>\n",
       "      <td>0.0</td>\n",
       "      <td>0</td>\n",
       "      <td>0.800000</td>\n",
       "      <td>1</td>\n",
       "    </tr>\n",
       "    <tr>\n",
       "      <td>2</td>\n",
       "      <td>IN</td>\n",
       "      <td>180</td>\n",
       "      <td>7</td>\n",
       "      <td>0</td>\n",
       "      <td>0</td>\n",
       "      <td>0</td>\n",
       "      <td>7</td>\n",
       "      <td>0</td>\n",
       "      <td>1.0</td>\n",
       "      <td>0</td>\n",
       "      <td>0.749129</td>\n",
       "      <td>1</td>\n",
       "    </tr>\n",
       "    <tr>\n",
       "      <td>3</td>\n",
       "      <td>OK</td>\n",
       "      <td>60</td>\n",
       "      <td>2</td>\n",
       "      <td>1</td>\n",
       "      <td>0</td>\n",
       "      <td>0</td>\n",
       "      <td>2</td>\n",
       "      <td>0</td>\n",
       "      <td>1.0</td>\n",
       "      <td>0</td>\n",
       "      <td>0.800000</td>\n",
       "      <td>1</td>\n",
       "    </tr>\n",
       "    <tr>\n",
       "      <td>4</td>\n",
       "      <td>FL</td>\n",
       "      <td>240</td>\n",
       "      <td>14</td>\n",
       "      <td>0</td>\n",
       "      <td>0</td>\n",
       "      <td>1</td>\n",
       "      <td>28</td>\n",
       "      <td>0</td>\n",
       "      <td>1.0</td>\n",
       "      <td>0</td>\n",
       "      <td>1.000000</td>\n",
       "      <td>1</td>\n",
       "    </tr>\n",
       "  </tbody>\n",
       "</table>\n",
       "</div>"
      ],
      "text/plain": [
       "  State  Term  NoEmp  LowDoc  is53  isRealEstate  sizeOfBusiness  isFranchise  \\\n",
       "0    IN    84      4       1     0             0               4            0   \n",
       "1    IN    60      2       1     0             0               2            0   \n",
       "2    IN   180      7       0     0             0               7            0   \n",
       "3    OK    60      2       1     0             0               2            0   \n",
       "4    FL   240     14       0     0             1              28            0   \n",
       "\n",
       "   isExist  isDueInGreatRecession  SBA_portion  Y  \n",
       "0      0.0                      0     0.800000  1  \n",
       "1      0.0                      0     0.800000  1  \n",
       "2      1.0                      0     0.749129  1  \n",
       "3      1.0                      0     0.800000  1  \n",
       "4      1.0                      0     1.000000  1  "
      ]
     },
     "execution_count": 31,
     "metadata": {},
     "output_type": "execute_result"
    }
   ],
   "source": [
    "# Reorder the df to be ready \n",
    "new_arrangement= ['State', 'Term', 'NoEmp', 'LowDoc',  'is53', 'isRealEstate',\n",
    "       'sizeOfBusiness', 'isFranchise', 'isExist', 'isDueInGreatRecession',\n",
    "       'SBA_portion','Y']\n",
    "SBA_national_final=SBA_national_final[new_arrangement]\n",
    "SBA_national_final.head()"
   ]
  },
  {
   "cell_type": "markdown",
   "metadata": {},
   "source": [
    "# Demo about min model accuracy?"
   ]
  },
  {
   "cell_type": "markdown",
   "metadata": {},
   "source": [
    "**What is sufficient Accuracy:**\n",
    "\n",
    "1- Case1:\n",
    "\n",
    "Y:\n",
    "\n",
    "    1-> 80\n",
    "    \n",
    "    0->20\n",
    "    \n",
    "**Model Accuracy > 80%**\n",
    "\n",
    "2- Case2:\n",
    "\n",
    "Y:\n",
    "\n",
    "    1-> 50\n",
    "    \n",
    "    0->50\n",
    "    \n",
    "**Model Accuracy > 50%**"
   ]
  },
  {
   "cell_type": "code",
   "execution_count": 42,
   "metadata": {},
   "outputs": [
    {
     "data": {
      "text/plain": [
       "isRealEstate\n",
       "0    744706\n",
       "1    152088\n",
       "Name: SBA_portion, dtype: int64"
      ]
     },
     "execution_count": 42,
     "metadata": {},
     "output_type": "execute_result"
    }
   ],
   "source": [
    "SBA_national_final.groupby(['isRealEstate'])['SBA_portion'].count()"
   ]
  },
  {
   "cell_type": "code",
   "execution_count": 43,
   "metadata": {},
   "outputs": [
    {
     "data": {
      "text/html": [
       "<div>\n",
       "<style scoped>\n",
       "    .dataframe tbody tr th:only-of-type {\n",
       "        vertical-align: middle;\n",
       "    }\n",
       "\n",
       "    .dataframe tbody tr th {\n",
       "        vertical-align: top;\n",
       "    }\n",
       "\n",
       "    .dataframe thead th {\n",
       "        text-align: right;\n",
       "    }\n",
       "</style>\n",
       "<table border=\"1\" class=\"dataframe\">\n",
       "  <thead>\n",
       "    <tr style=\"text-align: right;\">\n",
       "      <th></th>\n",
       "      <th>isRealEstate</th>\n",
       "      <th>Y</th>\n",
       "      <th>SBA_portion</th>\n",
       "    </tr>\n",
       "  </thead>\n",
       "  <tbody>\n",
       "    <tr>\n",
       "      <td>0</td>\n",
       "      <td>0</td>\n",
       "      <td>0</td>\n",
       "      <td>154944</td>\n",
       "    </tr>\n",
       "    <tr>\n",
       "      <td>1</td>\n",
       "      <td>0</td>\n",
       "      <td>1</td>\n",
       "      <td>589762</td>\n",
       "    </tr>\n",
       "    <tr>\n",
       "      <td>2</td>\n",
       "      <td>1</td>\n",
       "      <td>0</td>\n",
       "      <td>2470</td>\n",
       "    </tr>\n",
       "    <tr>\n",
       "      <td>3</td>\n",
       "      <td>1</td>\n",
       "      <td>1</td>\n",
       "      <td>149618</td>\n",
       "    </tr>\n",
       "  </tbody>\n",
       "</table>\n",
       "</div>"
      ],
      "text/plain": [
       "   isRealEstate  Y  SBA_portion\n",
       "0             0  0       154944\n",
       "1             0  1       589762\n",
       "2             1  0         2470\n",
       "3             1  1       149618"
      ]
     },
     "execution_count": 43,
     "metadata": {},
     "output_type": "execute_result"
    }
   ],
   "source": [
    "new_df= SBA_national_final.groupby(['isRealEstate','Y'])['SBA_portion'].count().reset_index()\n",
    "new_df"
   ]
  },
  {
   "cell_type": "code",
   "execution_count": 44,
   "metadata": {},
   "outputs": [
    {
     "data": {
      "text/plain": [
       "<matplotlib.axes._subplots.AxesSubplot at 0x25d0afbb508>"
      ]
     },
     "execution_count": 44,
     "metadata": {},
     "output_type": "execute_result"
    },
    {
     "data": {
      "image/png": "[encoded data removed]",
      "text/plain": [
       "<Figure size 432x288 with 1 Axes>"
      ]
     },
     "metadata": {
      "needs_background": "light"
     },
     "output_type": "display_data"
    }
   ],
   "source": [
    "sns.barplot(data =new_df, x= 'isRealEstate', y= 'SBA_portion', hue= 'Y')"
   ]
  },
  {
   "cell_type": "markdown",
   "metadata": {},
   "source": [
    "# End Demo"
   ]
  },
  {
   "cell_type": "code",
   "execution_count": 45,
   "metadata": {},
   "outputs": [
    {
     "data": {
      "text/plain": [
       "Index(['State', 'Term', 'NoEmp', 'LowDoc', 'is53', 'isRealEstate',\n",
       "       'sizeOfBusiness', 'isFranchise', 'isExist', 'isDueInGreatRecession',\n",
       "       'SBA_portion', 'Y'],\n",
       "      dtype='object')"
      ]
     },
     "execution_count": 45,
     "metadata": {},
     "output_type": "execute_result"
    }
   ],
   "source": [
    "SBA_national_final.columns"
   ]
  },
  {
   "cell_type": "markdown",
   "metadata": {},
   "source": [
    "# Section2: Fulfill The Requirements"
   ]
  },
  {
   "cell_type": "markdown",
   "metadata": {},
   "source": [
    "## 1. Data Prep and Exploration (20%)"
   ]
  },
  {
   "cell_type": "markdown",
   "metadata": {},
   "source": [
    "**1. Load the data and do your initial preparation. How many observations and variables do you have?**\n",
    "\n",
    "Note That: Now we use the data after processing not Initial Data\n"
   ]
  },
  {
   "cell_type": "code",
   "execution_count": 46,
   "metadata": {},
   "outputs": [],
   "source": [
    "loans= SBA_national_final.copy()"
   ]
  },
  {
   "cell_type": "code",
   "execution_count": 47,
   "metadata": {},
   "outputs": [
    {
     "name": "stdout",
     "output_type": "stream",
     "text": [
      "Number of Rows of the dataset is:  896794\n",
      "Number of Columns of the dataset is:  12\n"
     ]
    }
   ],
   "source": [
    "print('Number of Rows of the dataset is: ', loans.shape[0])\n",
    "print('Number of Columns of the dataset is: ', loans.shape[1])"
   ]
  },
  {
   "cell_type": "markdown",
   "metadata": {},
   "source": [
    "**2. Select a 25% sample of the data for use in testing.**\n",
    "\n",
    "We divide the Data into Train and Test with 75% - 25% respictively, (The Train Data is Further divided into fake_train and fake_test -> For Tuning data)"
   ]
  },
  {
   "cell_type": "code",
   "execution_count": 48,
   "metadata": {},
   "outputs": [],
   "source": [
    "# Train test split\n",
    "test = loans.sample(frac=0.25,random_state=rng)\n",
    "train_mask = pd.Series(True, index=loans.index)\n",
    "train_mask[test.index] = False\n",
    "train = loans[train_mask].copy()\n",
    "# Make Tuning Train Test (Fake Train/test)\n",
    "fake_test = train.sample(frac=0.2, random_state=rng)\n",
    "fake_train_mask = pd.Series(True, index=train.index)\n",
    "fake_train_mask[fake_test.index] = False\n",
    "fake_train = train[fake_train_mask].copy()\n",
    "# X and Y columns\n",
    "train_x = train.iloc[:, :-1]\n",
    "train_y = train.iloc[:, -1]\n",
    "test_x = test.iloc[:, :-1]\n",
    "test_y = test.iloc[:, -1]"
   ]
  },
  {
   "cell_type": "markdown",
   "metadata": {},
   "source": [
    "Train /Test\n",
    "Train(train/ tune) / Test\n",
    "model(train) -> model(tune) - did I like the performance?\n",
    "model(Train) -> Test  - did I like the performance? Go ahead \n",
    "Repeat!\n"
   ]
  },
  {
   "cell_type": "markdown",
   "metadata": {},
   "source": [
    "**3. Describe the distribution of the outcome variable. What is the majority class?**\n"
   ]
  },
  {
   "cell_type": "code",
   "execution_count": 50,
   "metadata": {},
   "outputs": [
    {
     "data": {
      "text/plain": [
       "1    554837\n",
       "0    117759\n",
       "Name: Y, dtype: int64"
      ]
     },
     "execution_count": 50,
     "metadata": {},
     "output_type": "execute_result"
    }
   ],
   "source": [
    "train_y.value_counts()"
   ]
  },
  {
   "cell_type": "markdown",
   "metadata": {},
   "source": [
    "The data has 554837 of 1s and 117759 of 0s, Thus the majority is the 1s."
   ]
  },
  {
   "cell_type": "markdown",
   "metadata": {},
   "source": [
    "**4. What is the accuracy, precision, and recall of the majority-class classifier on the test data?**\n"
   ]
  },
  {
   "cell_type": "code",
   "execution_count": 51,
   "metadata": {},
   "outputs": [
    {
     "name": "stdout",
     "output_type": "stream",
     "text": [
      "Accuracy for this Model is :  0.8231250947822907\n",
      "Percision for this Model is :  0.8231250947822907\n",
      "Recal for this Model is :  1.0\n",
      "Specificity for this Model is :  0.0\n"
     ]
    }
   ],
   "source": [
    "majority_classifier_predict= [1 for i in range (0, len(test_y))]\n",
    "tn, fp, fn, tp = confusion_matrix(test_y, majority_classifier_predict).ravel()\n",
    "accuracy= (tp+tn)/(tp+tn+fp+fn)\n",
    "percision= tp/(tp+fp)\n",
    "recal= tp/(tp+fn)\n",
    "specificity = tn / (tn+fp)\n",
    "print('Accuracy for this Model is : ', accuracy)\n",
    "print('Percision for this Model is : ', percision)\n",
    "print('Recal for this Model is : ', recal)\n",
    "print('Specificity for this Model is : ', specificity)"
   ]
  },
  {
   "cell_type": "markdown",
   "metadata": {},
   "source": [
    "**5. Identify some variables that, based on your understanding and reading (e.g. the source paper!) are likely to be useful for predicting default. Describe them, your motivation, their distribution, and their relationship to outcomes (in the training data). Do feature transformations you Ønd useful here as well. You may need to create interaction features, or do other feature transformations.**"
   ]
  },
  {
   "cell_type": "markdown",
   "metadata": {},
   "source": [
    "So, This is illustrated more on The Section1 of this notebook and this is an extenson to it. We used those features as they are morelikely to be good predictors according to our own opinions and influnced by the paper, The features are:\n",
    "['State', 'Term', 'NoEmp', 'LowDoc', 'is53', 'isRealEstate', 'sizeOfBusiness', 'isFranchise', 'isExist', 'isDueInGreatRecession','SBA_portion', 'Y']\n",
    "\n",
    "Some explanations:\n",
    "1. The State variable to see it there is a relation between states and output and to do the next part of the assignement along with the 'is53' column.\n",
    "2. Those features are influnced by the reading ['isRealEstate', 'isExist', 'isDueInGreatRecession','SBA_portion' ], all of them are drived from the original dataset and 'isExist' is filled its nulls by the help of the 'isFranchise' as we though if a business is a ranchise then it is not new!\n",
    "3. The 'sizeOfBusiness' feature here is a sum of the NoEmp, CreateJob, RetainedJob as they mean the size of employees!\n",
    "\n"
   ]
  },
  {
   "cell_type": "markdown",
   "metadata": {},
   "source": [
    "## 2. Subset Model (15%)\n"
   ]
  },
  {
   "cell_type": "code",
   "execution_count": 52,
   "metadata": {},
   "outputs": [],
   "source": [
    "# Make Tuning Train Test (Train/tune)\n",
    "# Take the Original Train/ Test and subset them with conditions\n",
    "# Split the trainSubset into subsetTrain / subsetTune\n",
    "#Try different features -> get best one\n",
    "# Apply on testSubset\n",
    "trainSubset=train.loc[(train[\"State\"]==\"CA\")&(train[\"is53\"]== 1), :]\n",
    "testSubset=test.loc[(test[\"State\"]==\"CA\")&(test[\"is53\"]==1), :]\n",
    "\n",
    "subsetTune = trainSubset.sample(frac=0.2)\n",
    "subsetTrain_mask = pd.Series(True, index=trainSubset.index)\n",
    "subsetTrain_mask[subsetTune.index] = False\n",
    "subsetTrain = trainSubset[subsetTrain_mask].copy()"
   ]
  },
  {
   "cell_type": "markdown",
   "metadata": {},
   "source": [
    "### 2.1 First set of features"
   ]
  },
  {
   "cell_type": "code",
   "execution_count": 55,
   "metadata": {},
   "outputs": [
    {
     "name": "stdout",
     "output_type": "stream",
     "text": [
      "Accuracy of Model on The Training Data :  Y    0.643312\n",
      "dtype: float64\n",
      "Accuracy of Model on Tuning Data:  0.6560509554140127\n"
     ]
    },
    {
     "name": "stderr",
     "output_type": "stream",
     "text": [
      "C:\\Users\\YOUSRA\\Anaconda3\\lib\\site-packages\\sklearn\\linear_model\\logistic.py:432: FutureWarning: Default solver will be changed to 'lbfgs' in 0.22. Specify a solver to silence this warning.\n",
      "  FutureWarning)\n",
      "C:\\Users\\YOUSRA\\Anaconda3\\lib\\site-packages\\sklearn\\utils\\validation.py:724: DataConversionWarning: A column-vector y was passed when a 1d array was expected. Please change the shape of y to (n_samples, ), for example using ravel().\n",
      "  y = column_or_1d(y, warn=True)\n"
     ]
    }
   ],
   "source": [
    "# Set the features/ output colun/ Model\n",
    "subset_features1= ['is53','isExist', 'isDueInGreatRecession', 'SBA_portion', 'isFranchise']\n",
    "out_col= ['Y']\n",
    "lg_subset=LogisticRegression()\n",
    "#Make x,y splits on Train data\n",
    "trainSubset_x = subsetTrain[subset_features1]\n",
    "trainSubset_y = subsetTrain[out_col]\n",
    "#Now on Tune Data\n",
    "tuneSubset_x = subsetTune[subset_features1]\n",
    "tuneSubset_y = subsetTune[out_col]\n",
    "#Fit the model and predict on Tune data\n",
    "lg_subset.fit(trainSubset_x, trainSubset_y)\n",
    "predicted_output = lg_subset.predict(tuneSubset_x)\n",
    "#Calculate accuracy\n",
    "print('Accuracy of Model on The Training Data : ', np.mean(tuneSubset_y))\n",
    "print('Accuracy of Model on Tuning Data: ',accuracy_score(tuneSubset_y, predicted_output))"
   ]
  },
  {
   "cell_type": "code",
   "execution_count": 56,
   "metadata": {},
   "outputs": [
    {
     "name": "stdout",
     "output_type": "stream",
     "text": [
      "Accuracy of Model on The Training Data :  Y    0.643312\n",
      "dtype: float64\n",
      "Accuracy of Model on Tuning Data:  0.6305732484076433\n"
     ]
    },
    {
     "name": "stderr",
     "output_type": "stream",
     "text": [
      "C:\\Users\\YOUSRA\\Anaconda3\\lib\\site-packages\\sklearn\\linear_model\\logistic.py:432: FutureWarning: Default solver will be changed to 'lbfgs' in 0.22. Specify a solver to silence this warning.\n",
      "  FutureWarning)\n",
      "C:\\Users\\YOUSRA\\Anaconda3\\lib\\site-packages\\sklearn\\utils\\validation.py:724: DataConversionWarning: A column-vector y was passed when a 1d array was expected. Please change the shape of y to (n_samples, ), for example using ravel().\n",
      "  y = column_or_1d(y, warn=True)\n"
     ]
    }
   ],
   "source": [
    "# Set the features/ output colun/ Model\n",
    "subset_features1= ['is53','isExist',  'SBA_portion', 'isFranchise']\n",
    "out_col= ['Y']\n",
    "lg_subset=LogisticRegression()\n",
    "#Make x,y splits on Train data\n",
    "trainSubset_x = subsetTrain[subset_features1]\n",
    "trainSubset_y = subsetTrain[out_col]\n",
    "#Now on Tune Data\n",
    "tuneSubset_x = subsetTune[subset_features1]\n",
    "tuneSubset_y = subsetTune[out_col]\n",
    "#Fit the model and predict on Tune data\n",
    "lg_subset.fit(trainSubset_x, trainSubset_y)\n",
    "predicted_output = lg_subset.predict(tuneSubset_x)\n",
    "#Calculate accuracy\n",
    "print('Accuracy of Model on The Training Data : ', np.mean(tuneSubset_y))\n",
    "print('Accuracy of Model on Tuning Data: ',accuracy_score(tuneSubset_y, predicted_output))"
   ]
  },
  {
   "cell_type": "markdown",
   "metadata": {},
   "source": [
    "Train (train - Tune data ) --> model(train) -> prediction= model(tune)\n",
    "prediction = 0.710\n",
    "actual - tune[y] = num of 1's / (num of 1' + num 0's) = 0.719\n",
    "majority class classifier = 100% \n"
   ]
  },
  {
   "cell_type": "markdown",
   "metadata": {},
   "source": [
    "**This means we are doing a better accuracy with this model than the majority class classifier which has accuracy of 67% **"
   ]
  },
  {
   "cell_type": "markdown",
   "metadata": {},
   "source": [
    "### 2.2 Second set of features"
   ]
  },
  {
   "cell_type": "code",
   "execution_count": 39,
   "metadata": {},
   "outputs": [
    {
     "name": "stdout",
     "output_type": "stream",
     "text": [
      "Accuracy of Model on The Training Data :  Y    0.719745\n",
      "dtype: float64\n",
      "Accuracy of Model on Tuning Data:  0.7006369426751592\n"
     ]
    },
    {
     "name": "stderr",
     "output_type": "stream",
     "text": [
      "C:\\Users\\YOUSRA\\Anaconda3\\lib\\site-packages\\sklearn\\linear_model\\logistic.py:432: FutureWarning: Default solver will be changed to 'lbfgs' in 0.22. Specify a solver to silence this warning.\n",
      "  FutureWarning)\n",
      "C:\\Users\\YOUSRA\\Anaconda3\\lib\\site-packages\\sklearn\\utils\\validation.py:724: DataConversionWarning: A column-vector y was passed when a 1d array was expected. Please change the shape of y to (n_samples, ), for example using ravel().\n",
      "  y = column_or_1d(y, warn=True)\n"
     ]
    }
   ],
   "source": [
    "# Set the features/ output column/ Model\n",
    "subset_features2= ['is53','isExist', 'isDueInGreatRecession', 'SBA_portion', 'sizeOfBusiness']\n",
    "out_col= ['Y']\n",
    "lg_subset2=LogisticRegression()\n",
    "#Make x,y splits on Train data\n",
    "trainSubset_x = subsetTrain[subset_features2]\n",
    "trainSubset_y = subsetTrain[out_col]\n",
    "#Now on Tune Data\n",
    "tuneSubset_x = subsetTune[subset_features2]\n",
    "tuneSubset_y = subsetTune[out_col]\n",
    "#Fit the model and predict on Tune data\n",
    "lg_subset2.fit(trainSubset_x, trainSubset_y)\n",
    "predicted_output = lg_subset2.predict(tuneSubset_x)\n",
    "#Calculate accuracy\n",
    "print('Accuracy of Model on The Training Data : ', np.mean(tuneSubset_y))\n",
    "print('Accuracy of Model on Tuning Data: ',accuracy_score(tuneSubset_y, predicted_output))"
   ]
  },
  {
   "cell_type": "markdown",
   "metadata": {},
   "source": [
    "**Comparing the accuracy from the 2 models the first one is doing better, so we pick it as our Final model to apply on test data and see its results**"
   ]
  },
  {
   "cell_type": "markdown",
   "metadata": {},
   "source": [
    "### 2.3 Final Subset Model "
   ]
  },
  {
   "cell_type": "code",
   "execution_count": 40,
   "metadata": {},
   "outputs": [],
   "source": [
    "trainSubset=train.loc[(train[\"State\"]==\"CA\")&(train[\"is53\"]== 1), :]\n",
    "testSubset=test.loc[(test[\"State\"]==\"CA\")&(test[\"is53\"]==1), :]"
   ]
  },
  {
   "cell_type": "code",
   "execution_count": 41,
   "metadata": {},
   "outputs": [
    {
     "name": "stdout",
     "output_type": "stream",
     "text": [
      "Accuracy of Model on The Training Data :  Y    0.689046\n",
      "dtype: float64\n",
      "Accuracy of Model on Testing Data:  0.6855123674911661\n"
     ]
    },
    {
     "name": "stderr",
     "output_type": "stream",
     "text": [
      "C:\\Users\\YOUSRA\\Anaconda3\\lib\\site-packages\\sklearn\\linear_model\\logistic.py:432: FutureWarning: Default solver will be changed to 'lbfgs' in 0.22. Specify a solver to silence this warning.\n",
      "  FutureWarning)\n",
      "C:\\Users\\YOUSRA\\Anaconda3\\lib\\site-packages\\sklearn\\utils\\validation.py:724: DataConversionWarning: A column-vector y was passed when a 1d array was expected. Please change the shape of y to (n_samples, ), for example using ravel().\n",
      "  y = column_or_1d(y, warn=True)\n"
     ]
    }
   ],
   "source": [
    "# Set the features/ output colun/ Model\n",
    "final_subset_features= subset_features1\n",
    "out_col= ['Y']\n",
    "finalModel1=LogisticRegression()\n",
    "#Make x,y splits on Train data\n",
    "trainSubset_x = trainSubset[subset_features2]\n",
    "trainSubset_y = trainSubset[out_col]\n",
    "#Now on Tune Data\n",
    "testSubset_x = testSubset[subset_features2]\n",
    "testSubset_y = testSubset[out_col]\n",
    "#Fit the model and predict on Tune data\n",
    "finalModel1.fit(trainSubset_x, trainSubset_y)\n",
    "predicted_output = finalModel1.predict(testSubset_x)\n",
    "#Calculate accuracy\n",
    "print('Accuracy of Model on The Training Data : ', np.mean(testSubset_y))\n",
    "print('Accuracy of Model on Testing Data: ',accuracy_score(testSubset_y, predicted_output))"
   ]
  },
  {
   "cell_type": "markdown",
   "metadata": {},
   "source": [
    "**The model is making less accuracy than the majority class classifier for the test data even that it was doing better on the tune data, Which is Not good!!**"
   ]
  },
  {
   "cell_type": "markdown",
   "metadata": {},
   "source": [
    "# Added Section - Extra Work"
   ]
  },
  {
   "cell_type": "markdown",
   "metadata": {},
   "source": [
    "\n",
    "## 3. Full Model (20%)"
   ]
  },
  {
   "cell_type": "code",
   "execution_count": 42,
   "metadata": {},
   "outputs": [],
   "source": [
    "### First make a Train/Tune Data for the Full dataset"
   ]
  },
  {
   "cell_type": "code",
   "execution_count": 43,
   "metadata": {},
   "outputs": [],
   "source": [
    "# Make Tuning Train  (Fake Train/test)\n",
    "fake_test = train.sample(frac=0.2, random_state=rng)\n",
    "fake_train_mask = pd.Series(True, index=train.index)\n",
    "fake_train_mask[fake_test.index] = False\n",
    "fake_train = train[fake_train_mask].copy()"
   ]
  },
  {
   "cell_type": "markdown",
   "metadata": {},
   "source": [
    "### 3.1 Using the Model from the Subset model on Test Data"
   ]
  },
  {
   "cell_type": "code",
   "execution_count": 44,
   "metadata": {},
   "outputs": [
    {
     "name": "stderr",
     "output_type": "stream",
     "text": [
      "C:\\Users\\YOUSRA\\Anaconda3\\lib\\site-packages\\sklearn\\linear_model\\logistic.py:432: FutureWarning: Default solver will be changed to 'lbfgs' in 0.22. Specify a solver to silence this warning.\n",
      "  FutureWarning)\n",
      "C:\\Users\\YOUSRA\\Anaconda3\\lib\\site-packages\\sklearn\\utils\\validation.py:724: DataConversionWarning: A column-vector y was passed when a 1d array was expected. Please change the shape of y to (n_samples, ), for example using ravel().\n",
      "  y = column_or_1d(y, warn=True)\n"
     ]
    },
    {
     "name": "stdout",
     "output_type": "stream",
     "text": [
      "Accuracy of Model on The Training Data :  Y    0.825824\n",
      "dtype: float64\n",
      "Accuracy of Model on Testing Data:  0.8258238613132717\n"
     ]
    }
   ],
   "source": [
    "# Set the features/ output colun/ Model\n",
    "final_subset_features= subset_features1\n",
    "out_col= ['Y']\n",
    "finalModel1=LogisticRegression()\n",
    "#Make x,y splits on Train data\n",
    "train_x = fake_train[final_subset_features]\n",
    "train_y = fake_train[out_col]\n",
    "#Now on Tune Data\n",
    "test_x = fake_test[final_subset_features]\n",
    "test_y = fake_test[out_col]\n",
    "#Fit the model and predict on Tune data\n",
    "finalModel1.fit(train_x, train_y)\n",
    "predicted_output = finalModel1.predict(test_x)\n",
    "#Calculate accuracy\n",
    "print('Accuracy of Model on The Training Data : ', np.mean(test_y))\n",
    "print('Accuracy of Model on Testing Data: ',accuracy_score(test_y, predicted_output))"
   ]
  },
  {
   "cell_type": "markdown",
   "metadata": {},
   "source": [
    "**The model from the subset model is doing slightly below the majority class classifier**"
   ]
  },
  {
   "cell_type": "markdown",
   "metadata": {},
   "source": [
    "### 3.2 Use Another Model ( Other Features as State as Onehotencoder)\n",
    "So here we use the States column and Standrizing the sizeOfBusiness and SBA_portion columns"
   ]
  },
  {
   "cell_type": "code",
   "execution_count": 45,
   "metadata": {},
   "outputs": [],
   "source": [
    "# Set the features/ output colun/ Model\n",
    "all_features = ['State', 'LowDoc', 'is53', 'isRealEstate',\n",
    "       'sizeOfBusiness', 'isFranchise', 'isExist', 'isDueInGreatRecession',\n",
    "       'SBA_portion',]\n",
    "full_model_features2= all_features\n",
    "out_col= ['Y']\n",
    "finalModel1=LogisticRegression()\n",
    "#Make x,y splits on Train data\n",
    "train_x = fake_train[full_model_features2]\n",
    "train_y = fake_train[out_col]\n",
    "#Now on Tune Data\n",
    "tune_x = fake_test[full_model_features2]\n",
    "tune_y = fake_test[out_col]"
   ]
  },
  {
   "cell_type": "code",
   "execution_count": 46,
   "metadata": {},
   "outputs": [
    {
     "name": "stderr",
     "output_type": "stream",
     "text": [
      "C:\\Users\\YOUSRA\\Anaconda3\\lib\\site-packages\\sklearn\\linear_model\\logistic.py:432: FutureWarning: Default solver will be changed to 'lbfgs' in 0.22. Specify a solver to silence this warning.\n",
      "  FutureWarning)\n",
      "C:\\Users\\YOUSRA\\Anaconda3\\lib\\site-packages\\sklearn\\utils\\validation.py:724: DataConversionWarning: A column-vector y was passed when a 1d array was expected. Please change the shape of y to (n_samples, ), for example using ravel().\n",
      "  y = column_or_1d(y, warn=True)\n"
     ]
    },
    {
     "name": "stdout",
     "output_type": "stream",
     "text": [
      "Accuracy of Model on The Training Data :  Y    0.825824\n",
      "dtype: float64\n",
      "Accuracy of Model on Tuning Data:  0.826076613712561\n"
     ]
    }
   ],
   "source": [
    "column_trans = ColumnTransformer(\n",
    "   [('dummyCode', OneHotEncoder(dtype='int'),[\"State\"]),\n",
    "     ('standardize', StandardScaler(), ['SBA_portion', 'sizeOfBusiness'])],\n",
    "     remainder='passthrough')\n",
    "column_trans.fit(train_x)\n",
    "# Transform features of Tune and Train values\n",
    "train_transformed= column_trans.transform(train_x)\n",
    "test_transformed= column_trans.transform(tune_x)\n",
    "\n",
    "finalModel1=LogisticRegression()\n",
    "finalModel1.fit(train_transformed, train_y)\n",
    "predicted_output = finalModel1.predict(test_transformed)\n",
    "#Calculate accuracy\n",
    "print('Accuracy of Model on The Training Data : ', np.mean(tune_y))\n",
    "print('Accuracy of Model on Tuning Data: ',accuracy_score(tune_y, predicted_output))"
   ]
  },
  {
   "cell_type": "markdown",
   "metadata": {},
   "source": [
    "**This model is doing slightly better than the one form subset model so we pick this one to test on the test data**"
   ]
  },
  {
   "cell_type": "markdown",
   "metadata": {},
   "source": [
    "### 3.2 Choose the best model (based on accuracy) and test it on test data"
   ]
  },
  {
   "cell_type": "code",
   "execution_count": 47,
   "metadata": {},
   "outputs": [],
   "source": [
    "# Set the features/ output colun/ Model\n",
    "all_features = ['State', 'LowDoc', 'is53', 'isRealEstate',\n",
    "       'sizeOfBusiness', 'isFranchise', 'isExist', 'isDueInGreatRecession',\n",
    "       'SBA_portion',]\n",
    "full_model_features2= all_features\n",
    "out_col= ['Y']\n",
    "finalModel1=LogisticRegression()\n",
    "#Make x,y splits on Train/Test data\n",
    "train_x = train[full_model_features2]\n",
    "train_y = train[out_col]\n",
    "#Now on Tune Data\n",
    "test_x = test[full_model_features2]\n",
    "test_y = test[out_col]"
   ]
  },
  {
   "cell_type": "code",
   "execution_count": 48,
   "metadata": {},
   "outputs": [
    {
     "name": "stderr",
     "output_type": "stream",
     "text": [
      "C:\\Users\\YOUSRA\\Anaconda3\\lib\\site-packages\\sklearn\\linear_model\\logistic.py:432: FutureWarning: Default solver will be changed to 'lbfgs' in 0.22. Specify a solver to silence this warning.\n",
      "  FutureWarning)\n",
      "C:\\Users\\YOUSRA\\Anaconda3\\lib\\site-packages\\sklearn\\utils\\validation.py:724: DataConversionWarning: A column-vector y was passed when a 1d array was expected. Please change the shape of y to (n_samples, ), for example using ravel().\n",
      "  y = column_or_1d(y, warn=True)\n"
     ]
    },
    {
     "name": "stdout",
     "output_type": "stream",
     "text": [
      "Accuracy of Model on The Training Data :  Y    0.823125\n",
      "dtype: float64\n",
      "Accuracy of Model on Tuning Data:  0.8234060963969349\n"
     ]
    }
   ],
   "source": [
    "column_trans = ColumnTransformer(\n",
    "   [('Encoding', OneHotEncoder(dtype='int'),[\"State\"]),\n",
    "     ('standardize', StandardScaler(), ['SBA_portion', 'sizeOfBusiness'])],\n",
    "     remainder='passthrough')\n",
    "column_trans.fit(train_x)\n",
    "# Transform features of Tune and Train values\n",
    "train_transformed= column_trans.transform(train_x)\n",
    "test_transformed= column_trans.transform(test_x)\n",
    "\n",
    "finalModel1=LogisticRegression()\n",
    "finalModel1.fit(train_transformed, train_y)\n",
    "predicted_output1 = finalModel1.predict(test_transformed)\n",
    "#Calculate accuracy\n",
    "print('Accuracy of Model on The Training Data : ', np.mean(test_y))\n",
    "print('Accuracy of Model on Tuning Data: ',accuracy_score(test_y, predicted_output1))"
   ]
  },
  {
   "cell_type": "markdown",
   "metadata": {},
   "source": [
    "**It is doing slightly better than the majority class classifier, so ok!**"
   ]
  },
  {
   "cell_type": "markdown",
   "metadata": {},
   "source": [
    "## 4. Lasso Regression (15%)"
   ]
  },
  {
   "cell_type": "code",
   "execution_count": 49,
   "metadata": {},
   "outputs": [],
   "source": [
    "# Set the features/ output colun/ Model\n",
    "all_features = [ 'LowDoc', 'is53', 'isExist', 'isDueInGreatRecession',\n",
    "       'SBA_portion',]\n",
    "full_model_features2= all_features\n",
    "out_col= ['Y']\n",
    "finalModel1=LogisticRegression()\n",
    "#Make x,y splits on Train/Test data\n",
    "train_x = train[full_model_features2]\n",
    "train_y = train[out_col]\n",
    "#Now on Tune Data\n",
    "test_x = test[full_model_features2]\n",
    "test_y = test[out_col]\n",
    "\n",
    "#Use Transformer for columns\n",
    "column_trans = ColumnTransformer(\n",
    "   [#('dummyCode', OneHotEncoder(dtype='int'),[\"State\"]),\n",
    "     ('standardize', StandardScaler(), ['SBA_portion'])],\n",
    "     remainder='passthrough')\n",
    "column_trans.fit(train_x)\n",
    "# Transform features of Tune and Train values\n",
    "train_transformed= column_trans.transform(train_x)\n",
    "test_transformed= column_trans.transform(test_x)\n"
   ]
  },
  {
   "cell_type": "code",
   "execution_count": 50,
   "metadata": {},
   "outputs": [
    {
     "name": "stderr",
     "output_type": "stream",
     "text": [
      "C:\\Users\\YOUSRA\\Anaconda3\\lib\\site-packages\\sklearn\\utils\\validation.py:724: DataConversionWarning: A column-vector y was passed when a 1d array was expected. Please change the shape of y to (n_samples, ), for example using ravel().\n",
      "  y = column_or_1d(y, warn=True)\n",
      "C:\\Users\\YOUSRA\\Anaconda3\\lib\\site-packages\\sklearn\\model_selection\\_split.py:1978: FutureWarning: The default value of cv will change from 3 to 5 in version 0.22. Specify it explicitly to silence this warning.\n",
      "  warnings.warn(CV_WARNING, FutureWarning)\n"
     ]
    },
    {
     "name": "stdout",
     "output_type": "stream",
     "text": [
      "Accuracy of Model on Testing Data:  0.8231250947822907\n"
     ]
    }
   ],
   "source": [
    "# Fit \n",
    "lasso_pipe = Pipeline([\n",
    "    ('classify', LogisticRegressionCV(penalty='l1', solver='saga'))\n",
    "])\n",
    "lasso_pipe.fit(train_transformed, train_y)\n",
    "predicted_output2 = lasso_pipe.predict(test_transformed)\n",
    "#Test on Tuning Data\n",
    "print('Accuracy of Model on Testing Data: ',accuracy_score(test_y, predicted_output2))"
   ]
  },
  {
   "cell_type": "markdown",
   "metadata": {},
   "source": [
    "## 4. Elasticnets (15%)"
   ]
  },
  {
   "cell_type": "code",
   "execution_count": 51,
   "metadata": {},
   "outputs": [],
   "source": [
    "# Set the features/ output colun/ Model\n",
    "all_features = [ 'LowDoc', 'is53', 'isExist', 'isDueInGreatRecession',\n",
    "       'SBA_portion',]\n",
    "full_model_features2= all_features\n",
    "out_col= ['Y']\n",
    "finalModel1=LogisticRegression()\n",
    "#Make x,y splits on Train/Test data\n",
    "train_x = train[full_model_features2]\n",
    "train_y = train[out_col]\n",
    "#Now on Tune Data\n",
    "test_x = test[full_model_features2]\n",
    "test_y = test[out_col]\n",
    "\n",
    "#Use Transformer for columns\n",
    "column_trans = ColumnTransformer(\n",
    "   [#('dummyCode', OneHotEncoder(dtype='int'),[\"State\"]),\n",
    "     ('standardize', StandardScaler(), ['SBA_portion'])],\n",
    "     remainder='passthrough')\n",
    "column_trans.fit(train_x)\n",
    "# Transform features of Tune and Train values\n",
    "train_transformed= column_trans.transform(train_x)\n",
    "test_transformed= column_trans.transform(test_x)\n"
   ]
  },
  {
   "cell_type": "code",
   "execution_count": 52,
   "metadata": {},
   "outputs": [
    {
     "name": "stderr",
     "output_type": "stream",
     "text": [
      "C:\\Users\\YOUSRA\\Anaconda3\\lib\\site-packages\\sklearn\\utils\\validation.py:724: DataConversionWarning: A column-vector y was passed when a 1d array was expected. Please change the shape of y to (n_samples, ), for example using ravel().\n",
      "  y = column_or_1d(y, warn=True)\n",
      "C:\\Users\\YOUSRA\\Anaconda3\\lib\\site-packages\\sklearn\\model_selection\\_split.py:1978: FutureWarning: The default value of cv will change from 3 to 5 in version 0.22. Specify it explicitly to silence this warning.\n",
      "  warnings.warn(CV_WARNING, FutureWarning)\n"
     ]
    },
    {
     "name": "stdout",
     "output_type": "stream",
     "text": [
      "Accuracy of Model on Testing Data:  0.8231250947822907\n"
     ]
    }
   ],
   "source": [
    "elasticnet_pipe = Pipeline([\n",
    "    ('classify', LogisticRegressionCV(penalty='elasticnet', solver='saga', l1_ratios=np.linspace(0, 1, 5)))\n",
    "])\n",
    "\n",
    "elasticnet_pipe.fit(train_transformed, train_y)\n",
    "predicted_output3 = elasticnet_pipe.predict(test_transformed)\n",
    "#Test on Tuning Data\n",
    "print('Accuracy of Model on Testing Data: ',accuracy_score(test_y, predicted_output3))"
   ]
  },
  {
   "cell_type": "markdown",
   "metadata": {},
   "source": [
    "## 5. Random Forest (10%)"
   ]
  },
  {
   "cell_type": "code",
   "execution_count": 53,
   "metadata": {},
   "outputs": [],
   "source": [
    "# Set the features/ output colun/ Model\n",
    "all_features = ['LowDoc', 'is53', 'isExist', 'isDueInGreatRecession',\n",
    "       'SBA_portion',]\n",
    "full_model_features2= all_features\n",
    "out_col= ['Y']\n",
    "finalModel1=LogisticRegression()\n",
    "#Make x,y splits on Train/Test data\n",
    "train_x = train[full_model_features2]\n",
    "train_y = train[out_col]\n",
    "#Now on Tune Data\n",
    "test_x = test[full_model_features2]\n",
    "test_y = test[out_col]\n",
    "\n",
    "#Use Transformer for columns\n",
    "column_trans = ColumnTransformer(\n",
    "   [#('dummyCode', OneHotEncoder(dtype='int'),[\"State\"]),\n",
    "     ('standardize', StandardScaler(), ['SBA_portion'])],\n",
    "     remainder='passthrough')\n",
    "column_trans.fit(train_x)\n",
    "# Transform features of Tune and Train values\n",
    "train_transformed= column_trans.transform(train_x)\n",
    "test_transformed= column_trans.transform(test_x)\n"
   ]
  },
  {
   "cell_type": "code",
   "execution_count": 54,
   "metadata": {},
   "outputs": [
    {
     "name": "stderr",
     "output_type": "stream",
     "text": [
      "C:\\Users\\YOUSRA\\Anaconda3\\lib\\site-packages\\sklearn\\pipeline.py:356: DataConversionWarning: A column-vector y was passed when a 1d array was expected. Please change the shape of y to (n_samples,), for example using ravel().\n",
      "  self._final_estimator.fit(Xt, y, **fit_params)\n"
     ]
    },
    {
     "name": "stdout",
     "output_type": "stream",
     "text": [
      "Accuracy of Model on Testing Data:  0.8232678257611575\n"
     ]
    }
   ],
   "source": [
    "randomForrest_pipe = Pipeline([\n",
    "    ('classify', RandomForestClassifier(n_estimators=100, criterion= 'entropy', max_depth=None ))\n",
    "])\n",
    "randomForrest_pipe.fit(train_transformed, train_y)\n",
    "predicted_output4 = randomForrest_pipe.predict(test_transformed)\n",
    "#Test on Tuning Data\n",
    "print('Accuracy of Model on Testing Data: ',accuracy_score(test_y, predicted_output4))"
   ]
  },
  {
   "cell_type": "markdown",
   "metadata": {},
   "source": [
    "# End of Added Section - Extra Work"
   ]
  },
  {
   "cell_type": "markdown",
   "metadata": {},
   "source": [
    "## 6. Final Summary (10%)"
   ]
  },
  {
   "cell_type": "markdown",
   "metadata": {},
   "source": [
    "### 6.1 Calculate metrics for all 4 models"
   ]
  },
  {
   "cell_type": "code",
   "execution_count": 55,
   "metadata": {},
   "outputs": [],
   "source": [
    "accuracy_arr= []\n",
    "percision_arr= []\n",
    "recal_arr= []\n",
    "specificity_arr = []\n",
    "cost_arr=[]\n",
    "model_names=['Model1', 'Lasso', 'Elasticnet', 'RandomForrest']"
   ]
  },
  {
   "cell_type": "markdown",
   "metadata": {},
   "source": [
    "#### 6.1.1 Model1"
   ]
  },
  {
   "cell_type": "code",
   "execution_count": 56,
   "metadata": {},
   "outputs": [
    {
     "name": "stdout",
     "output_type": "stream",
     "text": [
      "Accuracy for this Model is :  0.8234060963969349\n",
      "Percision for this Model is :  0.8237638092855579\n",
      "Recal for this Model is :  0.9992359504288973\n",
      "Specificity for this Model is :  0.0051443701929138825\n",
      "Cost for this Model is :  40156\n"
     ]
    }
   ],
   "source": [
    "tn, fp, fn, tp = confusion_matrix(test_y, predicted_output1).ravel()\n",
    "accuracy= (tp+tn)/(tp+tn+fp+fn)\n",
    "percision= tp/(tp+fp)\n",
    "recal= tp/(tp+fn)\n",
    "specificity = tn / (tn+fp)\n",
    "accuracy_arr.append(accuracy)\n",
    "percision_arr.append(percision)\n",
    "recal_arr.append(recal)\n",
    "specificity_arr.append(specificity)\n",
    "model_cost= fn*5 + fp\n",
    "cost_arr.append(model_cost)\n",
    "print('Accuracy for this Model is : ', accuracy)\n",
    "print('Percision for this Model is : ', percision)\n",
    "print('Recal for this Model is : ', recal)\n",
    "print('Specificity for this Model is : ', specificity)\n",
    "print('Cost for this Model is : ', model_cost)"
   ]
  },
  {
   "cell_type": "markdown",
   "metadata": {},
   "source": [
    "#### 6.1.2 Model2 (Lasso)"
   ]
  },
  {
   "cell_type": "code",
   "execution_count": 57,
   "metadata": {},
   "outputs": [
    {
     "name": "stdout",
     "output_type": "stream",
     "text": [
      "Accuracy for this Model is :  0.8231250947822907\n",
      "Percision for this Model is :  0.8231250947822907\n",
      "Recal for this Model is :  1.0\n",
      "Specificity for this Model is :  0.0\n",
      "Cost for this Model is :  39655\n"
     ]
    }
   ],
   "source": [
    "tn, fp, fn, tp = confusion_matrix(test_y, predicted_output2).ravel()\n",
    "accuracy= (tp+tn)/(tp+tn+fp+fn)\n",
    "percision= tp/(tp+fp)\n",
    "recal= tp/(tp+fn)\n",
    "specificity = tn / (tn+fp)\n",
    "accuracy_arr.append(accuracy)\n",
    "percision_arr.append(percision)\n",
    "recal_arr.append(recal)\n",
    "specificity_arr.append(specificity)\n",
    "model_cost= fn*5 + fp\n",
    "cost_arr.append(model_cost)\n",
    "print('Accuracy for this Model is : ', accuracy)\n",
    "print('Percision for this Model is : ', percision)\n",
    "print('Recal for this Model is : ', recal)\n",
    "print('Specificity for this Model is : ', specificity)\n",
    "print('Cost for this Model is : ', model_cost)"
   ]
  },
  {
   "cell_type": "markdown",
   "metadata": {},
   "source": [
    "#### 6.1.3 Model3 (Elasticnet)"
   ]
  },
  {
   "cell_type": "code",
   "execution_count": 58,
   "metadata": {},
   "outputs": [
    {
     "name": "stdout",
     "output_type": "stream",
     "text": [
      "Accuracy for this Model is :  0.8231250947822907\n",
      "Percision for this Model is :  0.8231250947822907\n",
      "Recal for this Model is :  1.0\n",
      "Specificity for this Model is :  0.0\n",
      "Cost for this Model is :  39655\n"
     ]
    }
   ],
   "source": [
    "tn, fp, fn, tp = confusion_matrix(test_y, predicted_output3).ravel()\n",
    "accuracy= (tp+tn)/(tp+tn+fp+fn)\n",
    "percision= tp/(tp+fp)\n",
    "recal= tp/(tp+fn)\n",
    "specificity = tn / (tn+fp)\n",
    "accuracy_arr.append(accuracy)\n",
    "percision_arr.append(percision)\n",
    "recal_arr.append(recal)\n",
    "specificity_arr.append(specificity)\n",
    "model_cost= fn*5 + fp\n",
    "cost_arr.append(model_cost)\n",
    "print('Accuracy for this Model is : ', accuracy)\n",
    "print('Percision for this Model is : ', percision)\n",
    "print('Recal for this Model is : ', recal)\n",
    "print('Specificity for this Model is : ', specificity)\n",
    "print('Cost for this Model is : ', model_cost)"
   ]
  },
  {
   "cell_type": "markdown",
   "metadata": {},
   "source": [
    "#### 6.1.4 Model4 (RandomForest)"
   ]
  },
  {
   "cell_type": "code",
   "execution_count": 59,
   "metadata": {},
   "outputs": [
    {
     "name": "stdout",
     "output_type": "stream",
     "text": [
      "Accuracy for this Model is :  0.8232678257611575\n",
      "Percision for this Model is :  0.8265935294276726\n",
      "Recal for this Model is :  0.9937683900229215\n",
      "Specificity for this Model is :  0.029807086117765728\n",
      "Cost for this Model is :  44223\n"
     ]
    }
   ],
   "source": [
    "tn, fp, fn, tp = confusion_matrix(test_y, predicted_output4).ravel()\n",
    "accuracy= (tp+tn)/(tp+tn+fp+fn)\n",
    "percision= tp/(tp+fp)\n",
    "recal= tp/(tp+fn)\n",
    "specificity = tn / (tn+fp)\n",
    "accuracy_arr.append(accuracy)\n",
    "percision_arr.append(percision)\n",
    "recal_arr.append(recal)\n",
    "specificity_arr.append(specificity)\n",
    "model_cost= fn*5 + fp\n",
    "cost_arr.append(model_cost)\n",
    "print('Accuracy for this Model is : ', accuracy)\n",
    "print('Percision for this Model is : ', percision)\n",
    "print('Recal for this Model is : ', recal)\n",
    "print('Specificity for this Model is : ', specificity)\n",
    "print('Cost for this Model is : ', model_cost)"
   ]
  },
  {
   "cell_type": "markdown",
   "metadata": {},
   "source": [
    "### 6.2 Plot the metrics for all 4 models"
   ]
  },
  {
   "cell_type": "markdown",
   "metadata": {},
   "source": [
    "#### 6.2.1 Accuracy Plot"
   ]
  },
  {
   "cell_type": "code",
   "execution_count": 60,
   "metadata": {},
   "outputs": [
    {
     "data": {
      "text/plain": [
       "Text(0, 0.5, 'Accuracy')"
      ]
     },
     "execution_count": 60,
     "metadata": {},
     "output_type": "execute_result"
    },
    {
     "data": {
      "image/png": "[encoded data removed]",
      "text/plain": [
       "<Figure size 432x288 with 1 Axes>"
      ]
     },
     "metadata": {
      "needs_background": "light"
     },
     "output_type": "display_data"
    }
   ],
   "source": [
    "sns.barplot(x=model_names, y=accuracy_arr)\n",
    "plt.title('Accuracy plot accross the different models', fontsize=18)\n",
    "plt.xlabel('Model Name', fontsize=12)\n",
    "plt.ylabel('Accuracy', fontsize=12)"
   ]
  },
  {
   "cell_type": "markdown",
   "metadata": {},
   "source": [
    "#### 6.2.2 Precision Plot"
   ]
  },
  {
   "cell_type": "code",
   "execution_count": 61,
   "metadata": {},
   "outputs": [
    {
     "data": {
      "text/plain": [
       "Text(0, 0.5, 'Precision')"
      ]
     },
     "execution_count": 61,
     "metadata": {},
     "output_type": "execute_result"
    },
    {
     "data": {
      "image/png": "[encoded data removed]",
      "text/plain": [
       "<Figure size 432x288 with 1 Axes>"
      ]
     },
     "metadata": {
      "needs_background": "light"
     },
     "output_type": "display_data"
    }
   ],
   "source": [
    "sns.barplot(x=model_names, y=percision_arr)\n",
    "plt.title('Precision plot accross the different models', fontsize=18)\n",
    "plt.xlabel('Model Name', fontsize=12)\n",
    "plt.ylabel('Precision', fontsize=12)"
   ]
  },
  {
   "cell_type": "code",
   "execution_count": 62,
   "metadata": {},
   "outputs": [],
   "source": [
    "#### 6.2.3 Recall Plot"
   ]
  },
  {
   "cell_type": "code",
   "execution_count": 63,
   "metadata": {},
   "outputs": [
    {
     "data": {
      "text/plain": [
       "Text(0, 0.5, 'Recall')"
      ]
     },
     "execution_count": 63,
     "metadata": {},
     "output_type": "execute_result"
    },
    {
     "data": {
      "image/png": "[encoded data removed]",
      "text/plain": [
       "<Figure size 432x288 with 1 Axes>"
      ]
     },
     "metadata": {
      "needs_background": "light"
     },
     "output_type": "display_data"
    }
   ],
   "source": [
    "sns.barplot(x=model_names, y=recal_arr)\n",
    "plt.title('Recall plot accross the different models', fontsize=18)\n",
    "plt.xlabel('Model Name', fontsize=12)\n",
    "plt.ylabel('Recall', fontsize=12)"
   ]
  },
  {
   "cell_type": "code",
   "execution_count": 64,
   "metadata": {},
   "outputs": [],
   "source": [
    "#### 6.2.4 Specificity Plot"
   ]
  },
  {
   "cell_type": "code",
   "execution_count": 65,
   "metadata": {},
   "outputs": [
    {
     "data": {
      "text/plain": [
       "Text(0, 0.5, 'Specificity')"
      ]
     },
     "execution_count": 65,
     "metadata": {},
     "output_type": "execute_result"
    },
    {
     "data": {
      "image/png": "[encoded data removed]",
      "text/plain": [
       "<Figure size 432x288 with 1 Axes>"
      ]
     },
     "metadata": {
      "needs_background": "light"
     },
     "output_type": "display_data"
    }
   ],
   "source": [
    "sns.barplot(x=model_names, y=specificity_arr)\n",
    "plt.title('Specificity plot accross the different models', fontsize=18)\n",
    "plt.xlabel('Model Name', fontsize=12)\n",
    "plt.ylabel('Specificity', fontsize=12)"
   ]
  },
  {
   "cell_type": "code",
   "execution_count": 66,
   "metadata": {},
   "outputs": [],
   "source": [
    "#### 6.2.5 Cost Plot"
   ]
  },
  {
   "cell_type": "code",
   "execution_count": 67,
   "metadata": {},
   "outputs": [
    {
     "data": {
      "text/plain": [
       "Text(0, 0.5, 'Cost')"
      ]
     },
     "execution_count": 67,
     "metadata": {},
     "output_type": "execute_result"
    },
    {
     "data": {
      "image/png": "[encoded data removed]",
      "text/plain": [
       "<Figure size 432x288 with 1 Axes>"
      ]
     },
     "metadata": {
      "needs_background": "light"
     },
     "output_type": "display_data"
    }
   ],
   "source": [
    "sns.barplot(x=model_names, y=cost_arr)\n",
    "plt.title('Cost plot accross the different models', fontsize=18)\n",
    "plt.xlabel('Model Name', fontsize=12)\n",
    "plt.ylabel('Cost', fontsize=12)"
   ]
  },
  {
   "cell_type": "markdown",
   "metadata": {},
   "source": [
    "**From the plots above we can see that regarding the accuracy and precision and recall metrics al models are close, but for the specifity metric only the random forrest does better, the cost function has lasso and elasticnets exactly the same and the randomforrest is exceeding but by much** "
   ]
  },
  {
   "cell_type": "markdown",
   "metadata": {},
   "source": [
    "### 6.4 Write the conclusion\n",
    "Write 2-3 paragraphs about what you learn about your model performance and the usefulness of different features."
   ]
  },
  {
   "cell_type": "markdown",
   "metadata": {},
   "source": [
    "    There are a lot of things that we learned in this assignement, from the start of to clean the data and do some logic that came basically from understanding the problem and the features evry well, We could save a lot of rows from the drop function by substituting from other related columns! Also we came to the importance of having the datase to be documented as we got most of our feature selection from the dataset as some data cleaning steps! The features that we used are 'States' which gave us a better accuracy when used with tuning data but not much difference with test data but when used with the lasso regressor it took too much time to run! also elasticnet! The other features we used are ['LowDoc', 'is53', 'isRealEstate','sizeOfBusiness', 'isFranchise', 'isExist', 'isDueInGreatRecession','SBA_portion',] and we noticed that removing the Lasso and Elastic net are doing same performance which means that the L2 normalization part is probably turned off, making no difference! \n",
    "    We realize now that our models are not doing better than the majority class classifier and it needs more sophisticated feature engineering, also when feeding it to the Lasso model we got the same accuracy which means we need to feed it more features or do more operations and manipulations on features!"
   ]
  },
  {
   "cell_type": "markdown",
   "metadata": {},
   "source": [
    "Questions:\n",
    "1. Logistic Regression!\n",
    "2. Dummy Encoder\n",
    "3. Onehotencoder.\n",
    "4. Continous vs Categorical Data.\n",
    "5. MajorityClass Classifier?\n",
    "6. Confusion Matrix?\n",
    "7. Accuracy vs Specifity vs Precision vs Recall ?\n",
    "8. Which metric to choose for this application?"
   ]
  },
  {
   "cell_type": "markdown",
   "metadata": {},
   "source": [
    "# The End"
   ]
  }
 ],
 "metadata": {
  "kernelspec": {
   "display_name": "Python 3",
   "language": "python",
   "name": "python3"
  },
  "language_info": {
   "codemirror_mode": {
    "name": "ipython",
    "version": 3
   },
   "file_extension": ".py",
   "mimetype": "text/x-python",
   "name": "python",
   "nbconvert_exporter": "python",
   "pygments_lexer": "ipython3",
   "version": "3.7.4"
  }
 },
 "nbformat": 4,
 "nbformat_minor": 2
}
